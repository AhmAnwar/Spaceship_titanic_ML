{
 "cells": [
  {
   "cell_type": "markdown",
   "id": "31ee6ba9",
   "metadata": {
    "papermill": {
     "duration": 0.012251,
     "end_time": "2023-08-15T11:22:23.638082",
     "exception": false,
     "start_time": "2023-08-15T11:22:23.625831",
     "status": "completed"
    },
    "tags": []
   },
   "source": [
    "# import libraries"
   ]
  },
  {
   "cell_type": "code",
   "execution_count": 1,
   "id": "b6797756",
   "metadata": {
    "execution": {
     "iopub.execute_input": "2023-08-15T11:22:23.663875Z",
     "iopub.status.busy": "2023-08-15T11:22:23.663532Z",
     "iopub.status.idle": "2023-08-15T11:22:25.181514Z",
     "shell.execute_reply": "2023-08-15T11:22:25.180569Z"
    },
    "papermill": {
     "duration": 1.533138,
     "end_time": "2023-08-15T11:22:25.183827",
     "exception": false,
     "start_time": "2023-08-15T11:22:23.650689",
     "status": "completed"
    },
    "tags": []
   },
   "outputs": [
    {
     "name": "stderr",
     "output_type": "stream",
     "text": [
      "/opt/conda/lib/python3.10/site-packages/scipy/__init__.py:146: UserWarning: A NumPy version >=1.16.5 and <1.23.0 is required for this version of SciPy (detected version 1.23.5\n",
      "  warnings.warn(f\"A NumPy version >={np_minversion} and <{np_maxversion}\"\n"
     ]
    }
   ],
   "source": [
    "import numpy as np\n",
    "import pandas as pd\n",
    "import plotly.express as px\n",
    "import sklearn"
   ]
  },
  {
   "cell_type": "markdown",
   "id": "2ad028ae",
   "metadata": {
    "papermill": {
     "duration": 0.011337,
     "end_time": "2023-08-15T11:22:25.207468",
     "exception": false,
     "start_time": "2023-08-15T11:22:25.196131",
     "status": "completed"
    },
    "tags": []
   },
   "source": [
    "# import dataset"
   ]
  },
  {
   "cell_type": "code",
   "execution_count": 2,
   "id": "dfa2bc53",
   "metadata": {
    "execution": {
     "iopub.execute_input": "2023-08-15T11:22:25.232095Z",
     "iopub.status.busy": "2023-08-15T11:22:25.231747Z",
     "iopub.status.idle": "2023-08-15T11:22:25.266246Z",
     "shell.execute_reply": "2023-08-15T11:22:25.265223Z"
    },
    "papermill": {
     "duration": 0.048796,
     "end_time": "2023-08-15T11:22:25.267967",
     "exception": false,
     "start_time": "2023-08-15T11:22:25.219171",
     "status": "completed"
    },
    "tags": []
   },
   "outputs": [
    {
     "data": {
      "text/html": [
       "<div>\n",
       "<style scoped>\n",
       "    .dataframe tbody tr th:only-of-type {\n",
       "        vertical-align: middle;\n",
       "    }\n",
       "\n",
       "    .dataframe tbody tr th {\n",
       "        vertical-align: top;\n",
       "    }\n",
       "\n",
       "    .dataframe thead th {\n",
       "        text-align: right;\n",
       "    }\n",
       "</style>\n",
       "<table border=\"1\" class=\"dataframe\">\n",
       "  <thead>\n",
       "    <tr style=\"text-align: right;\">\n",
       "      <th></th>\n",
       "      <th>PassengerId</th>\n",
       "      <th>Transported</th>\n",
       "    </tr>\n",
       "  </thead>\n",
       "  <tbody>\n",
       "    <tr>\n",
       "      <th>0</th>\n",
       "      <td>0013_01</td>\n",
       "      <td>False</td>\n",
       "    </tr>\n",
       "    <tr>\n",
       "      <th>1</th>\n",
       "      <td>0018_01</td>\n",
       "      <td>False</td>\n",
       "    </tr>\n",
       "    <tr>\n",
       "      <th>2</th>\n",
       "      <td>0019_01</td>\n",
       "      <td>False</td>\n",
       "    </tr>\n",
       "    <tr>\n",
       "      <th>3</th>\n",
       "      <td>0021_01</td>\n",
       "      <td>False</td>\n",
       "    </tr>\n",
       "    <tr>\n",
       "      <th>4</th>\n",
       "      <td>0023_01</td>\n",
       "      <td>False</td>\n",
       "    </tr>\n",
       "  </tbody>\n",
       "</table>\n",
       "</div>"
      ],
      "text/plain": [
       "  PassengerId  Transported\n",
       "0     0013_01        False\n",
       "1     0018_01        False\n",
       "2     0019_01        False\n",
       "3     0021_01        False\n",
       "4     0023_01        False"
      ]
     },
     "execution_count": 2,
     "metadata": {},
     "output_type": "execute_result"
    }
   ],
   "source": [
    "sample_submission = pd.read_csv('/kaggle/input/spaceship-titanic/sample_submission.csv')\n",
    "sample_submission.head()"
   ]
  },
  {
   "cell_type": "code",
   "execution_count": 3,
   "id": "d69695bf",
   "metadata": {
    "execution": {
     "iopub.execute_input": "2023-08-15T11:22:25.294069Z",
     "iopub.status.busy": "2023-08-15T11:22:25.293746Z",
     "iopub.status.idle": "2023-08-15T11:22:25.333414Z",
     "shell.execute_reply": "2023-08-15T11:22:25.332197Z"
    },
    "papermill": {
     "duration": 0.05479,
     "end_time": "2023-08-15T11:22:25.335398",
     "exception": false,
     "start_time": "2023-08-15T11:22:25.280608",
     "status": "completed"
    },
    "tags": []
   },
   "outputs": [
    {
     "data": {
      "text/html": [
       "<div>\n",
       "<style scoped>\n",
       "    .dataframe tbody tr th:only-of-type {\n",
       "        vertical-align: middle;\n",
       "    }\n",
       "\n",
       "    .dataframe tbody tr th {\n",
       "        vertical-align: top;\n",
       "    }\n",
       "\n",
       "    .dataframe thead th {\n",
       "        text-align: right;\n",
       "    }\n",
       "</style>\n",
       "<table border=\"1\" class=\"dataframe\">\n",
       "  <thead>\n",
       "    <tr style=\"text-align: right;\">\n",
       "      <th></th>\n",
       "      <th>PassengerId</th>\n",
       "      <th>HomePlanet</th>\n",
       "      <th>CryoSleep</th>\n",
       "      <th>Cabin</th>\n",
       "      <th>Destination</th>\n",
       "      <th>Age</th>\n",
       "      <th>VIP</th>\n",
       "      <th>RoomService</th>\n",
       "      <th>FoodCourt</th>\n",
       "      <th>ShoppingMall</th>\n",
       "      <th>Spa</th>\n",
       "      <th>VRDeck</th>\n",
       "      <th>Name</th>\n",
       "    </tr>\n",
       "  </thead>\n",
       "  <tbody>\n",
       "    <tr>\n",
       "      <th>0</th>\n",
       "      <td>0013_01</td>\n",
       "      <td>Earth</td>\n",
       "      <td>True</td>\n",
       "      <td>G/3/S</td>\n",
       "      <td>TRAPPIST-1e</td>\n",
       "      <td>27.0</td>\n",
       "      <td>False</td>\n",
       "      <td>0.0</td>\n",
       "      <td>0.0</td>\n",
       "      <td>0.0</td>\n",
       "      <td>0.0</td>\n",
       "      <td>0.0</td>\n",
       "      <td>Nelly Carsoning</td>\n",
       "    </tr>\n",
       "    <tr>\n",
       "      <th>1</th>\n",
       "      <td>0018_01</td>\n",
       "      <td>Earth</td>\n",
       "      <td>False</td>\n",
       "      <td>F/4/S</td>\n",
       "      <td>TRAPPIST-1e</td>\n",
       "      <td>19.0</td>\n",
       "      <td>False</td>\n",
       "      <td>0.0</td>\n",
       "      <td>9.0</td>\n",
       "      <td>0.0</td>\n",
       "      <td>2823.0</td>\n",
       "      <td>0.0</td>\n",
       "      <td>Lerome Peckers</td>\n",
       "    </tr>\n",
       "    <tr>\n",
       "      <th>2</th>\n",
       "      <td>0019_01</td>\n",
       "      <td>Europa</td>\n",
       "      <td>True</td>\n",
       "      <td>C/0/S</td>\n",
       "      <td>55 Cancri e</td>\n",
       "      <td>31.0</td>\n",
       "      <td>False</td>\n",
       "      <td>0.0</td>\n",
       "      <td>0.0</td>\n",
       "      <td>0.0</td>\n",
       "      <td>0.0</td>\n",
       "      <td>0.0</td>\n",
       "      <td>Sabih Unhearfus</td>\n",
       "    </tr>\n",
       "    <tr>\n",
       "      <th>3</th>\n",
       "      <td>0021_01</td>\n",
       "      <td>Europa</td>\n",
       "      <td>False</td>\n",
       "      <td>C/1/S</td>\n",
       "      <td>TRAPPIST-1e</td>\n",
       "      <td>38.0</td>\n",
       "      <td>False</td>\n",
       "      <td>0.0</td>\n",
       "      <td>6652.0</td>\n",
       "      <td>0.0</td>\n",
       "      <td>181.0</td>\n",
       "      <td>585.0</td>\n",
       "      <td>Meratz Caltilter</td>\n",
       "    </tr>\n",
       "    <tr>\n",
       "      <th>4</th>\n",
       "      <td>0023_01</td>\n",
       "      <td>Earth</td>\n",
       "      <td>False</td>\n",
       "      <td>F/5/S</td>\n",
       "      <td>TRAPPIST-1e</td>\n",
       "      <td>20.0</td>\n",
       "      <td>False</td>\n",
       "      <td>10.0</td>\n",
       "      <td>0.0</td>\n",
       "      <td>635.0</td>\n",
       "      <td>0.0</td>\n",
       "      <td>0.0</td>\n",
       "      <td>Brence Harperez</td>\n",
       "    </tr>\n",
       "  </tbody>\n",
       "</table>\n",
       "</div>"
      ],
      "text/plain": [
       "  PassengerId HomePlanet CryoSleep  Cabin  Destination   Age    VIP  \\\n",
       "0     0013_01      Earth      True  G/3/S  TRAPPIST-1e  27.0  False   \n",
       "1     0018_01      Earth     False  F/4/S  TRAPPIST-1e  19.0  False   \n",
       "2     0019_01     Europa      True  C/0/S  55 Cancri e  31.0  False   \n",
       "3     0021_01     Europa     False  C/1/S  TRAPPIST-1e  38.0  False   \n",
       "4     0023_01      Earth     False  F/5/S  TRAPPIST-1e  20.0  False   \n",
       "\n",
       "   RoomService  FoodCourt  ShoppingMall     Spa  VRDeck              Name  \n",
       "0          0.0        0.0           0.0     0.0     0.0   Nelly Carsoning  \n",
       "1          0.0        9.0           0.0  2823.0     0.0    Lerome Peckers  \n",
       "2          0.0        0.0           0.0     0.0     0.0   Sabih Unhearfus  \n",
       "3          0.0     6652.0           0.0   181.0   585.0  Meratz Caltilter  \n",
       "4         10.0        0.0         635.0     0.0     0.0   Brence Harperez  "
      ]
     },
     "execution_count": 3,
     "metadata": {},
     "output_type": "execute_result"
    }
   ],
   "source": [
    "test = pd.read_csv('/kaggle/input/spaceship-titanic/test.csv')\n",
    "test.head()"
   ]
  },
  {
   "cell_type": "code",
   "execution_count": 4,
   "id": "afefaa14",
   "metadata": {
    "execution": {
     "iopub.execute_input": "2023-08-15T11:22:25.361492Z",
     "iopub.status.busy": "2023-08-15T11:22:25.361108Z",
     "iopub.status.idle": "2023-08-15T11:22:25.408021Z",
     "shell.execute_reply": "2023-08-15T11:22:25.407231Z"
    },
    "papermill": {
     "duration": 0.061827,
     "end_time": "2023-08-15T11:22:25.409715",
     "exception": false,
     "start_time": "2023-08-15T11:22:25.347888",
     "status": "completed"
    },
    "tags": []
   },
   "outputs": [
    {
     "data": {
      "text/html": [
       "<div>\n",
       "<style scoped>\n",
       "    .dataframe tbody tr th:only-of-type {\n",
       "        vertical-align: middle;\n",
       "    }\n",
       "\n",
       "    .dataframe tbody tr th {\n",
       "        vertical-align: top;\n",
       "    }\n",
       "\n",
       "    .dataframe thead th {\n",
       "        text-align: right;\n",
       "    }\n",
       "</style>\n",
       "<table border=\"1\" class=\"dataframe\">\n",
       "  <thead>\n",
       "    <tr style=\"text-align: right;\">\n",
       "      <th></th>\n",
       "      <th>PassengerId</th>\n",
       "      <th>HomePlanet</th>\n",
       "      <th>CryoSleep</th>\n",
       "      <th>Cabin</th>\n",
       "      <th>Destination</th>\n",
       "      <th>Age</th>\n",
       "      <th>VIP</th>\n",
       "      <th>RoomService</th>\n",
       "      <th>FoodCourt</th>\n",
       "      <th>ShoppingMall</th>\n",
       "      <th>Spa</th>\n",
       "      <th>VRDeck</th>\n",
       "      <th>Name</th>\n",
       "      <th>Transported</th>\n",
       "    </tr>\n",
       "  </thead>\n",
       "  <tbody>\n",
       "    <tr>\n",
       "      <th>0</th>\n",
       "      <td>0001_01</td>\n",
       "      <td>Europa</td>\n",
       "      <td>False</td>\n",
       "      <td>B/0/P</td>\n",
       "      <td>TRAPPIST-1e</td>\n",
       "      <td>39.0</td>\n",
       "      <td>False</td>\n",
       "      <td>0.0</td>\n",
       "      <td>0.0</td>\n",
       "      <td>0.0</td>\n",
       "      <td>0.0</td>\n",
       "      <td>0.0</td>\n",
       "      <td>Maham Ofracculy</td>\n",
       "      <td>False</td>\n",
       "    </tr>\n",
       "    <tr>\n",
       "      <th>1</th>\n",
       "      <td>0002_01</td>\n",
       "      <td>Earth</td>\n",
       "      <td>False</td>\n",
       "      <td>F/0/S</td>\n",
       "      <td>TRAPPIST-1e</td>\n",
       "      <td>24.0</td>\n",
       "      <td>False</td>\n",
       "      <td>109.0</td>\n",
       "      <td>9.0</td>\n",
       "      <td>25.0</td>\n",
       "      <td>549.0</td>\n",
       "      <td>44.0</td>\n",
       "      <td>Juanna Vines</td>\n",
       "      <td>True</td>\n",
       "    </tr>\n",
       "    <tr>\n",
       "      <th>2</th>\n",
       "      <td>0003_01</td>\n",
       "      <td>Europa</td>\n",
       "      <td>False</td>\n",
       "      <td>A/0/S</td>\n",
       "      <td>TRAPPIST-1e</td>\n",
       "      <td>58.0</td>\n",
       "      <td>True</td>\n",
       "      <td>43.0</td>\n",
       "      <td>3576.0</td>\n",
       "      <td>0.0</td>\n",
       "      <td>6715.0</td>\n",
       "      <td>49.0</td>\n",
       "      <td>Altark Susent</td>\n",
       "      <td>False</td>\n",
       "    </tr>\n",
       "    <tr>\n",
       "      <th>3</th>\n",
       "      <td>0003_02</td>\n",
       "      <td>Europa</td>\n",
       "      <td>False</td>\n",
       "      <td>A/0/S</td>\n",
       "      <td>TRAPPIST-1e</td>\n",
       "      <td>33.0</td>\n",
       "      <td>False</td>\n",
       "      <td>0.0</td>\n",
       "      <td>1283.0</td>\n",
       "      <td>371.0</td>\n",
       "      <td>3329.0</td>\n",
       "      <td>193.0</td>\n",
       "      <td>Solam Susent</td>\n",
       "      <td>False</td>\n",
       "    </tr>\n",
       "    <tr>\n",
       "      <th>4</th>\n",
       "      <td>0004_01</td>\n",
       "      <td>Earth</td>\n",
       "      <td>False</td>\n",
       "      <td>F/1/S</td>\n",
       "      <td>TRAPPIST-1e</td>\n",
       "      <td>16.0</td>\n",
       "      <td>False</td>\n",
       "      <td>303.0</td>\n",
       "      <td>70.0</td>\n",
       "      <td>151.0</td>\n",
       "      <td>565.0</td>\n",
       "      <td>2.0</td>\n",
       "      <td>Willy Santantines</td>\n",
       "      <td>True</td>\n",
       "    </tr>\n",
       "  </tbody>\n",
       "</table>\n",
       "</div>"
      ],
      "text/plain": [
       "  PassengerId HomePlanet CryoSleep  Cabin  Destination   Age    VIP  \\\n",
       "0     0001_01     Europa     False  B/0/P  TRAPPIST-1e  39.0  False   \n",
       "1     0002_01      Earth     False  F/0/S  TRAPPIST-1e  24.0  False   \n",
       "2     0003_01     Europa     False  A/0/S  TRAPPIST-1e  58.0   True   \n",
       "3     0003_02     Europa     False  A/0/S  TRAPPIST-1e  33.0  False   \n",
       "4     0004_01      Earth     False  F/1/S  TRAPPIST-1e  16.0  False   \n",
       "\n",
       "   RoomService  FoodCourt  ShoppingMall     Spa  VRDeck               Name  \\\n",
       "0          0.0        0.0           0.0     0.0     0.0    Maham Ofracculy   \n",
       "1        109.0        9.0          25.0   549.0    44.0       Juanna Vines   \n",
       "2         43.0     3576.0           0.0  6715.0    49.0      Altark Susent   \n",
       "3          0.0     1283.0         371.0  3329.0   193.0       Solam Susent   \n",
       "4        303.0       70.0         151.0   565.0     2.0  Willy Santantines   \n",
       "\n",
       "   Transported  \n",
       "0        False  \n",
       "1         True  \n",
       "2        False  \n",
       "3        False  \n",
       "4         True  "
      ]
     },
     "execution_count": 4,
     "metadata": {},
     "output_type": "execute_result"
    }
   ],
   "source": [
    "train = pd.read_csv('/kaggle/input/spaceship-titanic/train.csv')\n",
    "train.head()"
   ]
  },
  {
   "cell_type": "markdown",
   "id": "91f12f56",
   "metadata": {
    "papermill": {
     "duration": 0.011987,
     "end_time": "2023-08-15T11:22:25.434426",
     "exception": false,
     "start_time": "2023-08-15T11:22:25.422439",
     "status": "completed"
    },
    "tags": []
   },
   "source": [
    "# data processing and prepare"
   ]
  },
  {
   "cell_type": "markdown",
   "id": "120b000c",
   "metadata": {
    "papermill": {
     "duration": 0.011605,
     "end_time": "2023-08-15T11:22:25.457996",
     "exception": false,
     "start_time": "2023-08-15T11:22:25.446391",
     "status": "completed"
    },
    "tags": []
   },
   "source": [
    "# train data"
   ]
  },
  {
   "cell_type": "code",
   "execution_count": 5,
   "id": "1d086627",
   "metadata": {
    "execution": {
     "iopub.execute_input": "2023-08-15T11:22:25.483429Z",
     "iopub.status.busy": "2023-08-15T11:22:25.482859Z",
     "iopub.status.idle": "2023-08-15T11:22:25.511601Z",
     "shell.execute_reply": "2023-08-15T11:22:25.510703Z"
    },
    "papermill": {
     "duration": 0.043729,
     "end_time": "2023-08-15T11:22:25.513563",
     "exception": false,
     "start_time": "2023-08-15T11:22:25.469834",
     "status": "completed"
    },
    "tags": []
   },
   "outputs": [
    {
     "name": "stdout",
     "output_type": "stream",
     "text": [
      "<class 'pandas.core.frame.DataFrame'>\n",
      "RangeIndex: 8693 entries, 0 to 8692\n",
      "Data columns (total 14 columns):\n",
      " #   Column        Non-Null Count  Dtype  \n",
      "---  ------        --------------  -----  \n",
      " 0   PassengerId   8693 non-null   object \n",
      " 1   HomePlanet    8492 non-null   object \n",
      " 2   CryoSleep     8476 non-null   object \n",
      " 3   Cabin         8494 non-null   object \n",
      " 4   Destination   8511 non-null   object \n",
      " 5   Age           8514 non-null   float64\n",
      " 6   VIP           8490 non-null   object \n",
      " 7   RoomService   8512 non-null   float64\n",
      " 8   FoodCourt     8510 non-null   float64\n",
      " 9   ShoppingMall  8485 non-null   float64\n",
      " 10  Spa           8510 non-null   float64\n",
      " 11  VRDeck        8505 non-null   float64\n",
      " 12  Name          8493 non-null   object \n",
      " 13  Transported   8693 non-null   bool   \n",
      "dtypes: bool(1), float64(6), object(7)\n",
      "memory usage: 891.5+ KB\n"
     ]
    }
   ],
   "source": [
    "train.info()"
   ]
  },
  {
   "cell_type": "code",
   "execution_count": 6,
   "id": "ddee4b2d",
   "metadata": {
    "execution": {
     "iopub.execute_input": "2023-08-15T11:22:25.542189Z",
     "iopub.status.busy": "2023-08-15T11:22:25.541792Z",
     "iopub.status.idle": "2023-08-15T11:22:25.557538Z",
     "shell.execute_reply": "2023-08-15T11:22:25.556792Z"
    },
    "papermill": {
     "duration": 0.032412,
     "end_time": "2023-08-15T11:22:25.559098",
     "exception": false,
     "start_time": "2023-08-15T11:22:25.526686",
     "status": "completed"
    },
    "tags": []
   },
   "outputs": [
    {
     "data": {
      "text/plain": [
       "PassengerId       0\n",
       "HomePlanet      201\n",
       "CryoSleep       217\n",
       "Cabin           199\n",
       "Destination     182\n",
       "Age             179\n",
       "VIP             203\n",
       "RoomService     181\n",
       "FoodCourt       183\n",
       "ShoppingMall    208\n",
       "Spa             183\n",
       "VRDeck          188\n",
       "Name            200\n",
       "Transported       0\n",
       "dtype: int64"
      ]
     },
     "execution_count": 6,
     "metadata": {},
     "output_type": "execute_result"
    }
   ],
   "source": [
    "train.isnull().sum()"
   ]
  },
  {
   "cell_type": "code",
   "execution_count": 7,
   "id": "d1fc1612",
   "metadata": {
    "execution": {
     "iopub.execute_input": "2023-08-15T11:22:25.585887Z",
     "iopub.status.busy": "2023-08-15T11:22:25.585507Z",
     "iopub.status.idle": "2023-08-15T11:22:25.591542Z",
     "shell.execute_reply": "2023-08-15T11:22:25.590541Z"
    },
    "papermill": {
     "duration": 0.021377,
     "end_time": "2023-08-15T11:22:25.593255",
     "exception": false,
     "start_time": "2023-08-15T11:22:25.571878",
     "status": "completed"
    },
    "tags": []
   },
   "outputs": [],
   "source": [
    "train['Age'].fillna(train['Age'].mean().round(0),inplace=True)"
   ]
  },
  {
   "cell_type": "code",
   "execution_count": 8,
   "id": "962ebaf4",
   "metadata": {
    "execution": {
     "iopub.execute_input": "2023-08-15T11:22:25.619902Z",
     "iopub.status.busy": "2023-08-15T11:22:25.619526Z",
     "iopub.status.idle": "2023-08-15T11:22:25.625225Z",
     "shell.execute_reply": "2023-08-15T11:22:25.624090Z"
    },
    "papermill": {
     "duration": 0.021358,
     "end_time": "2023-08-15T11:22:25.627080",
     "exception": false,
     "start_time": "2023-08-15T11:22:25.605722",
     "status": "completed"
    },
    "tags": []
   },
   "outputs": [],
   "source": [
    "train['FoodCourt'].fillna(train['FoodCourt'].mean(),inplace=True)"
   ]
  },
  {
   "cell_type": "code",
   "execution_count": 9,
   "id": "a5839cdd",
   "metadata": {
    "execution": {
     "iopub.execute_input": "2023-08-15T11:22:25.654224Z",
     "iopub.status.busy": "2023-08-15T11:22:25.653650Z",
     "iopub.status.idle": "2023-08-15T11:22:25.659305Z",
     "shell.execute_reply": "2023-08-15T11:22:25.658442Z"
    },
    "papermill": {
     "duration": 0.021395,
     "end_time": "2023-08-15T11:22:25.661242",
     "exception": false,
     "start_time": "2023-08-15T11:22:25.639847",
     "status": "completed"
    },
    "tags": []
   },
   "outputs": [],
   "source": [
    "train['RoomService'].fillna(train['RoomService'].mean(),inplace=True)"
   ]
  },
  {
   "cell_type": "code",
   "execution_count": 10,
   "id": "a97c53e9",
   "metadata": {
    "execution": {
     "iopub.execute_input": "2023-08-15T11:22:25.688322Z",
     "iopub.status.busy": "2023-08-15T11:22:25.687922Z",
     "iopub.status.idle": "2023-08-15T11:22:25.693795Z",
     "shell.execute_reply": "2023-08-15T11:22:25.692894Z"
    },
    "papermill": {
     "duration": 0.021634,
     "end_time": "2023-08-15T11:22:25.695636",
     "exception": false,
     "start_time": "2023-08-15T11:22:25.674002",
     "status": "completed"
    },
    "tags": []
   },
   "outputs": [],
   "source": [
    "train['ShoppingMall'].fillna(train['ShoppingMall'].mean(),inplace=True)"
   ]
  },
  {
   "cell_type": "code",
   "execution_count": 11,
   "id": "4a43bd63",
   "metadata": {
    "execution": {
     "iopub.execute_input": "2023-08-15T11:22:25.722558Z",
     "iopub.status.busy": "2023-08-15T11:22:25.722233Z",
     "iopub.status.idle": "2023-08-15T11:22:25.728015Z",
     "shell.execute_reply": "2023-08-15T11:22:25.727181Z"
    },
    "papermill": {
     "duration": 0.021493,
     "end_time": "2023-08-15T11:22:25.729824",
     "exception": false,
     "start_time": "2023-08-15T11:22:25.708331",
     "status": "completed"
    },
    "tags": []
   },
   "outputs": [],
   "source": [
    "train['Spa'].fillna(train['Spa'].mean(),inplace=True)"
   ]
  },
  {
   "cell_type": "code",
   "execution_count": 12,
   "id": "eda6dec2",
   "metadata": {
    "execution": {
     "iopub.execute_input": "2023-08-15T11:22:25.756447Z",
     "iopub.status.busy": "2023-08-15T11:22:25.756131Z",
     "iopub.status.idle": "2023-08-15T11:22:25.761546Z",
     "shell.execute_reply": "2023-08-15T11:22:25.760682Z"
    },
    "papermill": {
     "duration": 0.021155,
     "end_time": "2023-08-15T11:22:25.763616",
     "exception": false,
     "start_time": "2023-08-15T11:22:25.742461",
     "status": "completed"
    },
    "tags": []
   },
   "outputs": [],
   "source": [
    "train['VRDeck'].fillna(train['VRDeck'].mean(),inplace=True)"
   ]
  },
  {
   "cell_type": "code",
   "execution_count": 13,
   "id": "8e45cc8e",
   "metadata": {
    "execution": {
     "iopub.execute_input": "2023-08-15T11:22:25.790288Z",
     "iopub.status.busy": "2023-08-15T11:22:25.789948Z",
     "iopub.status.idle": "2023-08-15T11:22:25.805182Z",
     "shell.execute_reply": "2023-08-15T11:22:25.804329Z"
    },
    "papermill": {
     "duration": 0.030436,
     "end_time": "2023-08-15T11:22:25.807074",
     "exception": false,
     "start_time": "2023-08-15T11:22:25.776638",
     "status": "completed"
    },
    "tags": []
   },
   "outputs": [
    {
     "data": {
      "text/plain": [
       "PassengerId       0\n",
       "HomePlanet      201\n",
       "CryoSleep       217\n",
       "Cabin           199\n",
       "Destination     182\n",
       "Age               0\n",
       "VIP             203\n",
       "RoomService       0\n",
       "FoodCourt         0\n",
       "ShoppingMall      0\n",
       "Spa               0\n",
       "VRDeck            0\n",
       "Name            200\n",
       "Transported       0\n",
       "dtype: int64"
      ]
     },
     "execution_count": 13,
     "metadata": {},
     "output_type": "execute_result"
    }
   ],
   "source": [
    "train.isnull().sum()"
   ]
  },
  {
   "cell_type": "code",
   "execution_count": 14,
   "id": "924bc01d",
   "metadata": {
    "execution": {
     "iopub.execute_input": "2023-08-15T11:22:25.833928Z",
     "iopub.status.busy": "2023-08-15T11:22:25.833615Z",
     "iopub.status.idle": "2023-08-15T11:22:25.841194Z",
     "shell.execute_reply": "2023-08-15T11:22:25.839751Z"
    },
    "papermill": {
     "duration": 0.023463,
     "end_time": "2023-08-15T11:22:25.843330",
     "exception": false,
     "start_time": "2023-08-15T11:22:25.819867",
     "status": "completed"
    },
    "tags": []
   },
   "outputs": [],
   "source": [
    "train.drop(columns=['HomePlanet','CryoSleep','Cabin','Destination','VIP','Name'],axis=1,inplace=True)"
   ]
  },
  {
   "cell_type": "code",
   "execution_count": 15,
   "id": "50c91fe1",
   "metadata": {
    "execution": {
     "iopub.execute_input": "2023-08-15T11:22:25.871861Z",
     "iopub.status.busy": "2023-08-15T11:22:25.870560Z",
     "iopub.status.idle": "2023-08-15T11:22:25.879308Z",
     "shell.execute_reply": "2023-08-15T11:22:25.878683Z"
    },
    "papermill": {
     "duration": 0.023973,
     "end_time": "2023-08-15T11:22:25.880788",
     "exception": false,
     "start_time": "2023-08-15T11:22:25.856815",
     "status": "completed"
    },
    "tags": []
   },
   "outputs": [
    {
     "data": {
      "text/plain": [
       "PassengerId     0\n",
       "Age             0\n",
       "RoomService     0\n",
       "FoodCourt       0\n",
       "ShoppingMall    0\n",
       "Spa             0\n",
       "VRDeck          0\n",
       "Transported     0\n",
       "dtype: int64"
      ]
     },
     "execution_count": 15,
     "metadata": {},
     "output_type": "execute_result"
    }
   ],
   "source": [
    "train.isnull().sum()"
   ]
  },
  {
   "cell_type": "code",
   "execution_count": 16,
   "id": "810d68d1",
   "metadata": {
    "execution": {
     "iopub.execute_input": "2023-08-15T11:22:25.910124Z",
     "iopub.status.busy": "2023-08-15T11:22:25.909204Z",
     "iopub.status.idle": "2023-08-15T11:22:25.926679Z",
     "shell.execute_reply": "2023-08-15T11:22:25.925841Z"
    },
    "papermill": {
     "duration": 0.035165,
     "end_time": "2023-08-15T11:22:25.929030",
     "exception": false,
     "start_time": "2023-08-15T11:22:25.893865",
     "status": "completed"
    },
    "tags": []
   },
   "outputs": [
    {
     "data": {
      "text/plain": [
       "0"
      ]
     },
     "execution_count": 16,
     "metadata": {},
     "output_type": "execute_result"
    }
   ],
   "source": [
    "train.duplicated().sum()"
   ]
  },
  {
   "cell_type": "markdown",
   "id": "8095a229",
   "metadata": {
    "papermill": {
     "duration": 0.0144,
     "end_time": "2023-08-15T11:22:25.960094",
     "exception": false,
     "start_time": "2023-08-15T11:22:25.945694",
     "status": "completed"
    },
    "tags": []
   },
   "source": [
    "# test data"
   ]
  },
  {
   "cell_type": "code",
   "execution_count": 17,
   "id": "bff9286e",
   "metadata": {
    "execution": {
     "iopub.execute_input": "2023-08-15T11:22:25.993240Z",
     "iopub.status.busy": "2023-08-15T11:22:25.992559Z",
     "iopub.status.idle": "2023-08-15T11:22:26.008092Z",
     "shell.execute_reply": "2023-08-15T11:22:26.007316Z"
    },
    "papermill": {
     "duration": 0.033895,
     "end_time": "2023-08-15T11:22:26.009974",
     "exception": false,
     "start_time": "2023-08-15T11:22:25.976079",
     "status": "completed"
    },
    "tags": []
   },
   "outputs": [
    {
     "name": "stdout",
     "output_type": "stream",
     "text": [
      "<class 'pandas.core.frame.DataFrame'>\n",
      "RangeIndex: 4277 entries, 0 to 4276\n",
      "Data columns (total 13 columns):\n",
      " #   Column        Non-Null Count  Dtype  \n",
      "---  ------        --------------  -----  \n",
      " 0   PassengerId   4277 non-null   object \n",
      " 1   HomePlanet    4190 non-null   object \n",
      " 2   CryoSleep     4184 non-null   object \n",
      " 3   Cabin         4177 non-null   object \n",
      " 4   Destination   4185 non-null   object \n",
      " 5   Age           4186 non-null   float64\n",
      " 6   VIP           4184 non-null   object \n",
      " 7   RoomService   4195 non-null   float64\n",
      " 8   FoodCourt     4171 non-null   float64\n",
      " 9   ShoppingMall  4179 non-null   float64\n",
      " 10  Spa           4176 non-null   float64\n",
      " 11  VRDeck        4197 non-null   float64\n",
      " 12  Name          4183 non-null   object \n",
      "dtypes: float64(6), object(7)\n",
      "memory usage: 434.5+ KB\n"
     ]
    }
   ],
   "source": [
    "test.info()"
   ]
  },
  {
   "cell_type": "code",
   "execution_count": 18,
   "id": "8436f545",
   "metadata": {
    "execution": {
     "iopub.execute_input": "2023-08-15T11:22:26.040999Z",
     "iopub.status.busy": "2023-08-15T11:22:26.040652Z",
     "iopub.status.idle": "2023-08-15T11:22:26.052525Z",
     "shell.execute_reply": "2023-08-15T11:22:26.051539Z"
    },
    "papermill": {
     "duration": 0.028418,
     "end_time": "2023-08-15T11:22:26.054250",
     "exception": false,
     "start_time": "2023-08-15T11:22:26.025832",
     "status": "completed"
    },
    "tags": []
   },
   "outputs": [
    {
     "data": {
      "text/plain": [
       "PassengerId       0\n",
       "HomePlanet       87\n",
       "CryoSleep        93\n",
       "Cabin           100\n",
       "Destination      92\n",
       "Age              91\n",
       "VIP              93\n",
       "RoomService      82\n",
       "FoodCourt       106\n",
       "ShoppingMall     98\n",
       "Spa             101\n",
       "VRDeck           80\n",
       "Name             94\n",
       "dtype: int64"
      ]
     },
     "execution_count": 18,
     "metadata": {},
     "output_type": "execute_result"
    }
   ],
   "source": [
    "test.isnull().sum()"
   ]
  },
  {
   "cell_type": "code",
   "execution_count": 19,
   "id": "0cfae19e",
   "metadata": {
    "execution": {
     "iopub.execute_input": "2023-08-15T11:22:26.082596Z",
     "iopub.status.busy": "2023-08-15T11:22:26.081992Z",
     "iopub.status.idle": "2023-08-15T11:22:26.086850Z",
     "shell.execute_reply": "2023-08-15T11:22:26.085841Z"
    },
    "papermill": {
     "duration": 0.021633,
     "end_time": "2023-08-15T11:22:26.089121",
     "exception": false,
     "start_time": "2023-08-15T11:22:26.067488",
     "status": "completed"
    },
    "tags": []
   },
   "outputs": [],
   "source": [
    "test['Age'].fillna(test['Age'].mean().round(0),inplace=True)"
   ]
  },
  {
   "cell_type": "code",
   "execution_count": 20,
   "id": "be6be435",
   "metadata": {
    "execution": {
     "iopub.execute_input": "2023-08-15T11:22:26.116826Z",
     "iopub.status.busy": "2023-08-15T11:22:26.116479Z",
     "iopub.status.idle": "2023-08-15T11:22:26.122502Z",
     "shell.execute_reply": "2023-08-15T11:22:26.121470Z"
    },
    "papermill": {
     "duration": 0.022131,
     "end_time": "2023-08-15T11:22:26.124613",
     "exception": false,
     "start_time": "2023-08-15T11:22:26.102482",
     "status": "completed"
    },
    "tags": []
   },
   "outputs": [],
   "source": [
    "test['FoodCourt'].fillna(test['FoodCourt'].mean(),inplace=True)"
   ]
  },
  {
   "cell_type": "code",
   "execution_count": 21,
   "id": "8c499aa7",
   "metadata": {
    "execution": {
     "iopub.execute_input": "2023-08-15T11:22:26.151722Z",
     "iopub.status.busy": "2023-08-15T11:22:26.151413Z",
     "iopub.status.idle": "2023-08-15T11:22:26.157428Z",
     "shell.execute_reply": "2023-08-15T11:22:26.156201Z"
    },
    "papermill": {
     "duration": 0.021568,
     "end_time": "2023-08-15T11:22:26.159238",
     "exception": false,
     "start_time": "2023-08-15T11:22:26.137670",
     "status": "completed"
    },
    "tags": []
   },
   "outputs": [],
   "source": [
    "test['RoomService'].fillna(test['RoomService'].mean(),inplace=True)"
   ]
  },
  {
   "cell_type": "code",
   "execution_count": 22,
   "id": "783f06af",
   "metadata": {
    "execution": {
     "iopub.execute_input": "2023-08-15T11:22:26.186664Z",
     "iopub.status.busy": "2023-08-15T11:22:26.186123Z",
     "iopub.status.idle": "2023-08-15T11:22:26.190951Z",
     "shell.execute_reply": "2023-08-15T11:22:26.190348Z"
    },
    "papermill": {
     "duration": 0.020385,
     "end_time": "2023-08-15T11:22:26.192543",
     "exception": false,
     "start_time": "2023-08-15T11:22:26.172158",
     "status": "completed"
    },
    "tags": []
   },
   "outputs": [],
   "source": [
    "test['ShoppingMall'].fillna(test['ShoppingMall'].mean(),inplace=True)"
   ]
  },
  {
   "cell_type": "code",
   "execution_count": 23,
   "id": "7cc568f2",
   "metadata": {
    "execution": {
     "iopub.execute_input": "2023-08-15T11:22:26.227718Z",
     "iopub.status.busy": "2023-08-15T11:22:26.227300Z",
     "iopub.status.idle": "2023-08-15T11:22:26.234895Z",
     "shell.execute_reply": "2023-08-15T11:22:26.233598Z"
    },
    "papermill": {
     "duration": 0.027506,
     "end_time": "2023-08-15T11:22:26.236851",
     "exception": false,
     "start_time": "2023-08-15T11:22:26.209345",
     "status": "completed"
    },
    "tags": []
   },
   "outputs": [],
   "source": [
    "test['Spa'].fillna(test['Spa'].mean(),inplace=True)"
   ]
  },
  {
   "cell_type": "code",
   "execution_count": 24,
   "id": "4c543894",
   "metadata": {
    "execution": {
     "iopub.execute_input": "2023-08-15T11:22:26.266733Z",
     "iopub.status.busy": "2023-08-15T11:22:26.265460Z",
     "iopub.status.idle": "2023-08-15T11:22:26.271325Z",
     "shell.execute_reply": "2023-08-15T11:22:26.270696Z"
    },
    "papermill": {
     "duration": 0.021992,
     "end_time": "2023-08-15T11:22:26.273044",
     "exception": false,
     "start_time": "2023-08-15T11:22:26.251052",
     "status": "completed"
    },
    "tags": []
   },
   "outputs": [],
   "source": [
    "test['VRDeck'].fillna(test['VRDeck'].mean(),inplace=True)"
   ]
  },
  {
   "cell_type": "code",
   "execution_count": 25,
   "id": "752e22fd",
   "metadata": {
    "execution": {
     "iopub.execute_input": "2023-08-15T11:22:26.303228Z",
     "iopub.status.busy": "2023-08-15T11:22:26.302034Z",
     "iopub.status.idle": "2023-08-15T11:22:26.315396Z",
     "shell.execute_reply": "2023-08-15T11:22:26.313969Z"
    },
    "papermill": {
     "duration": 0.030146,
     "end_time": "2023-08-15T11:22:26.317378",
     "exception": false,
     "start_time": "2023-08-15T11:22:26.287232",
     "status": "completed"
    },
    "tags": []
   },
   "outputs": [
    {
     "data": {
      "text/plain": [
       "PassengerId       0\n",
       "HomePlanet       87\n",
       "CryoSleep        93\n",
       "Cabin           100\n",
       "Destination      92\n",
       "Age               0\n",
       "VIP              93\n",
       "RoomService       0\n",
       "FoodCourt         0\n",
       "ShoppingMall      0\n",
       "Spa               0\n",
       "VRDeck            0\n",
       "Name             94\n",
       "dtype: int64"
      ]
     },
     "execution_count": 25,
     "metadata": {},
     "output_type": "execute_result"
    }
   ],
   "source": [
    "test.isnull().sum()"
   ]
  },
  {
   "cell_type": "code",
   "execution_count": 26,
   "id": "c24d2612",
   "metadata": {
    "execution": {
     "iopub.execute_input": "2023-08-15T11:22:26.345291Z",
     "iopub.status.busy": "2023-08-15T11:22:26.344911Z",
     "iopub.status.idle": "2023-08-15T11:22:26.351773Z",
     "shell.execute_reply": "2023-08-15T11:22:26.350686Z"
    },
    "papermill": {
     "duration": 0.022704,
     "end_time": "2023-08-15T11:22:26.353488",
     "exception": false,
     "start_time": "2023-08-15T11:22:26.330784",
     "status": "completed"
    },
    "tags": []
   },
   "outputs": [],
   "source": [
    "test.drop(columns=['HomePlanet','CryoSleep','Cabin','Destination','VIP','Name'],axis=1,inplace=True)"
   ]
  },
  {
   "cell_type": "code",
   "execution_count": 27,
   "id": "f032b712",
   "metadata": {
    "execution": {
     "iopub.execute_input": "2023-08-15T11:22:26.382078Z",
     "iopub.status.busy": "2023-08-15T11:22:26.380743Z",
     "iopub.status.idle": "2023-08-15T11:22:26.389518Z",
     "shell.execute_reply": "2023-08-15T11:22:26.388490Z"
    },
    "papermill": {
     "duration": 0.024606,
     "end_time": "2023-08-15T11:22:26.391174",
     "exception": false,
     "start_time": "2023-08-15T11:22:26.366568",
     "status": "completed"
    },
    "tags": []
   },
   "outputs": [
    {
     "data": {
      "text/plain": [
       "PassengerId     0\n",
       "Age             0\n",
       "RoomService     0\n",
       "FoodCourt       0\n",
       "ShoppingMall    0\n",
       "Spa             0\n",
       "VRDeck          0\n",
       "dtype: int64"
      ]
     },
     "execution_count": 27,
     "metadata": {},
     "output_type": "execute_result"
    }
   ],
   "source": [
    "test.isnull().sum()"
   ]
  },
  {
   "cell_type": "code",
   "execution_count": 28,
   "id": "3f0de79e",
   "metadata": {
    "execution": {
     "iopub.execute_input": "2023-08-15T11:22:26.420014Z",
     "iopub.status.busy": "2023-08-15T11:22:26.419480Z",
     "iopub.status.idle": "2023-08-15T11:22:26.427094Z",
     "shell.execute_reply": "2023-08-15T11:22:26.426467Z"
    },
    "papermill": {
     "duration": 0.024497,
     "end_time": "2023-08-15T11:22:26.429104",
     "exception": false,
     "start_time": "2023-08-15T11:22:26.404607",
     "status": "completed"
    },
    "tags": []
   },
   "outputs": [
    {
     "data": {
      "text/plain": [
       "0"
      ]
     },
     "execution_count": 28,
     "metadata": {},
     "output_type": "execute_result"
    }
   ],
   "source": [
    "test.duplicated().sum()"
   ]
  },
  {
   "cell_type": "markdown",
   "id": "0755fdb9",
   "metadata": {
    "papermill": {
     "duration": 0.012904,
     "end_time": "2023-08-15T11:22:26.455439",
     "exception": false,
     "start_time": "2023-08-15T11:22:26.442535",
     "status": "completed"
    },
    "tags": []
   },
   "source": [
    "# analysis"
   ]
  },
  {
   "cell_type": "code",
   "execution_count": 29,
   "id": "218f2696",
   "metadata": {
    "execution": {
     "iopub.execute_input": "2023-08-15T11:22:26.483775Z",
     "iopub.status.busy": "2023-08-15T11:22:26.482688Z",
     "iopub.status.idle": "2023-08-15T11:22:26.495218Z",
     "shell.execute_reply": "2023-08-15T11:22:26.494375Z"
    },
    "papermill": {
     "duration": 0.028235,
     "end_time": "2023-08-15T11:22:26.496862",
     "exception": false,
     "start_time": "2023-08-15T11:22:26.468627",
     "status": "completed"
    },
    "tags": []
   },
   "outputs": [
    {
     "data": {
      "text/html": [
       "<div>\n",
       "<style scoped>\n",
       "    .dataframe tbody tr th:only-of-type {\n",
       "        vertical-align: middle;\n",
       "    }\n",
       "\n",
       "    .dataframe tbody tr th {\n",
       "        vertical-align: top;\n",
       "    }\n",
       "\n",
       "    .dataframe thead th {\n",
       "        text-align: right;\n",
       "    }\n",
       "</style>\n",
       "<table border=\"1\" class=\"dataframe\">\n",
       "  <thead>\n",
       "    <tr style=\"text-align: right;\">\n",
       "      <th></th>\n",
       "      <th>PassengerId</th>\n",
       "      <th>Age</th>\n",
       "      <th>RoomService</th>\n",
       "      <th>FoodCourt</th>\n",
       "      <th>ShoppingMall</th>\n",
       "      <th>Spa</th>\n",
       "      <th>VRDeck</th>\n",
       "      <th>Transported</th>\n",
       "    </tr>\n",
       "  </thead>\n",
       "  <tbody>\n",
       "    <tr>\n",
       "      <th>0</th>\n",
       "      <td>0001_01</td>\n",
       "      <td>39.0</td>\n",
       "      <td>0.0</td>\n",
       "      <td>0.0</td>\n",
       "      <td>0.0</td>\n",
       "      <td>0.0</td>\n",
       "      <td>0.0</td>\n",
       "      <td>False</td>\n",
       "    </tr>\n",
       "    <tr>\n",
       "      <th>1</th>\n",
       "      <td>0002_01</td>\n",
       "      <td>24.0</td>\n",
       "      <td>109.0</td>\n",
       "      <td>9.0</td>\n",
       "      <td>25.0</td>\n",
       "      <td>549.0</td>\n",
       "      <td>44.0</td>\n",
       "      <td>True</td>\n",
       "    </tr>\n",
       "  </tbody>\n",
       "</table>\n",
       "</div>"
      ],
      "text/plain": [
       "  PassengerId   Age  RoomService  FoodCourt  ShoppingMall    Spa  VRDeck  \\\n",
       "0     0001_01  39.0          0.0        0.0           0.0    0.0     0.0   \n",
       "1     0002_01  24.0        109.0        9.0          25.0  549.0    44.0   \n",
       "\n",
       "   Transported  \n",
       "0        False  \n",
       "1         True  "
      ]
     },
     "execution_count": 29,
     "metadata": {},
     "output_type": "execute_result"
    }
   ],
   "source": [
    "train.head(2)"
   ]
  },
  {
   "cell_type": "code",
   "execution_count": 30,
   "id": "5b820065",
   "metadata": {
    "execution": {
     "iopub.execute_input": "2023-08-15T11:22:26.525806Z",
     "iopub.status.busy": "2023-08-15T11:22:26.524490Z",
     "iopub.status.idle": "2023-08-15T11:22:27.915800Z",
     "shell.execute_reply": "2023-08-15T11:22:27.914852Z"
    },
    "papermill": {
     "duration": 1.407486,
     "end_time": "2023-08-15T11:22:27.917850",
     "exception": false,
     "start_time": "2023-08-15T11:22:26.510364",
     "status": "completed"
    },
    "tags": []
   },
   "outputs": [
    {
     "data": {
      "text/html": [
       "        <script type=\"text/javascript\">\n",
       "        window.PlotlyConfig = {MathJaxConfig: 'local'};\n",
       "        if (window.MathJax && window.MathJax.Hub && window.MathJax.Hub.Config) {window.MathJax.Hub.Config({SVG: {font: \"STIX-Web\"}});}\n",
       "        if (typeof require !== 'undefined') {\n",
       "        require.undef(\"plotly\");\n",
       "        requirejs.config({\n",
       "            paths: {\n",
       "                'plotly': ['https://cdn.plot.ly/plotly-2.24.1.min']\n",
       "            }\n",
       "        });\n",
       "        require(['plotly'], function(Plotly) {\n",
       "            window._Plotly = Plotly;\n",
       "        });\n",
       "        }\n",
       "        </script>\n",
       "        "
      ]
     },
     "metadata": {},
     "output_type": "display_data"
    },
    {
     "data": {
      "text/html": [
       "<div>                            <div id=\"95fd8a53-cba0-4e8d-97e2-fc9f78ca2887\" class=\"plotly-graph-div\" style=\"height:525px; width:100%;\"></div>            <script type=\"text/javascript\">                require([\"plotly\"], function(Plotly) {                    window.PLOTLYENV=window.PLOTLYENV || {};                                    if (document.getElementById(\"95fd8a53-cba0-4e8d-97e2-fc9f78ca2887\")) {                    Plotly.newPlot(                        \"95fd8a53-cba0-4e8d-97e2-fc9f78ca2887\",                        [{\"coloraxis\":\"coloraxis\",\"name\":\"0\",\"texttemplate\":\"%{z}\",\"x\":[\"Age\",\"RoomService\",\"FoodCourt\",\"ShoppingMall\",\"Spa\",\"VRDeck\",\"Transported\"],\"y\":[\"Age\",\"RoomService\",\"FoodCourt\",\"ShoppingMall\",\"Spa\",\"VRDeck\",\"Transported\"],\"z\":[[1.0,0.06759072312573026,0.1279309288723766,0.03262567316668602,0.12100100515383434,0.09920459194285343,-0.07424941308002292],[0.06759072312573026,1.0,-0.015521115085275592,0.05296179016001003,0.009924827933749268,-0.019207061541877873,-0.24204764964790917],[0.1279309288723766,-0.015521115085275592,1.0,-0.013934262891856172,0.22058667035451296,0.22427528261025106,0.046074119381037455],[0.03262567316668602,0.05296179016001003,-0.013934262891856172,1.0,0.013677971601255683,-0.007189469463917451,0.01001896789266986],[0.12100100515383434,0.009924827933749268,0.22058667035451296,0.013677971601255683,1.0,0.14795651892135078,-0.21879096278820892],[0.09920459194285343,-0.019207061541877873,0.22427528261025106,-0.007189469463917451,0.14795651892135078,1.0,-0.20482507872054614],[-0.07424941308002292,-0.24204764964790917,0.046074119381037455,0.01001896789266986,-0.21879096278820892,-0.20482507872054614,1.0]],\"type\":\"heatmap\",\"xaxis\":\"x\",\"yaxis\":\"y\",\"hovertemplate\":\"x: %{x}\\u003cbr\\u003ey: %{y}\\u003cbr\\u003ecolor: %{z}\\u003cextra\\u003e\\u003c\\u002fextra\\u003e\"}],                        {\"template\":{\"data\":{\"histogram2dcontour\":[{\"type\":\"histogram2dcontour\",\"colorbar\":{\"outlinewidth\":0,\"ticks\":\"\"},\"colorscale\":[[0.0,\"#0d0887\"],[0.1111111111111111,\"#46039f\"],[0.2222222222222222,\"#7201a8\"],[0.3333333333333333,\"#9c179e\"],[0.4444444444444444,\"#bd3786\"],[0.5555555555555556,\"#d8576b\"],[0.6666666666666666,\"#ed7953\"],[0.7777777777777778,\"#fb9f3a\"],[0.8888888888888888,\"#fdca26\"],[1.0,\"#f0f921\"]]}],\"choropleth\":[{\"type\":\"choropleth\",\"colorbar\":{\"outlinewidth\":0,\"ticks\":\"\"}}],\"histogram2d\":[{\"type\":\"histogram2d\",\"colorbar\":{\"outlinewidth\":0,\"ticks\":\"\"},\"colorscale\":[[0.0,\"#0d0887\"],[0.1111111111111111,\"#46039f\"],[0.2222222222222222,\"#7201a8\"],[0.3333333333333333,\"#9c179e\"],[0.4444444444444444,\"#bd3786\"],[0.5555555555555556,\"#d8576b\"],[0.6666666666666666,\"#ed7953\"],[0.7777777777777778,\"#fb9f3a\"],[0.8888888888888888,\"#fdca26\"],[1.0,\"#f0f921\"]]}],\"heatmap\":[{\"type\":\"heatmap\",\"colorbar\":{\"outlinewidth\":0,\"ticks\":\"\"},\"colorscale\":[[0.0,\"#0d0887\"],[0.1111111111111111,\"#46039f\"],[0.2222222222222222,\"#7201a8\"],[0.3333333333333333,\"#9c179e\"],[0.4444444444444444,\"#bd3786\"],[0.5555555555555556,\"#d8576b\"],[0.6666666666666666,\"#ed7953\"],[0.7777777777777778,\"#fb9f3a\"],[0.8888888888888888,\"#fdca26\"],[1.0,\"#f0f921\"]]}],\"heatmapgl\":[{\"type\":\"heatmapgl\",\"colorbar\":{\"outlinewidth\":0,\"ticks\":\"\"},\"colorscale\":[[0.0,\"#0d0887\"],[0.1111111111111111,\"#46039f\"],[0.2222222222222222,\"#7201a8\"],[0.3333333333333333,\"#9c179e\"],[0.4444444444444444,\"#bd3786\"],[0.5555555555555556,\"#d8576b\"],[0.6666666666666666,\"#ed7953\"],[0.7777777777777778,\"#fb9f3a\"],[0.8888888888888888,\"#fdca26\"],[1.0,\"#f0f921\"]]}],\"contourcarpet\":[{\"type\":\"contourcarpet\",\"colorbar\":{\"outlinewidth\":0,\"ticks\":\"\"}}],\"contour\":[{\"type\":\"contour\",\"colorbar\":{\"outlinewidth\":0,\"ticks\":\"\"},\"colorscale\":[[0.0,\"#0d0887\"],[0.1111111111111111,\"#46039f\"],[0.2222222222222222,\"#7201a8\"],[0.3333333333333333,\"#9c179e\"],[0.4444444444444444,\"#bd3786\"],[0.5555555555555556,\"#d8576b\"],[0.6666666666666666,\"#ed7953\"],[0.7777777777777778,\"#fb9f3a\"],[0.8888888888888888,\"#fdca26\"],[1.0,\"#f0f921\"]]}],\"surface\":[{\"type\":\"surface\",\"colorbar\":{\"outlinewidth\":0,\"ticks\":\"\"},\"colorscale\":[[0.0,\"#0d0887\"],[0.1111111111111111,\"#46039f\"],[0.2222222222222222,\"#7201a8\"],[0.3333333333333333,\"#9c179e\"],[0.4444444444444444,\"#bd3786\"],[0.5555555555555556,\"#d8576b\"],[0.6666666666666666,\"#ed7953\"],[0.7777777777777778,\"#fb9f3a\"],[0.8888888888888888,\"#fdca26\"],[1.0,\"#f0f921\"]]}],\"mesh3d\":[{\"type\":\"mesh3d\",\"colorbar\":{\"outlinewidth\":0,\"ticks\":\"\"}}],\"scatter\":[{\"fillpattern\":{\"fillmode\":\"overlay\",\"size\":10,\"solidity\":0.2},\"type\":\"scatter\"}],\"parcoords\":[{\"type\":\"parcoords\",\"line\":{\"colorbar\":{\"outlinewidth\":0,\"ticks\":\"\"}}}],\"scatterpolargl\":[{\"type\":\"scatterpolargl\",\"marker\":{\"colorbar\":{\"outlinewidth\":0,\"ticks\":\"\"}}}],\"bar\":[{\"error_x\":{\"color\":\"#2a3f5f\"},\"error_y\":{\"color\":\"#2a3f5f\"},\"marker\":{\"line\":{\"color\":\"#E5ECF6\",\"width\":0.5},\"pattern\":{\"fillmode\":\"overlay\",\"size\":10,\"solidity\":0.2}},\"type\":\"bar\"}],\"scattergeo\":[{\"type\":\"scattergeo\",\"marker\":{\"colorbar\":{\"outlinewidth\":0,\"ticks\":\"\"}}}],\"scatterpolar\":[{\"type\":\"scatterpolar\",\"marker\":{\"colorbar\":{\"outlinewidth\":0,\"ticks\":\"\"}}}],\"histogram\":[{\"marker\":{\"pattern\":{\"fillmode\":\"overlay\",\"size\":10,\"solidity\":0.2}},\"type\":\"histogram\"}],\"scattergl\":[{\"type\":\"scattergl\",\"marker\":{\"colorbar\":{\"outlinewidth\":0,\"ticks\":\"\"}}}],\"scatter3d\":[{\"type\":\"scatter3d\",\"line\":{\"colorbar\":{\"outlinewidth\":0,\"ticks\":\"\"}},\"marker\":{\"colorbar\":{\"outlinewidth\":0,\"ticks\":\"\"}}}],\"scattermapbox\":[{\"type\":\"scattermapbox\",\"marker\":{\"colorbar\":{\"outlinewidth\":0,\"ticks\":\"\"}}}],\"scatterternary\":[{\"type\":\"scatterternary\",\"marker\":{\"colorbar\":{\"outlinewidth\":0,\"ticks\":\"\"}}}],\"scattercarpet\":[{\"type\":\"scattercarpet\",\"marker\":{\"colorbar\":{\"outlinewidth\":0,\"ticks\":\"\"}}}],\"carpet\":[{\"aaxis\":{\"endlinecolor\":\"#2a3f5f\",\"gridcolor\":\"white\",\"linecolor\":\"white\",\"minorgridcolor\":\"white\",\"startlinecolor\":\"#2a3f5f\"},\"baxis\":{\"endlinecolor\":\"#2a3f5f\",\"gridcolor\":\"white\",\"linecolor\":\"white\",\"minorgridcolor\":\"white\",\"startlinecolor\":\"#2a3f5f\"},\"type\":\"carpet\"}],\"table\":[{\"cells\":{\"fill\":{\"color\":\"#EBF0F8\"},\"line\":{\"color\":\"white\"}},\"header\":{\"fill\":{\"color\":\"#C8D4E3\"},\"line\":{\"color\":\"white\"}},\"type\":\"table\"}],\"barpolar\":[{\"marker\":{\"line\":{\"color\":\"#E5ECF6\",\"width\":0.5},\"pattern\":{\"fillmode\":\"overlay\",\"size\":10,\"solidity\":0.2}},\"type\":\"barpolar\"}],\"pie\":[{\"automargin\":true,\"type\":\"pie\"}]},\"layout\":{\"autotypenumbers\":\"strict\",\"colorway\":[\"#636efa\",\"#EF553B\",\"#00cc96\",\"#ab63fa\",\"#FFA15A\",\"#19d3f3\",\"#FF6692\",\"#B6E880\",\"#FF97FF\",\"#FECB52\"],\"font\":{\"color\":\"#2a3f5f\"},\"hovermode\":\"closest\",\"hoverlabel\":{\"align\":\"left\"},\"paper_bgcolor\":\"white\",\"plot_bgcolor\":\"#E5ECF6\",\"polar\":{\"bgcolor\":\"#E5ECF6\",\"angularaxis\":{\"gridcolor\":\"white\",\"linecolor\":\"white\",\"ticks\":\"\"},\"radialaxis\":{\"gridcolor\":\"white\",\"linecolor\":\"white\",\"ticks\":\"\"}},\"ternary\":{\"bgcolor\":\"#E5ECF6\",\"aaxis\":{\"gridcolor\":\"white\",\"linecolor\":\"white\",\"ticks\":\"\"},\"baxis\":{\"gridcolor\":\"white\",\"linecolor\":\"white\",\"ticks\":\"\"},\"caxis\":{\"gridcolor\":\"white\",\"linecolor\":\"white\",\"ticks\":\"\"}},\"coloraxis\":{\"colorbar\":{\"outlinewidth\":0,\"ticks\":\"\"}},\"colorscale\":{\"sequential\":[[0.0,\"#0d0887\"],[0.1111111111111111,\"#46039f\"],[0.2222222222222222,\"#7201a8\"],[0.3333333333333333,\"#9c179e\"],[0.4444444444444444,\"#bd3786\"],[0.5555555555555556,\"#d8576b\"],[0.6666666666666666,\"#ed7953\"],[0.7777777777777778,\"#fb9f3a\"],[0.8888888888888888,\"#fdca26\"],[1.0,\"#f0f921\"]],\"sequentialminus\":[[0.0,\"#0d0887\"],[0.1111111111111111,\"#46039f\"],[0.2222222222222222,\"#7201a8\"],[0.3333333333333333,\"#9c179e\"],[0.4444444444444444,\"#bd3786\"],[0.5555555555555556,\"#d8576b\"],[0.6666666666666666,\"#ed7953\"],[0.7777777777777778,\"#fb9f3a\"],[0.8888888888888888,\"#fdca26\"],[1.0,\"#f0f921\"]],\"diverging\":[[0,\"#8e0152\"],[0.1,\"#c51b7d\"],[0.2,\"#de77ae\"],[0.3,\"#f1b6da\"],[0.4,\"#fde0ef\"],[0.5,\"#f7f7f7\"],[0.6,\"#e6f5d0\"],[0.7,\"#b8e186\"],[0.8,\"#7fbc41\"],[0.9,\"#4d9221\"],[1,\"#276419\"]]},\"xaxis\":{\"gridcolor\":\"white\",\"linecolor\":\"white\",\"ticks\":\"\",\"title\":{\"standoff\":15},\"zerolinecolor\":\"white\",\"automargin\":true,\"zerolinewidth\":2},\"yaxis\":{\"gridcolor\":\"white\",\"linecolor\":\"white\",\"ticks\":\"\",\"title\":{\"standoff\":15},\"zerolinecolor\":\"white\",\"automargin\":true,\"zerolinewidth\":2},\"scene\":{\"xaxis\":{\"backgroundcolor\":\"#E5ECF6\",\"gridcolor\":\"white\",\"linecolor\":\"white\",\"showbackground\":true,\"ticks\":\"\",\"zerolinecolor\":\"white\",\"gridwidth\":2},\"yaxis\":{\"backgroundcolor\":\"#E5ECF6\",\"gridcolor\":\"white\",\"linecolor\":\"white\",\"showbackground\":true,\"ticks\":\"\",\"zerolinecolor\":\"white\",\"gridwidth\":2},\"zaxis\":{\"backgroundcolor\":\"#E5ECF6\",\"gridcolor\":\"white\",\"linecolor\":\"white\",\"showbackground\":true,\"ticks\":\"\",\"zerolinecolor\":\"white\",\"gridwidth\":2}},\"shapedefaults\":{\"line\":{\"color\":\"#2a3f5f\"}},\"annotationdefaults\":{\"arrowcolor\":\"#2a3f5f\",\"arrowhead\":0,\"arrowwidth\":1},\"geo\":{\"bgcolor\":\"white\",\"landcolor\":\"#E5ECF6\",\"subunitcolor\":\"white\",\"showland\":true,\"showlakes\":true,\"lakecolor\":\"white\"},\"title\":{\"x\":0.05},\"mapbox\":{\"style\":\"light\"}}},\"xaxis\":{\"anchor\":\"y\",\"domain\":[0.0,1.0]},\"yaxis\":{\"anchor\":\"x\",\"domain\":[0.0,1.0],\"autorange\":\"reversed\"},\"coloraxis\":{\"colorscale\":[[0.0,\"rgb(247,251,255)\"],[0.125,\"rgb(222,235,247)\"],[0.25,\"rgb(198,219,239)\"],[0.375,\"rgb(158,202,225)\"],[0.5,\"rgb(107,174,214)\"],[0.625,\"rgb(66,146,198)\"],[0.75,\"rgb(33,113,181)\"],[0.875,\"rgb(8,81,156)\"],[1.0,\"rgb(8,48,107)\"]]},\"margin\":{\"t\":60}},                        {\"responsive\": true}                    ).then(function(){\n",
       "                            \n",
       "var gd = document.getElementById('95fd8a53-cba0-4e8d-97e2-fc9f78ca2887');\n",
       "var x = new MutationObserver(function (mutations, observer) {{\n",
       "        var display = window.getComputedStyle(gd).display;\n",
       "        if (!display || display === 'none') {{\n",
       "            console.log([gd, 'removed!']);\n",
       "            Plotly.purge(gd);\n",
       "            observer.disconnect();\n",
       "        }}\n",
       "}});\n",
       "\n",
       "// Listen for the removal of the full notebook cells\n",
       "var notebookContainer = gd.closest('#notebook-container');\n",
       "if (notebookContainer) {{\n",
       "    x.observe(notebookContainer, {childList: true});\n",
       "}}\n",
       "\n",
       "// Listen for the clearing of the current output cell\n",
       "var outputEl = gd.closest('.output');\n",
       "if (outputEl) {{\n",
       "    x.observe(outputEl, {childList: true});\n",
       "}}\n",
       "\n",
       "                        })                };                });            </script>        </div>"
      ]
     },
     "metadata": {},
     "output_type": "display_data"
    }
   ],
   "source": [
    "px.imshow(train.corr(numeric_only=True),aspect=True,text_auto=True,color_continuous_scale='Blues')"
   ]
  },
  {
   "cell_type": "code",
   "execution_count": 31,
   "id": "e6ba09ed",
   "metadata": {
    "execution": {
     "iopub.execute_input": "2023-08-15T11:22:27.964428Z",
     "iopub.status.busy": "2023-08-15T11:22:27.963695Z",
     "iopub.status.idle": "2023-08-15T11:22:28.121799Z",
     "shell.execute_reply": "2023-08-15T11:22:28.121194Z"
    },
    "papermill": {
     "duration": 0.179665,
     "end_time": "2023-08-15T11:22:28.123945",
     "exception": false,
     "start_time": "2023-08-15T11:22:27.944280",
     "status": "completed"
    },
    "tags": []
   },
   "outputs": [
    {
     "data": {
      "text/html": [
       "<div>                            <div id=\"bc4902e1-88bd-44b1-af1e-1fdc5367019d\" class=\"plotly-graph-div\" style=\"height:400px; width:100%;\"></div>            <script type=\"text/javascript\">                require([\"plotly\"], function(Plotly) {                    window.PLOTLYENV=window.PLOTLYENV || {};                                    if (document.getElementById(\"bc4902e1-88bd-44b1-af1e-1fdc5367019d\")) {                    Plotly.newPlot(                        \"bc4902e1-88bd-44b1-af1e-1fdc5367019d\",                        [{\"alignmentgroup\":\"True\",\"hovertemplate\":\"Transported=False\\u003cbr\\u003eAge=%{x}\\u003cbr\\u003evalue=%{y}\\u003cextra\\u003e\\u003c\\u002fextra\\u003e\",\"legendgroup\":\"False\",\"marker\":{\"color\":\"#636efa\",\"pattern\":{\"shape\":\"\"}},\"name\":\"False\",\"offsetgroup\":\"False\",\"orientation\":\"v\",\"showlegend\":true,\"textposition\":\"auto\",\"x\":[0.0,1.0,2.0,3.0,4.0,5.0,6.0,7.0,8.0,9.0,10.0,11.0,12.0,13.0,14.0,15.0,16.0,17.0,18.0,19.0,20.0,21.0,22.0,23.0,24.0,25.0,26.0,27.0,28.0,29.0,30.0,31.0,32.0,33.0,34.0,35.0,36.0,37.0,38.0,39.0,40.0,41.0,42.0,43.0,44.0,45.0,46.0,47.0,48.0,49.0,50.0,51.0,52.0,53.0,54.0,55.0,56.0,57.0,58.0,59.0,60.0,61.0,62.0,63.0,64.0,65.0,66.0,67.0,68.0,69.0,70.0,71.0,72.0,73.0,74.0,75.0,76.0,77.0,78.0,79.0],\"xaxis\":\"x\",\"y\":[34.0,18.0,22.0,16.0,18.0,13.0,17.0,20.0,20.0,18.0,14.0,20.0,12.0,69.0,61.0,64.0,67.0,69.0,160.0,155.0,151.0,185.0,158.0,155.0,184.0,126.0,140.0,132.0,117.0,207.0,101.0,119.0,112.0,95.0,71.0,83.0,89.0,103.0,90.0,76.0,55.0,62.0,66.0,63.0,52.0,47.0,49.0,41.0,33.0,49.0,37.0,38.0,24.0,31.0,35.0,36.0,26.0,24.0,23.0,8.0,19.0,14.0,13.0,16.0,13.0,16.0,3.0,6.0,4.0,5.0,3.0,4.0,2.0,6.0,2.0,2.0,1.0,1.0,2.0,3.0],\"yaxis\":\"y\",\"type\":\"bar\"},{\"alignmentgroup\":\"True\",\"hovertemplate\":\"Transported=True\\u003cbr\\u003eAge=%{x}\\u003cbr\\u003evalue=%{y}\\u003cextra\\u003e\\u003c\\u002fextra\\u003e\",\"legendgroup\":\"True\",\"marker\":{\"color\":\"#EF553B\",\"pattern\":{\"shape\":\"\"}},\"name\":\"True\",\"offsetgroup\":\"True\",\"orientation\":\"v\",\"showlegend\":true,\"textposition\":\"auto\",\"x\":[0.0,1.0,2.0,3.0,4.0,5.0,6.0,7.0,8.0,9.0,10.0,11.0,12.0,13.0,14.0,15.0,16.0,17.0,18.0,19.0,20.0,21.0,22.0,23.0,24.0,25.0,26.0,27.0,28.0,29.0,30.0,31.0,32.0,33.0,34.0,35.0,36.0,37.0,38.0,39.0,40.0,41.0,42.0,43.0,44.0,45.0,46.0,47.0,48.0,49.0,50.0,51.0,52.0,53.0,54.0,55.0,56.0,57.0,58.0,59.0,60.0,61.0,62.0,63.0,64.0,65.0,66.0,67.0,68.0,69.0,70.0,71.0,72.0,73.0,74.0,75.0,76.0,77.0,78.0,79.0],\"xaxis\":\"x\",\"y\":[144.0,49.0,53.0,59.0,53.0,20.0,23.0,32.0,26.0,24.0,25.0,27.0,29.0,72.0,77.0,91.0,80.0,89.0,160.0,138.0,126.0,126.0,133.0,137.0,140.0,117.0,128.0,127.0,150.0,202.0,82.0,83.0,87.0,83.0,77.0,88.0,89.0,74.0,71.0,62.0,73.0,67.0,53.0,65.0,63.0,42.0,48.0,47.0,39.0,34.0,37.0,21.0,28.0,30.0,32.0,32.0,22.0,22.0,24.0,27.0,15.0,18.0,13.0,10.0,16.0,7.0,4.0,7.0,8.0,1.0,6.0,3.0,2.0,1.0,3.0,2.0,1.0,1.0,1.0,null],\"yaxis\":\"y\",\"type\":\"bar\"}],                        {\"template\":{\"data\":{\"histogram2dcontour\":[{\"type\":\"histogram2dcontour\",\"colorbar\":{\"outlinewidth\":0,\"ticks\":\"\"},\"colorscale\":[[0.0,\"#0d0887\"],[0.1111111111111111,\"#46039f\"],[0.2222222222222222,\"#7201a8\"],[0.3333333333333333,\"#9c179e\"],[0.4444444444444444,\"#bd3786\"],[0.5555555555555556,\"#d8576b\"],[0.6666666666666666,\"#ed7953\"],[0.7777777777777778,\"#fb9f3a\"],[0.8888888888888888,\"#fdca26\"],[1.0,\"#f0f921\"]]}],\"choropleth\":[{\"type\":\"choropleth\",\"colorbar\":{\"outlinewidth\":0,\"ticks\":\"\"}}],\"histogram2d\":[{\"type\":\"histogram2d\",\"colorbar\":{\"outlinewidth\":0,\"ticks\":\"\"},\"colorscale\":[[0.0,\"#0d0887\"],[0.1111111111111111,\"#46039f\"],[0.2222222222222222,\"#7201a8\"],[0.3333333333333333,\"#9c179e\"],[0.4444444444444444,\"#bd3786\"],[0.5555555555555556,\"#d8576b\"],[0.6666666666666666,\"#ed7953\"],[0.7777777777777778,\"#fb9f3a\"],[0.8888888888888888,\"#fdca26\"],[1.0,\"#f0f921\"]]}],\"heatmap\":[{\"type\":\"heatmap\",\"colorbar\":{\"outlinewidth\":0,\"ticks\":\"\"},\"colorscale\":[[0.0,\"#0d0887\"],[0.1111111111111111,\"#46039f\"],[0.2222222222222222,\"#7201a8\"],[0.3333333333333333,\"#9c179e\"],[0.4444444444444444,\"#bd3786\"],[0.5555555555555556,\"#d8576b\"],[0.6666666666666666,\"#ed7953\"],[0.7777777777777778,\"#fb9f3a\"],[0.8888888888888888,\"#fdca26\"],[1.0,\"#f0f921\"]]}],\"heatmapgl\":[{\"type\":\"heatmapgl\",\"colorbar\":{\"outlinewidth\":0,\"ticks\":\"\"},\"colorscale\":[[0.0,\"#0d0887\"],[0.1111111111111111,\"#46039f\"],[0.2222222222222222,\"#7201a8\"],[0.3333333333333333,\"#9c179e\"],[0.4444444444444444,\"#bd3786\"],[0.5555555555555556,\"#d8576b\"],[0.6666666666666666,\"#ed7953\"],[0.7777777777777778,\"#fb9f3a\"],[0.8888888888888888,\"#fdca26\"],[1.0,\"#f0f921\"]]}],\"contourcarpet\":[{\"type\":\"contourcarpet\",\"colorbar\":{\"outlinewidth\":0,\"ticks\":\"\"}}],\"contour\":[{\"type\":\"contour\",\"colorbar\":{\"outlinewidth\":0,\"ticks\":\"\"},\"colorscale\":[[0.0,\"#0d0887\"],[0.1111111111111111,\"#46039f\"],[0.2222222222222222,\"#7201a8\"],[0.3333333333333333,\"#9c179e\"],[0.4444444444444444,\"#bd3786\"],[0.5555555555555556,\"#d8576b\"],[0.6666666666666666,\"#ed7953\"],[0.7777777777777778,\"#fb9f3a\"],[0.8888888888888888,\"#fdca26\"],[1.0,\"#f0f921\"]]}],\"surface\":[{\"type\":\"surface\",\"colorbar\":{\"outlinewidth\":0,\"ticks\":\"\"},\"colorscale\":[[0.0,\"#0d0887\"],[0.1111111111111111,\"#46039f\"],[0.2222222222222222,\"#7201a8\"],[0.3333333333333333,\"#9c179e\"],[0.4444444444444444,\"#bd3786\"],[0.5555555555555556,\"#d8576b\"],[0.6666666666666666,\"#ed7953\"],[0.7777777777777778,\"#fb9f3a\"],[0.8888888888888888,\"#fdca26\"],[1.0,\"#f0f921\"]]}],\"mesh3d\":[{\"type\":\"mesh3d\",\"colorbar\":{\"outlinewidth\":0,\"ticks\":\"\"}}],\"scatter\":[{\"fillpattern\":{\"fillmode\":\"overlay\",\"size\":10,\"solidity\":0.2},\"type\":\"scatter\"}],\"parcoords\":[{\"type\":\"parcoords\",\"line\":{\"colorbar\":{\"outlinewidth\":0,\"ticks\":\"\"}}}],\"scatterpolargl\":[{\"type\":\"scatterpolargl\",\"marker\":{\"colorbar\":{\"outlinewidth\":0,\"ticks\":\"\"}}}],\"bar\":[{\"error_x\":{\"color\":\"#2a3f5f\"},\"error_y\":{\"color\":\"#2a3f5f\"},\"marker\":{\"line\":{\"color\":\"#E5ECF6\",\"width\":0.5},\"pattern\":{\"fillmode\":\"overlay\",\"size\":10,\"solidity\":0.2}},\"type\":\"bar\"}],\"scattergeo\":[{\"type\":\"scattergeo\",\"marker\":{\"colorbar\":{\"outlinewidth\":0,\"ticks\":\"\"}}}],\"scatterpolar\":[{\"type\":\"scatterpolar\",\"marker\":{\"colorbar\":{\"outlinewidth\":0,\"ticks\":\"\"}}}],\"histogram\":[{\"marker\":{\"pattern\":{\"fillmode\":\"overlay\",\"size\":10,\"solidity\":0.2}},\"type\":\"histogram\"}],\"scattergl\":[{\"type\":\"scattergl\",\"marker\":{\"colorbar\":{\"outlinewidth\":0,\"ticks\":\"\"}}}],\"scatter3d\":[{\"type\":\"scatter3d\",\"line\":{\"colorbar\":{\"outlinewidth\":0,\"ticks\":\"\"}},\"marker\":{\"colorbar\":{\"outlinewidth\":0,\"ticks\":\"\"}}}],\"scattermapbox\":[{\"type\":\"scattermapbox\",\"marker\":{\"colorbar\":{\"outlinewidth\":0,\"ticks\":\"\"}}}],\"scatterternary\":[{\"type\":\"scatterternary\",\"marker\":{\"colorbar\":{\"outlinewidth\":0,\"ticks\":\"\"}}}],\"scattercarpet\":[{\"type\":\"scattercarpet\",\"marker\":{\"colorbar\":{\"outlinewidth\":0,\"ticks\":\"\"}}}],\"carpet\":[{\"aaxis\":{\"endlinecolor\":\"#2a3f5f\",\"gridcolor\":\"white\",\"linecolor\":\"white\",\"minorgridcolor\":\"white\",\"startlinecolor\":\"#2a3f5f\"},\"baxis\":{\"endlinecolor\":\"#2a3f5f\",\"gridcolor\":\"white\",\"linecolor\":\"white\",\"minorgridcolor\":\"white\",\"startlinecolor\":\"#2a3f5f\"},\"type\":\"carpet\"}],\"table\":[{\"cells\":{\"fill\":{\"color\":\"#EBF0F8\"},\"line\":{\"color\":\"white\"}},\"header\":{\"fill\":{\"color\":\"#C8D4E3\"},\"line\":{\"color\":\"white\"}},\"type\":\"table\"}],\"barpolar\":[{\"marker\":{\"line\":{\"color\":\"#E5ECF6\",\"width\":0.5},\"pattern\":{\"fillmode\":\"overlay\",\"size\":10,\"solidity\":0.2}},\"type\":\"barpolar\"}],\"pie\":[{\"automargin\":true,\"type\":\"pie\"}]},\"layout\":{\"autotypenumbers\":\"strict\",\"colorway\":[\"#636efa\",\"#EF553B\",\"#00cc96\",\"#ab63fa\",\"#FFA15A\",\"#19d3f3\",\"#FF6692\",\"#B6E880\",\"#FF97FF\",\"#FECB52\"],\"font\":{\"color\":\"#2a3f5f\"},\"hovermode\":\"closest\",\"hoverlabel\":{\"align\":\"left\"},\"paper_bgcolor\":\"white\",\"plot_bgcolor\":\"#E5ECF6\",\"polar\":{\"bgcolor\":\"#E5ECF6\",\"angularaxis\":{\"gridcolor\":\"white\",\"linecolor\":\"white\",\"ticks\":\"\"},\"radialaxis\":{\"gridcolor\":\"white\",\"linecolor\":\"white\",\"ticks\":\"\"}},\"ternary\":{\"bgcolor\":\"#E5ECF6\",\"aaxis\":{\"gridcolor\":\"white\",\"linecolor\":\"white\",\"ticks\":\"\"},\"baxis\":{\"gridcolor\":\"white\",\"linecolor\":\"white\",\"ticks\":\"\"},\"caxis\":{\"gridcolor\":\"white\",\"linecolor\":\"white\",\"ticks\":\"\"}},\"coloraxis\":{\"colorbar\":{\"outlinewidth\":0,\"ticks\":\"\"}},\"colorscale\":{\"sequential\":[[0.0,\"#0d0887\"],[0.1111111111111111,\"#46039f\"],[0.2222222222222222,\"#7201a8\"],[0.3333333333333333,\"#9c179e\"],[0.4444444444444444,\"#bd3786\"],[0.5555555555555556,\"#d8576b\"],[0.6666666666666666,\"#ed7953\"],[0.7777777777777778,\"#fb9f3a\"],[0.8888888888888888,\"#fdca26\"],[1.0,\"#f0f921\"]],\"sequentialminus\":[[0.0,\"#0d0887\"],[0.1111111111111111,\"#46039f\"],[0.2222222222222222,\"#7201a8\"],[0.3333333333333333,\"#9c179e\"],[0.4444444444444444,\"#bd3786\"],[0.5555555555555556,\"#d8576b\"],[0.6666666666666666,\"#ed7953\"],[0.7777777777777778,\"#fb9f3a\"],[0.8888888888888888,\"#fdca26\"],[1.0,\"#f0f921\"]],\"diverging\":[[0,\"#8e0152\"],[0.1,\"#c51b7d\"],[0.2,\"#de77ae\"],[0.3,\"#f1b6da\"],[0.4,\"#fde0ef\"],[0.5,\"#f7f7f7\"],[0.6,\"#e6f5d0\"],[0.7,\"#b8e186\"],[0.8,\"#7fbc41\"],[0.9,\"#4d9221\"],[1,\"#276419\"]]},\"xaxis\":{\"gridcolor\":\"white\",\"linecolor\":\"white\",\"ticks\":\"\",\"title\":{\"standoff\":15},\"zerolinecolor\":\"white\",\"automargin\":true,\"zerolinewidth\":2},\"yaxis\":{\"gridcolor\":\"white\",\"linecolor\":\"white\",\"ticks\":\"\",\"title\":{\"standoff\":15},\"zerolinecolor\":\"white\",\"automargin\":true,\"zerolinewidth\":2},\"scene\":{\"xaxis\":{\"backgroundcolor\":\"#E5ECF6\",\"gridcolor\":\"white\",\"linecolor\":\"white\",\"showbackground\":true,\"ticks\":\"\",\"zerolinecolor\":\"white\",\"gridwidth\":2},\"yaxis\":{\"backgroundcolor\":\"#E5ECF6\",\"gridcolor\":\"white\",\"linecolor\":\"white\",\"showbackground\":true,\"ticks\":\"\",\"zerolinecolor\":\"white\",\"gridwidth\":2},\"zaxis\":{\"backgroundcolor\":\"#E5ECF6\",\"gridcolor\":\"white\",\"linecolor\":\"white\",\"showbackground\":true,\"ticks\":\"\",\"zerolinecolor\":\"white\",\"gridwidth\":2}},\"shapedefaults\":{\"line\":{\"color\":\"#2a3f5f\"}},\"annotationdefaults\":{\"arrowcolor\":\"#2a3f5f\",\"arrowhead\":0,\"arrowwidth\":1},\"geo\":{\"bgcolor\":\"white\",\"landcolor\":\"#E5ECF6\",\"subunitcolor\":\"white\",\"showland\":true,\"showlakes\":true,\"lakecolor\":\"white\"},\"title\":{\"x\":0.05},\"mapbox\":{\"style\":\"light\"}}},\"xaxis\":{\"anchor\":\"y\",\"domain\":[0.0,1.0],\"title\":{\"text\":\"Age\"}},\"yaxis\":{\"anchor\":\"x\",\"domain\":[0.0,1.0],\"title\":{\"text\":\"value\"}},\"legend\":{\"title\":{\"text\":\"Transported\"},\"tracegroupgap\":0},\"margin\":{\"t\":60},\"barmode\":\"group\",\"height\":400},                        {\"responsive\": true}                    ).then(function(){\n",
       "                            \n",
       "var gd = document.getElementById('bc4902e1-88bd-44b1-af1e-1fdc5367019d');\n",
       "var x = new MutationObserver(function (mutations, observer) {{\n",
       "        var display = window.getComputedStyle(gd).display;\n",
       "        if (!display || display === 'none') {{\n",
       "            console.log([gd, 'removed!']);\n",
       "            Plotly.purge(gd);\n",
       "            observer.disconnect();\n",
       "        }}\n",
       "}});\n",
       "\n",
       "// Listen for the removal of the full notebook cells\n",
       "var notebookContainer = gd.closest('#notebook-container');\n",
       "if (notebookContainer) {{\n",
       "    x.observe(notebookContainer, {childList: true});\n",
       "}}\n",
       "\n",
       "// Listen for the clearing of the current output cell\n",
       "var outputEl = gd.closest('.output');\n",
       "if (outputEl) {{\n",
       "    x.observe(outputEl, {childList: true});\n",
       "}}\n",
       "\n",
       "                        })                };                });            </script>        </div>"
      ]
     },
     "metadata": {},
     "output_type": "display_data"
    }
   ],
   "source": [
    "px.bar(train.pivot_table(index='Age',columns='Transported',values='PassengerId',aggfunc='count'),barmode='group',height=400)"
   ]
  },
  {
   "cell_type": "code",
   "execution_count": 32,
   "id": "94c802f5",
   "metadata": {
    "execution": {
     "iopub.execute_input": "2023-08-15T11:22:28.153678Z",
     "iopub.status.busy": "2023-08-15T11:22:28.153345Z",
     "iopub.status.idle": "2023-08-15T11:22:28.220603Z",
     "shell.execute_reply": "2023-08-15T11:22:28.219698Z"
    },
    "papermill": {
     "duration": 0.084048,
     "end_time": "2023-08-15T11:22:28.222506",
     "exception": false,
     "start_time": "2023-08-15T11:22:28.138458",
     "status": "completed"
    },
    "tags": []
   },
   "outputs": [
    {
     "data": {
      "text/html": [
       "<div>                            <div id=\"9decda43-ed92-49a1-815b-a5021366b477\" class=\"plotly-graph-div\" style=\"height:400px; width:100%;\"></div>            <script type=\"text/javascript\">                require([\"plotly\"], function(Plotly) {                    window.PLOTLYENV=window.PLOTLYENV || {};                                    if (document.getElementById(\"9decda43-ed92-49a1-815b-a5021366b477\")) {                    Plotly.newPlot(                        \"9decda43-ed92-49a1-815b-a5021366b477\",                        [{\"alignmentgroup\":\"True\",\"hovertemplate\":\"Transported=False\\u003cbr\\u003eAge=%{x}\\u003cbr\\u003evalue=%{y}\\u003cextra\\u003e\\u003c\\u002fextra\\u003e\",\"legendgroup\":\"False\",\"marker\":{\"color\":\"#636efa\",\"pattern\":{\"shape\":\"\"}},\"name\":\"False\",\"offsetgroup\":\"False\",\"orientation\":\"v\",\"showlegend\":true,\"textposition\":\"auto\",\"x\":[0.0,1.0,2.0,3.0,4.0,5.0,6.0,7.0,8.0,9.0,10.0,11.0,12.0,13.0,14.0,15.0,16.0,17.0,18.0,19.0,20.0,21.0,22.0,23.0,24.0,25.0,26.0,27.0,28.0,29.0,30.0,31.0,32.0,33.0,34.0,35.0,36.0,37.0,38.0,39.0,40.0,41.0,42.0,43.0,44.0,45.0,46.0,47.0,48.0,49.0,50.0,51.0,52.0,53.0,54.0,55.0,56.0,57.0,58.0,59.0,60.0,61.0,62.0,63.0,64.0,65.0,66.0,67.0,68.0,69.0,70.0,71.0,72.0,73.0,74.0,75.0,76.0,77.0,78.0,79.0],\"xaxis\":\"x\",\"y\":[34.0,18.0,22.0,16.0,18.0,13.0,17.0,20.0,20.0,18.0,14.0,20.0,12.0,69.0,61.0,64.0,67.0,69.0,160.0,155.0,151.0,185.0,158.0,155.0,184.0,126.0,140.0,132.0,117.0,207.0,101.0,119.0,112.0,95.0,71.0,83.0,89.0,103.0,90.0,76.0,55.0,62.0,66.0,63.0,52.0,47.0,49.0,41.0,33.0,49.0,37.0,38.0,24.0,31.0,35.0,36.0,26.0,24.0,23.0,8.0,19.0,14.0,13.0,16.0,13.0,16.0,3.0,6.0,4.0,5.0,3.0,4.0,2.0,6.0,2.0,2.0,1.0,1.0,2.0,3.0],\"yaxis\":\"y\",\"type\":\"bar\"},{\"alignmentgroup\":\"True\",\"hovertemplate\":\"Transported=True\\u003cbr\\u003eAge=%{x}\\u003cbr\\u003evalue=%{y}\\u003cextra\\u003e\\u003c\\u002fextra\\u003e\",\"legendgroup\":\"True\",\"marker\":{\"color\":\"#EF553B\",\"pattern\":{\"shape\":\"\"}},\"name\":\"True\",\"offsetgroup\":\"True\",\"orientation\":\"v\",\"showlegend\":true,\"textposition\":\"auto\",\"x\":[0.0,1.0,2.0,3.0,4.0,5.0,6.0,7.0,8.0,9.0,10.0,11.0,12.0,13.0,14.0,15.0,16.0,17.0,18.0,19.0,20.0,21.0,22.0,23.0,24.0,25.0,26.0,27.0,28.0,29.0,30.0,31.0,32.0,33.0,34.0,35.0,36.0,37.0,38.0,39.0,40.0,41.0,42.0,43.0,44.0,45.0,46.0,47.0,48.0,49.0,50.0,51.0,52.0,53.0,54.0,55.0,56.0,57.0,58.0,59.0,60.0,61.0,62.0,63.0,64.0,65.0,66.0,67.0,68.0,69.0,70.0,71.0,72.0,73.0,74.0,75.0,76.0,77.0,78.0,79.0],\"xaxis\":\"x\",\"y\":[144.0,49.0,53.0,59.0,53.0,20.0,23.0,32.0,26.0,24.0,25.0,27.0,29.0,72.0,77.0,91.0,80.0,89.0,160.0,138.0,126.0,126.0,133.0,137.0,140.0,117.0,128.0,127.0,150.0,202.0,82.0,83.0,87.0,83.0,77.0,88.0,89.0,74.0,71.0,62.0,73.0,67.0,53.0,65.0,63.0,42.0,48.0,47.0,39.0,34.0,37.0,21.0,28.0,30.0,32.0,32.0,22.0,22.0,24.0,27.0,15.0,18.0,13.0,10.0,16.0,7.0,4.0,7.0,8.0,1.0,6.0,3.0,2.0,1.0,3.0,2.0,1.0,1.0,1.0,null],\"yaxis\":\"y\",\"type\":\"bar\"}],                        {\"template\":{\"data\":{\"histogram2dcontour\":[{\"type\":\"histogram2dcontour\",\"colorbar\":{\"outlinewidth\":0,\"ticks\":\"\"},\"colorscale\":[[0.0,\"#0d0887\"],[0.1111111111111111,\"#46039f\"],[0.2222222222222222,\"#7201a8\"],[0.3333333333333333,\"#9c179e\"],[0.4444444444444444,\"#bd3786\"],[0.5555555555555556,\"#d8576b\"],[0.6666666666666666,\"#ed7953\"],[0.7777777777777778,\"#fb9f3a\"],[0.8888888888888888,\"#fdca26\"],[1.0,\"#f0f921\"]]}],\"choropleth\":[{\"type\":\"choropleth\",\"colorbar\":{\"outlinewidth\":0,\"ticks\":\"\"}}],\"histogram2d\":[{\"type\":\"histogram2d\",\"colorbar\":{\"outlinewidth\":0,\"ticks\":\"\"},\"colorscale\":[[0.0,\"#0d0887\"],[0.1111111111111111,\"#46039f\"],[0.2222222222222222,\"#7201a8\"],[0.3333333333333333,\"#9c179e\"],[0.4444444444444444,\"#bd3786\"],[0.5555555555555556,\"#d8576b\"],[0.6666666666666666,\"#ed7953\"],[0.7777777777777778,\"#fb9f3a\"],[0.8888888888888888,\"#fdca26\"],[1.0,\"#f0f921\"]]}],\"heatmap\":[{\"type\":\"heatmap\",\"colorbar\":{\"outlinewidth\":0,\"ticks\":\"\"},\"colorscale\":[[0.0,\"#0d0887\"],[0.1111111111111111,\"#46039f\"],[0.2222222222222222,\"#7201a8\"],[0.3333333333333333,\"#9c179e\"],[0.4444444444444444,\"#bd3786\"],[0.5555555555555556,\"#d8576b\"],[0.6666666666666666,\"#ed7953\"],[0.7777777777777778,\"#fb9f3a\"],[0.8888888888888888,\"#fdca26\"],[1.0,\"#f0f921\"]]}],\"heatmapgl\":[{\"type\":\"heatmapgl\",\"colorbar\":{\"outlinewidth\":0,\"ticks\":\"\"},\"colorscale\":[[0.0,\"#0d0887\"],[0.1111111111111111,\"#46039f\"],[0.2222222222222222,\"#7201a8\"],[0.3333333333333333,\"#9c179e\"],[0.4444444444444444,\"#bd3786\"],[0.5555555555555556,\"#d8576b\"],[0.6666666666666666,\"#ed7953\"],[0.7777777777777778,\"#fb9f3a\"],[0.8888888888888888,\"#fdca26\"],[1.0,\"#f0f921\"]]}],\"contourcarpet\":[{\"type\":\"contourcarpet\",\"colorbar\":{\"outlinewidth\":0,\"ticks\":\"\"}}],\"contour\":[{\"type\":\"contour\",\"colorbar\":{\"outlinewidth\":0,\"ticks\":\"\"},\"colorscale\":[[0.0,\"#0d0887\"],[0.1111111111111111,\"#46039f\"],[0.2222222222222222,\"#7201a8\"],[0.3333333333333333,\"#9c179e\"],[0.4444444444444444,\"#bd3786\"],[0.5555555555555556,\"#d8576b\"],[0.6666666666666666,\"#ed7953\"],[0.7777777777777778,\"#fb9f3a\"],[0.8888888888888888,\"#fdca26\"],[1.0,\"#f0f921\"]]}],\"surface\":[{\"type\":\"surface\",\"colorbar\":{\"outlinewidth\":0,\"ticks\":\"\"},\"colorscale\":[[0.0,\"#0d0887\"],[0.1111111111111111,\"#46039f\"],[0.2222222222222222,\"#7201a8\"],[0.3333333333333333,\"#9c179e\"],[0.4444444444444444,\"#bd3786\"],[0.5555555555555556,\"#d8576b\"],[0.6666666666666666,\"#ed7953\"],[0.7777777777777778,\"#fb9f3a\"],[0.8888888888888888,\"#fdca26\"],[1.0,\"#f0f921\"]]}],\"mesh3d\":[{\"type\":\"mesh3d\",\"colorbar\":{\"outlinewidth\":0,\"ticks\":\"\"}}],\"scatter\":[{\"fillpattern\":{\"fillmode\":\"overlay\",\"size\":10,\"solidity\":0.2},\"type\":\"scatter\"}],\"parcoords\":[{\"type\":\"parcoords\",\"line\":{\"colorbar\":{\"outlinewidth\":0,\"ticks\":\"\"}}}],\"scatterpolargl\":[{\"type\":\"scatterpolargl\",\"marker\":{\"colorbar\":{\"outlinewidth\":0,\"ticks\":\"\"}}}],\"bar\":[{\"error_x\":{\"color\":\"#2a3f5f\"},\"error_y\":{\"color\":\"#2a3f5f\"},\"marker\":{\"line\":{\"color\":\"#E5ECF6\",\"width\":0.5},\"pattern\":{\"fillmode\":\"overlay\",\"size\":10,\"solidity\":0.2}},\"type\":\"bar\"}],\"scattergeo\":[{\"type\":\"scattergeo\",\"marker\":{\"colorbar\":{\"outlinewidth\":0,\"ticks\":\"\"}}}],\"scatterpolar\":[{\"type\":\"scatterpolar\",\"marker\":{\"colorbar\":{\"outlinewidth\":0,\"ticks\":\"\"}}}],\"histogram\":[{\"marker\":{\"pattern\":{\"fillmode\":\"overlay\",\"size\":10,\"solidity\":0.2}},\"type\":\"histogram\"}],\"scattergl\":[{\"type\":\"scattergl\",\"marker\":{\"colorbar\":{\"outlinewidth\":0,\"ticks\":\"\"}}}],\"scatter3d\":[{\"type\":\"scatter3d\",\"line\":{\"colorbar\":{\"outlinewidth\":0,\"ticks\":\"\"}},\"marker\":{\"colorbar\":{\"outlinewidth\":0,\"ticks\":\"\"}}}],\"scattermapbox\":[{\"type\":\"scattermapbox\",\"marker\":{\"colorbar\":{\"outlinewidth\":0,\"ticks\":\"\"}}}],\"scatterternary\":[{\"type\":\"scatterternary\",\"marker\":{\"colorbar\":{\"outlinewidth\":0,\"ticks\":\"\"}}}],\"scattercarpet\":[{\"type\":\"scattercarpet\",\"marker\":{\"colorbar\":{\"outlinewidth\":0,\"ticks\":\"\"}}}],\"carpet\":[{\"aaxis\":{\"endlinecolor\":\"#2a3f5f\",\"gridcolor\":\"white\",\"linecolor\":\"white\",\"minorgridcolor\":\"white\",\"startlinecolor\":\"#2a3f5f\"},\"baxis\":{\"endlinecolor\":\"#2a3f5f\",\"gridcolor\":\"white\",\"linecolor\":\"white\",\"minorgridcolor\":\"white\",\"startlinecolor\":\"#2a3f5f\"},\"type\":\"carpet\"}],\"table\":[{\"cells\":{\"fill\":{\"color\":\"#EBF0F8\"},\"line\":{\"color\":\"white\"}},\"header\":{\"fill\":{\"color\":\"#C8D4E3\"},\"line\":{\"color\":\"white\"}},\"type\":\"table\"}],\"barpolar\":[{\"marker\":{\"line\":{\"color\":\"#E5ECF6\",\"width\":0.5},\"pattern\":{\"fillmode\":\"overlay\",\"size\":10,\"solidity\":0.2}},\"type\":\"barpolar\"}],\"pie\":[{\"automargin\":true,\"type\":\"pie\"}]},\"layout\":{\"autotypenumbers\":\"strict\",\"colorway\":[\"#636efa\",\"#EF553B\",\"#00cc96\",\"#ab63fa\",\"#FFA15A\",\"#19d3f3\",\"#FF6692\",\"#B6E880\",\"#FF97FF\",\"#FECB52\"],\"font\":{\"color\":\"#2a3f5f\"},\"hovermode\":\"closest\",\"hoverlabel\":{\"align\":\"left\"},\"paper_bgcolor\":\"white\",\"plot_bgcolor\":\"#E5ECF6\",\"polar\":{\"bgcolor\":\"#E5ECF6\",\"angularaxis\":{\"gridcolor\":\"white\",\"linecolor\":\"white\",\"ticks\":\"\"},\"radialaxis\":{\"gridcolor\":\"white\",\"linecolor\":\"white\",\"ticks\":\"\"}},\"ternary\":{\"bgcolor\":\"#E5ECF6\",\"aaxis\":{\"gridcolor\":\"white\",\"linecolor\":\"white\",\"ticks\":\"\"},\"baxis\":{\"gridcolor\":\"white\",\"linecolor\":\"white\",\"ticks\":\"\"},\"caxis\":{\"gridcolor\":\"white\",\"linecolor\":\"white\",\"ticks\":\"\"}},\"coloraxis\":{\"colorbar\":{\"outlinewidth\":0,\"ticks\":\"\"}},\"colorscale\":{\"sequential\":[[0.0,\"#0d0887\"],[0.1111111111111111,\"#46039f\"],[0.2222222222222222,\"#7201a8\"],[0.3333333333333333,\"#9c179e\"],[0.4444444444444444,\"#bd3786\"],[0.5555555555555556,\"#d8576b\"],[0.6666666666666666,\"#ed7953\"],[0.7777777777777778,\"#fb9f3a\"],[0.8888888888888888,\"#fdca26\"],[1.0,\"#f0f921\"]],\"sequentialminus\":[[0.0,\"#0d0887\"],[0.1111111111111111,\"#46039f\"],[0.2222222222222222,\"#7201a8\"],[0.3333333333333333,\"#9c179e\"],[0.4444444444444444,\"#bd3786\"],[0.5555555555555556,\"#d8576b\"],[0.6666666666666666,\"#ed7953\"],[0.7777777777777778,\"#fb9f3a\"],[0.8888888888888888,\"#fdca26\"],[1.0,\"#f0f921\"]],\"diverging\":[[0,\"#8e0152\"],[0.1,\"#c51b7d\"],[0.2,\"#de77ae\"],[0.3,\"#f1b6da\"],[0.4,\"#fde0ef\"],[0.5,\"#f7f7f7\"],[0.6,\"#e6f5d0\"],[0.7,\"#b8e186\"],[0.8,\"#7fbc41\"],[0.9,\"#4d9221\"],[1,\"#276419\"]]},\"xaxis\":{\"gridcolor\":\"white\",\"linecolor\":\"white\",\"ticks\":\"\",\"title\":{\"standoff\":15},\"zerolinecolor\":\"white\",\"automargin\":true,\"zerolinewidth\":2},\"yaxis\":{\"gridcolor\":\"white\",\"linecolor\":\"white\",\"ticks\":\"\",\"title\":{\"standoff\":15},\"zerolinecolor\":\"white\",\"automargin\":true,\"zerolinewidth\":2},\"scene\":{\"xaxis\":{\"backgroundcolor\":\"#E5ECF6\",\"gridcolor\":\"white\",\"linecolor\":\"white\",\"showbackground\":true,\"ticks\":\"\",\"zerolinecolor\":\"white\",\"gridwidth\":2},\"yaxis\":{\"backgroundcolor\":\"#E5ECF6\",\"gridcolor\":\"white\",\"linecolor\":\"white\",\"showbackground\":true,\"ticks\":\"\",\"zerolinecolor\":\"white\",\"gridwidth\":2},\"zaxis\":{\"backgroundcolor\":\"#E5ECF6\",\"gridcolor\":\"white\",\"linecolor\":\"white\",\"showbackground\":true,\"ticks\":\"\",\"zerolinecolor\":\"white\",\"gridwidth\":2}},\"shapedefaults\":{\"line\":{\"color\":\"#2a3f5f\"}},\"annotationdefaults\":{\"arrowcolor\":\"#2a3f5f\",\"arrowhead\":0,\"arrowwidth\":1},\"geo\":{\"bgcolor\":\"white\",\"landcolor\":\"#E5ECF6\",\"subunitcolor\":\"white\",\"showland\":true,\"showlakes\":true,\"lakecolor\":\"white\"},\"title\":{\"x\":0.05},\"mapbox\":{\"style\":\"light\"}}},\"xaxis\":{\"anchor\":\"y\",\"domain\":[0.0,1.0],\"title\":{\"text\":\"Age\"}},\"yaxis\":{\"anchor\":\"x\",\"domain\":[0.0,1.0],\"title\":{\"text\":\"value\"}},\"legend\":{\"title\":{\"text\":\"Transported\"},\"tracegroupgap\":0},\"margin\":{\"t\":60},\"barmode\":\"group\",\"height\":400},                        {\"responsive\": true}                    ).then(function(){\n",
       "                            \n",
       "var gd = document.getElementById('9decda43-ed92-49a1-815b-a5021366b477');\n",
       "var x = new MutationObserver(function (mutations, observer) {{\n",
       "        var display = window.getComputedStyle(gd).display;\n",
       "        if (!display || display === 'none') {{\n",
       "            console.log([gd, 'removed!']);\n",
       "            Plotly.purge(gd);\n",
       "            observer.disconnect();\n",
       "        }}\n",
       "}});\n",
       "\n",
       "// Listen for the removal of the full notebook cells\n",
       "var notebookContainer = gd.closest('#notebook-container');\n",
       "if (notebookContainer) {{\n",
       "    x.observe(notebookContainer, {childList: true});\n",
       "}}\n",
       "\n",
       "// Listen for the clearing of the current output cell\n",
       "var outputEl = gd.closest('.output');\n",
       "if (outputEl) {{\n",
       "    x.observe(outputEl, {childList: true});\n",
       "}}\n",
       "\n",
       "                        })                };                });            </script>        </div>"
      ]
     },
     "metadata": {},
     "output_type": "display_data"
    }
   ],
   "source": [
    "px.bar(train.pivot_table(index='Age',columns='Transported',values='PassengerId',aggfunc='count'),barmode='group',height=400)"
   ]
  },
  {
   "cell_type": "code",
   "execution_count": 33,
   "id": "2c0e8055",
   "metadata": {
    "execution": {
     "iopub.execute_input": "2023-08-15T11:22:28.256598Z",
     "iopub.status.busy": "2023-08-15T11:22:28.255994Z",
     "iopub.status.idle": "2023-08-15T11:22:28.359057Z",
     "shell.execute_reply": "2023-08-15T11:22:28.358401Z"
    },
    "papermill": {
     "duration": 0.120874,
     "end_time": "2023-08-15T11:22:28.360895",
     "exception": false,
     "start_time": "2023-08-15T11:22:28.240021",
     "status": "completed"
    },
    "tags": []
   },
   "outputs": [
    {
     "data": {
      "text/html": [
       "<div>                            <div id=\"7f57e4a0-fb2e-4994-bb14-bb863e145804\" class=\"plotly-graph-div\" style=\"height:525px; width:100%;\"></div>            <script type=\"text/javascript\">                require([\"plotly\"], function(Plotly) {                    window.PLOTLYENV=window.PLOTLYENV || {};                                    if (document.getElementById(\"7f57e4a0-fb2e-4994-bb14-bb863e145804\")) {                    Plotly.newPlot(                        \"7f57e4a0-fb2e-4994-bb14-bb863e145804\",                        [{\"hovertemplate\":\"Transported=%{x}\\u003cbr\\u003eFoodCourt=%{y}\\u003cextra\\u003e\\u003c\\u002fextra\\u003e\",\"legendgroup\":\"\",\"marker\":{\"color\":\"#636efa\",\"symbol\":\"circle\"},\"mode\":\"markers\",\"name\":\"\",\"showlegend\":false,\"x\":[false,true,false,false,true,true,true,true,true,true,true,true,true,false,true,false,false,false,true,true,false,false,false,false,true,false,false,false,true,false,false,false,false,true,true,true,true,false,false,false,false,true,false,false,true,true,false,true,false,false,false,true,true,true,true,false,false,false,true,true,false,true,true,false,false,true,false,false,false,false,true,true,true,false,false,false,true,true,true,true,false,true,true,true,false,false,true,true,false,false,true,false,true,true,false,true,true,false,false,false,false,false,true,false,false,true,true,true,true,true,false,true,true,false,true,true,false,false,true,false,false,false,true,true,false,true,false,true,false,true,true,false,false,true,false,true,false,true,false,false,false,true,true,true,false,true,true,false,false,false,true,true,true,false,false,false,true,false,true,false,true,true,false,true,false,false,true,false,false,true,false,true,true,false,false,true,false,true,true,true,true,true,true,false,true,false,true,true,true,false,false,false,false,false,false,true,true,true,false,false,false,false,true,false,false,false,true,false,false,false,false,true,true,false,false,true,false,false,false,false,false,true,false,true,false,false,false,true,true,true,false,false,false,false,true,false,false,true,true,false,true,false,false,false,true,true,false,true,false,true,true,false,false,true,true,true,true,true,true,false,true,false,false,true,true,true,true,true,true,true,true,true,false,false,true,false,false,false,true,false,false,true,true,true,true,false,true,true,true,false,false,false,false,false,false,true,true,true,false,false,true,false,false,true,true,true,true,true,false,false,false,true,false,true,true,true,false,true,true,false,true,true,false,false,true,false,false,true,true,false,true,false,false,false,true,false,false,true,false,true,true,false,true,true,true,true,true,false,false,false,true,true,false,false,false,false,true,false,false,false,true,true,false,false,false,true,true,false,false,false,false,false,false,false,false,true,false,false,true,false,true,true,false,true,true,true,true,true,true,true,true,false,true,false,true,true,true,false,false,false,true,false,false,false,false,false,false,false,true,true,false,true,true,true,true,true,true,true,true,true,false,true,false,false,true,false,true,true,true,true,false,false,false,false,true,false,false,true,true,false,true,false,true,false,false,true,true,false,false,true,false,false,false,false,false,true,true,true,true,false,true,false,false,true,false,false,true,true,true,false,true,true,true,true,true,true,true,true,true,false,false,true,true,false,true,false,true,true,false,true,false,false,false,true,false,false,false,false,true,true,true,true,true,false,true,false,false,false,false,false,true,true,true,true,false,true,true,true,true,false,true,false,false,true,true,false,false,true,true,false,false,true,true,false,true,true,true,true,false,true,true,true,false,true,false,false,true,false,false,true,false,true,false,true,true,true,true,true,true,false,true,false,false,false,false,false,false,false,false,true,true,false,false,true,true,false,true,true,true,false,true,false,false,false,false,true,false,false,true,true,true,false,true,true,true,false,true,true,true,true,false,true,true,false,false,true,false,false,false,false,true,true,false,true,true,false,true,true,true,true,false,true,true,true,false,true,true,true,false,true,false,false,true,false,false,true,false,true,false,false,false,true,false,false,false,false,false,false,false,false,true,false,true,true,true,false,true,false,false,false,true,true,false,false,true,true,false,true,true,true,false,true,false,true,true,true,true,true,true,true,false,false,true,false,true,false,true,false,false,true,true,true,false,false,false,false,true,true,true,false,false,false,false,false,true,false,true,false,true,false,false,true,false,true,true,true,false,true,false,true,false,false,true,false,false,false,true,true,false,false,false,false,true,true,false,false,true,true,true,false,true,false,false,false,true,true,false,true,false,false,false,false,true,true,false,false,true,true,false,true,false,true,false,true,true,false,true,false,true,false,false,true,false,true,true,true,false,false,false,true,true,true,false,true,true,true,false,true,true,false,true,true,true,true,false,false,false,false,false,false,false,true,true,true,true,true,false,true,true,false,false,false,false,true,true,false,true,false,false,true,false,false,false,false,true,false,false,false,false,false,true,false,true,false,true,false,true,false,true,true,false,false,false,true,false,false,true,false,true,true,false,false,false,false,false,true,false,true,true,false,false,true,true,true,false,false,true,false,true,true,true,true,false,false,false,true,true,true,true,false,false,false,false,true,false,true,true,false,false,false,true,true,false,true,true,true,false,false,false,true,true,false,false,true,false,false,true,true,false,true,false,false,false,true,false,true,false,true,true,false,false,true,false,false,false,true,false,true,false,true,false,false,false,false,true,false,true,false,false,true,false,true,true,false,false,true,true,true,true,false,false,true,false,true,false,false,true,true,true,false,false,true,false,false,false,false,true,false,false,true,true,false,false,false,true,false,true,true,false,true,true,false,false,false,false,true,true,true,true,false,false,false,true,true,true,true,false,false,false,true,true,true,true,false,false,true,true,false,false,false,false,false,false,true,true,true,false,false,true,false,false,true,true,false,true,false,true,true,false,true,false,true,false,false,true,false,false,false,false,false,true,false,true,true,true,false,false,true,true,true,true,false,true,false,true,false,false,true,false,true,true,true,true,true,true,true,true,true,false,false,false,true,true,false,false,true,true,true,false,true,false,false,false,false,false,false,true,true,true,true,false,true,false,true,true,false,true,true,false,false,true,true,false,true,false,false,false,true,true,true,true,false,true,false,true,true,true,false,true,false,false,true,false,false,false,false,false,true,false,false,true,true,true,false,true,false,false,false,false,true,false,false,false,true,false,true,false,true,false,true,true,true,true,false,false,false,false,false,true,true,true,true,true,false,false,true,false,true,true,true,false,true,true,true,true,true,false,false,false,true,false,false,false,true,true,false,false,false,true,false,false,false,true,false,false,false,false,false,true,true,false,false,false,true,false,true,true,true,false,false,false,false,false,true,true,false,true,true,false,false,true,false,true,true,false,false,true,false,true,true,true,false,true,false,false,true,true,false,true,false,false,true,true,false,false,true,true,false,false,true,true,false,true,false,false,false,false,true,true,false,false,false,true,false,false,false,false,true,false,true,true,false,false,false,false,false,true,false,true,true,true,false,true,true,false,false,true,true,false,false,false,false,false,false,true,false,true,false,false,true,false,true,false,false,true,true,true,false,true,false,true,true,true,false,false,false,false,true,false,true,false,true,false,true,true,false,false,false,false,false,true,false,false,false,false,false,true,false,false,false,false,false,false,true,true,true,true,false,true,true,true,false,true,true,true,true,false,false,false,true,false,false,true,false,false,false,false,false,false,true,true,true,true,false,true,false,false,true,false,true,false,false,true,false,true,false,true,true,true,true,false,false,false,true,true,false,true,false,false,false,true,false,false,true,false,false,true,true,false,false,true,false,true,false,false,false,false,false,true,true,false,true,true,false,false,false,true,true,false,false,false,false,false,true,true,false,false,false,true,true,true,true,true,true,false,true,true,true,true,true,false,false,false,true,true,false,true,false,true,false,true,false,true,false,true,true,false,false,true,false,false,false,false,false,false,false,false,true,false,true,true,false,false,false,false,true,false,true,false,false,true,true,false,false,true,true,true,true,false,true,true,false,true,true,true,true,true,true,false,false,false,true,true,false,true,false,true,true,true,false,false,false,true,true,false,true,true,false,true,true,true,true,true,false,false,true,true,false,false,false,true,true,true,false,false,false,true,false,true,false,false,true,false,false,true,false,true,true,false,false,true,false,false,true,false,false,false,false,true,false,false,true,true,false,false,true,false,false,false,false,false,false,false,false,false,false,true,false,false,true,false,false,false,true,false,false,true,false,false,false,true,true,true,false,false,true,false,false,false,true,false,false,true,false,false,true,false,false,false,false,false,false,true,false,true,false,false,false,true,false,true,false,false,true,true,true,true,false,true,false,false,true,true,false,false,false,true,true,false,false,true,false,true,true,false,false,false,false,false,true,false,true,true,false,false,true,true,true,true,false,true,true,true,false,true,true,false,false,true,true,false,false,false,false,false,false,false,true,true,false,false,true,false,false,true,true,false,false,true,true,false,false,false,false,true,false,true,false,true,true,false,true,false,true,true,false,false,true,true,true,true,true,true,false,false,false,true,true,false,false,false,true,true,false,false,false,false,false,false,true,true,true,false,true,false,true,false,false,true,false,true,false,false,false,true,false,false,false,false,true,true,false,true,false,false,false,false,false,false,true,true,true,false,false,false,true,false,false,false,false,true,true,false,true,true,false,false,true,true,false,false,false,false,false,false,false,false,true,false,false,true,true,false,false,true,true,false,false,false,true,true,true,false,false,true,false,false,false,false,false,false,false,false,false,false,false,false,true,false,true,false,true,true,true,true,false,false,true,false,false,true,true,true,false,true,false,false,true,true,true,false,true,true,true,true,true,false,true,false,true,false,false,true,true,false,false,true,true,false,true,false,false,true,false,true,false,false,false,false,false,true,false,true,true,true,false,false,false,true,true,false,false,true,true,true,true,false,true,false,false,true,false,false,true,true,true,false,true,true,true,false,true,true,false,false,false,true,true,true,true,false,false,false,false,true,true,false,true,false,false,false,true,true,false,true,false,true,false,false,true,false,false,true,false,false,false,true,false,true,true,true,false,true,false,true,false,true,false,false,false,false,true,false,false,false,true,true,true,false,false,false,false,false,false,false,false,false,true,true,false,false,false,true,false,false,true,false,false,false,true,false,false,false,false,false,true,false,false,false,false,true,true,true,true,true,true,true,true,false,false,false,false,true,false,true,false,false,false,false,false,true,true,true,true,true,false,true,false,true,false,false,false,true,true,true,true,false,false,false,false,false,false,false,false,false,false,true,false,false,true,false,true,true,false,true,false,true,false,false,true,false,false,false,false,false,true,false,true,true,true,false,true,true,true,false,true,false,false,false,false,false,false,false,true,true,false,false,false,true,false,false,true,true,true,true,false,true,false,false,false,false,false,true,true,true,true,true,true,true,false,false,true,false,true,false,true,true,true,true,true,false,true,true,false,false,true,false,false,true,false,false,false,false,true,false,false,false,false,false,true,false,false,false,false,true,false,false,false,true,false,true,true,false,true,true,false,true,false,false,true,false,true,true,false,true,false,false,false,false,true,true,false,false,false,false,true,false,true,true,false,false,true,false,true,false,false,false,true,false,false,true,false,true,true,false,false,false,false,true,false,false,true,true,false,true,false,true,true,true,true,false,false,false,false,false,true,true,false,true,false,false,false,false,true,true,false,false,true,false,true,false,false,false,true,false,false,false,false,false,false,true,false,false,false,true,true,true,true,false,true,true,true,true,true,false,false,false,true,true,false,true,true,true,true,false,false,false,true,false,false,true,true,false,true,false,false,false,true,true,false,true,false,false,true,false,false,false,true,true,true,false,false,false,false,false,false,false,false,false,true,false,false,true,true,false,false,false,false,false,false,false,true,false,true,false,false,false,true,false,false,false,true,false,false,false,true,false,true,true,false,true,false,true,false,false,true,false,true,true,true,false,false,true,true,true,true,true,true,false,true,false,true,false,true,false,true,false,false,false,true,false,false,false,false,true,false,false,true,false,true,false,true,true,true,true,true,true,true,true,true,true,true,false,true,false,false,false,true,false,true,true,false,true,true,true,true,false,false,false,false,false,false,false,true,true,true,false,false,true,false,false,true,false,false,false,false,false,true,true,true,false,true,false,true,true,false,false,false,true,false,true,false,true,false,false,true,true,true,true,true,false,false,true,false,false,false,true,false,false,false,true,false,false,true,false,true,true,false,false,false,false,false,false,true,false,true,true,true,false,false,false,false,false,true,true,false,false,false,true,false,false,true,false,true,true,false,false,false,false,false,false,false,true,true,false,true,false,false,true,false,false,true,false,true,false,false,false,false,false,false,false,false,false,false,true,true,false,false,true,true,true,true,true,true,false,true,true,true,false,false,true,false,false,true,false,true,true,true,true,false,false,false,false,true,true,false,true,true,false,true,false,true,false,false,true,true,false,false,false,false,true,true,true,true,false,false,true,false,false,true,false,true,false,false,false,true,false,false,true,true,false,true,false,false,false,false,false,false,false,false,false,true,true,false,false,true,false,true,true,true,false,false,false,true,false,false,false,true,true,true,true,false,false,false,false,true,false,true,false,true,false,false,false,false,true,true,false,false,true,true,true,false,true,true,true,false,true,true,true,false,true,true,false,true,true,true,false,false,true,false,false,true,false,false,false,true,false,false,true,true,false,true,false,false,false,true,true,true,true,true,true,true,false,false,true,true,false,false,true,true,true,true,true,false,true,false,false,true,false,false,false,true,false,false,false,false,true,false,true,false,true,false,false,false,false,true,false,true,false,true,false,false,false,true,false,false,false,false,false,false,true,true,true,true,true,true,false,true,false,true,true,true,false,false,false,false,true,true,false,false,false,false,false,false,true,true,true,false,false,true,true,false,false,false,false,false,false,false,false,true,true,false,false,true,true,false,false,true,true,false,false,false,true,false,false,false,true,true,false,true,false,false,true,true,true,false,true,false,true,false,false,false,false,true,false,false,false,false,false,false,false,true,true,true,false,false,false,false,true,true,true,false,false,false,false,false,false,false,false,false,false,false,false,false,true,false,false,true,false,false,false,false,false,false,false,false,false,true,true,false,true,true,false,true,false,true,true,false,true,true,false,false,true,true,true,false,true,false,true,false,true,false,true,false,true,false,true,true,false,true,true,true,false,true,true,true,false,false,true,true,false,false,false,false,false,true,false,true,true,true,true,true,true,true,false,false,true,true,true,true,false,true,true,false,false,false,false,true,true,true,true,true,false,false,true,false,true,false,false,false,false,false,true,true,true,true,false,true,true,true,true,false,false,false,true,true,true,false,false,true,false,true,false,true,false,false,true,false,false,false,false,false,false,false,false,false,false,false,true,false,true,false,false,false,false,false,false,false,false,true,true,true,true,false,true,false,false,false,false,false,false,true,true,true,false,true,true,true,false,true,false,false,false,true,false,false,true,false,false,false,false,false,false,false,true,true,true,false,false,false,false,false,true,true,false,true,true,true,false,true,false,false,true,false,true,true,true,true,true,false,true,true,true,false,false,false,false,true,true,true,true,false,true,true,false,true,true,true,true,true,false,false,true,false,true,false,true,false,true,true,true,true,true,false,false,false,false,true,false,false,true,false,false,false,true,true,true,true,true,false,true,true,true,true,true,true,false,false,false,true,false,true,false,true,true,true,true,false,false,true,false,true,false,false,true,true,false,false,true,false,true,true,true,false,false,true,true,true,true,false,false,true,false,false,true,false,false,true,true,false,false,false,true,false,false,false,true,true,false,true,true,true,false,true,true,true,true,true,false,true,false,true,false,true,true,false,true,false,false,false,true,false,true,false,true,true,false,false,true,true,false,false,false,true,true,true,false,false,false,true,true,true,true,false,false,true,false,true,true,false,true,true,true,false,false,false,false,true,true,true,true,true,false,true,false,false,true,true,false,false,true,true,true,true,false,true,false,false,false,false,true,true,false,true,false,true,false,true,true,true,false,true,true,true,true,false,false,false,false,false,true,false,true,true,true,false,false,false,false,true,true,true,false,false,true,true,true,true,true,false,false,false,true,true,false,false,true,true,false,false,false,false,true,true,true,true,true,false,true,true,true,true,true,false,true,true,false,true,false,false,false,true,true,false,false,true,true,true,true,true,false,false,true,false,false,false,false,true,false,true,true,false,true,false,true,true,true,false,false,true,false,true,true,false,false,true,true,false,false,true,false,true,false,true,true,false,false,false,false,true,false,true,true,true,false,false,true,true,true,false,true,true,true,true,false,false,true,true,true,true,true,true,false,false,true,true,false,true,true,false,false,true,true,false,true,false,false,true,false,true,false,false,true,false,true,false,true,true,true,true,true,true,true,false,true,false,false,false,false,false,true,true,false,true,true,true,true,true,true,false,true,false,true,false,false,true,true,false,true,false,true,true,true,true,false,false,true,true,true,true,false,false,false,true,false,false,false,false,true,false,true,true,false,false,false,true,false,true,true,true,true,false,false,false,false,true,false,true,false,true,true,true,true,true,true,false,true,false,false,true,true,false,true,false,true,false,true,false,true,false,true,false,false,true,false,true,true,true,true,false,false,true,false,false,true,false,false,true,true,false,true,true,true,true,true,false,true,false,true,false,true,true,true,true,true,false,false,false,true,true,true,true,true,true,false,false,false,false,false,false,true,true,true,false,true,true,true,true,true,false,true,false,false,false,false,true,false,true,false,false,true,false,false,false,false,true,false,false,true,true,false,false,false,false,false,true,true,false,false,false,true,false,false,false,false,true,true,true,true,true,true,false,true,true,true,true,true,true,true,false,false,true,false,false,true,false,true,false,true,false,true,true,true,false,true,true,true,false,false,true,false,false,true,false,true,true,true,true,true,false,false,true,true,false,true,true,false,false,true,false,false,true,false,true,true,false,true,true,true,false,false,true,false,true,false,false,true,true,false,true,true,true,false,false,true,false,true,false,false,true,true,true,false,false,true,true,true,true,false,false,false,false,false,false,false,false,false,true,false,false,true,false,false,false,true,false,true,true,false,true,true,false,true,true,false,false,true,false,true,true,true,true,true,true,false,true,false,false,false,true,false,false,false,true,false,false,false,false,false,true,true,false,true,false,true,false,true,true,true,true,false,true,true,false,false,true,true,true,false,false,true,true,true,false,true,true,true,false,true,true,true,false,false,false,false,false,false,true,true,false,false,false,true,false,false,false,false,true,true,true,false,false,false,false,true,true,true,true,false,true,false,true,false,false,false,true,true,true,false,false,true,true,false,true,true,false,false,true,false,false,false,false,true,true,true,true,false,false,true,false,true,true,true,true,false,false,false,false,false,false,false,true,true,true,true,true,false,false,true,false,false,true,false,true,false,false,true,false,true,true,true,false,true,true,true,true,false,true,false,true,true,false,true,true,false,true,true,false,true,false,false,false,false,true,false,false,false,true,true,true,true,true,false,true,false,false,false,true,true,true,true,true,false,false,false,true,true,true,false,true,false,true,false,false,true,true,false,false,false,true,true,true,false,false,true,true,true,true,false,false,true,true,true,true,true,true,false,true,false,false,false,false,false,true,true,true,false,false,true,true,true,true,false,true,false,true,false,true,false,false,true,true,false,true,true,true,true,false,false,false,true,true,true,true,true,false,false,false,true,false,false,true,true,false,false,false,true,true,false,true,true,false,true,true,false,true,true,false,true,true,true,false,true,false,false,true,false,true,false,false,true,true,false,false,false,false,false,false,false,false,true,true,true,true,false,false,true,true,true,false,true,true,false,true,true,false,true,false,true,true,true,true,true,false,false,true,true,true,true,false,false,true,true,true,false,true,false,false,true,true,false,true,true,false,false,true,true,false,true,true,false,true,true,false,true,false,true,true,true,true,true,true,true,true,false,true,true,true,false,true,false,true,false,true,false,false,true,true,false,true,false,true,false,true,false,true,true,true,true,false,true,true,true,false,false,true,false,true,true,true,true,false,false,true,true,true,true,true,false,true,true,true,false,true,false,false,false,false,false,true,false,false,true,true,true,true,false,false,false,false,true,true,true,true,false,true,false,false,true,true,true,false,true,false,false,true,false,true,false,false,false,true,true,false,true,true,true,true,false,false,false,false,true,true,true,true,true,true,true,true,true,false,true,true,false,true,true,true,true,false,true,true,false,false,false,false,false,true,true,false,false,false,false,false,false,true,true,true,false,true,false,false,false,false,true,true,false,true,false,false,true,false,true,false,false,false,true,true,true,true,false,false,false,true,false,true,true,false,false,false,true,false,true,false,false,false,false,false,true,true,true,true,true,true,false,true,false,true,false,false,false,false,true,true,false,false,true,true,true,true,false,false,false,false,true,true,true,true,false,true,true,true,false,true,true,false,false,false,false,true,true,false,true,true,false,false,false,false,true,false,true,true,false,true,false,false,false,true,true,true,true,false,false,false,true,true,true,true,true,true,false,false,true,false,true,true,true,false,true,false,false,false,false,false,false,true,false,false,true,true,true,true,false,false,true,true,true,false,true,true,true,true,true,false,true,true,true,true,true,true,false,false,false,false,false,true,false,true,true,false,false,true,true,true,true,true,true,false,false,true,true,false,true,true,true,false,false,false,false,false,false,true,false,true,false,false,false,false,false,true,true,true,true,true,true,true,true,false,false,true,true,true,false,false,true,false,false,true,false,true,true,false,true,true,true,true,false,false,false,true,true,true,false,true,true,false,false,false,true,false,false,true,false,false,true,false,false,false,true,true,true,true,false,false,true,true,true,true,true,false,true,false,true,true,true,true,false,false,true,true,true,true,true,true,true,false,false,false,false,false,false,false,true,true,true,false,false,false,true,true,true,true,true,true,false,true,true,true,false,true,true,true,false,false,true,true,false,false,true,false,true,true,true,true,false,false,false,true,true,false,true,false,true,true,true,true,true,true,true,false,false,true,true,true,false,false,false,true,true,true,false,true,true,true,true,true,true,false,true,true,false,false,true,false,true,true,true,false,true,true,false,false,false,true,false,true,true,true,true,true,true,false,true,false,false,false,false,true,true,false,false,true,true,true,true,false,false,false,false,true,false,true,false,true,false,true,true,false,true,true,true,true,false,true,true,false,false,true,true,true,false,false,false,false,false,false,false,false,false,false,true,true,false,true,true,true,true,true,true,true,false,true,true,true,true,true,true,true,true,true,true,true,false,false,true,false,false,true,true,true,false,true,true,true,true,false,false,true,false,false,true,true,true,true,false,true,true,false,false,false,true,false,true,false,true,true,true,true,true,false,false,false,false,false,false,true,true,false,true,true,false,false,false,false,true,true,true,true,false,true,false,true,false,true,true,false,false,true,true,false,true,true,false,true,false,false,true,true,false,true,true,false,false,false,false,true,false,true,false,false,false,true,true,false,false,false,true,false,true,true,false,false,true,true,true,true,false,true,false,true,true,false,false,true,true,false,true,false,true,false,true,true,false,true,false,false,true,false,false,false,false,false,false,true,false,true,false,true,false,false,true,false,false,true,false,false,true,true,true,true,true,true,true,true,true,true,false,false,false,true,true,true,true,true,true,true,false,true,false,false,true,true,false,false,true,true,true,false,true,false,true,false,false,true,false,false,false,true,true,true,true,false,true,true,true,true,true,false,true,true,false,false,true,true,true,false,false,true,true,false,true,true,true,true,false,false,false,true,true,false,false,false,true,true,true,true,true,true,true,false,false,false,false,true,false,false,true,true,true,true,true,false,true,false,false,false,true,false,false,true,true,true,false,false,true,false,true,false,true,true,false,true,false,false,true,true,false,false,false,true,true,true,false,true,true,true,false,true,true,false,true,false,true,true,true,true,true,false,true,true,true,true,false,true,true,true,true,true,true,true,true,true,false,false,true,true,true,true,true,false,false,false,true,true,false,true,false,false,false,true,true,true,false,true,false,true,true,true,true,true,false,false,true,true,true,true,true,true,true,false,true,true,true,false,false,true,true,true,false,true,true,true,false,true,true,false,true,true,true,true,false,true,false,true,true,true,true,false,true,false,false,true,false,false,true,false,true,false,false,true,true,false,false,true,true,false,false,true,true,true,true,false,true,true,true,true,false,false,true,true,true,false,false,false,false,true,true,false,false,true,true,false,true,true,true,false,true,true,false,true,true,true,false,false,false,false,false,false,false,false,true,true,false,false,false,false,true,false,true,false,true,true,false,true,false,true,false,true,false,false,false,true,false,false,false,true,true,false,false,true,false,true,false,false,true,false,false,true,true,true,true,true,true,false,false,false,false,false,false,false,true,false,false,true,true,false,true,false,false,false,true,true,false,false,true,true,false,true,true,false,true,false,false,true,false,true,true,true,false,true,true,false,false,false,false,true,true,true,true,true,false,true,false,true,false,false,true,true,true,false,false,true,true,true,true,true,false,false,true,false,true,true,true,false,true,false,true,false,false,false,true,false,false,false,true,false,true,true,true,true,true,false,true,true,false,true,true,true,false,true,true,true,false,true,true,false,true,false,true,false,true,true,false,true,false,false,false,true,false,false,true,false,true,true,false,false,false,true,true,true,true,false,true,false,true,false,false,true,false,true,false,false,false,true,false,true,true,true,true,true,true,true,false,true,true,true,false,true,false,true,false,true,true,true,true,true,true,true,true,false,false,false,true,false,true,false,false,true,false,false,true,true,true,true,true,false,false,false,true,true,true,true,false,false,false,false,true,false,false,false,false,true,false,true,false,true,false,false,true,false,false,true,true,true,true,true,true,true,false,true,false,false,false,false,true,false,false,true,true,true,false,true,true,true,true,true,true,true,true,true,true,true,false,true,true,false,true,true,true,true,true,true,true,true,false,true,false,false,false,true,true,true,false,false,true,false,false,true,false,true,false,true,true,true,true,false,false,false,true,false,false,false,false,false,true,false,false,false,false,true,false,false,false,false,true,true,false,false,true,false,true,true,true,true,true,true,false,true,false,false,false,true,true,true,true,false,true,false,false,true,false,true,false,true,false,true,false,true,false,true,false,false,false,false,false,false,true,true,true,false,true,true,true,true,true,true,true,true,false,true,true,true,true,false,true,true,true,false,true,true,false,true,true,true,true,true,true,false,false,false,false,true,true,false,true,false,true,true,true,true,false,false,true,false,false,true,true,true,true,true,false,true,true,false,true,true,true,true,false,false,false,true,true,true,false,true,true,true,false,true,true,true,false,true,true,true,false,true,false,false,true,false,false,true,false,false,false,false,true,true,true,true,true,true,true,true,false,false,false,true,false,true,true,true,true,true,true,false,false,true,true,false,true,false,false,true,false,false,true,false,false,false,true,false,true,false,false,true,true,false,true,false,false,true,true,true,false,true,true,true,true,true,false,true,false,true,false,false,true,false,false,false,false,false,true,true,false,false,true,true,true,true,false,true,true,true,false,false,true,false,true,true,false,true,false,true,true,false,true,false,true,false,true,false,true,true,false,true,true,false,true,true,true,false,false,true,true,true,true,false,true,true,true,false,false,false,false,true,false,true,true,true,true,false,false,true,true,false,false,true,true,true,false,false,false,false,false,false,false,false,true,false,true,true,false,false,true,true,true,false,true,true,true,true,true,true,true,true,true,false,true,false,true,true,false,true,true,false,true,true,true,false,true,false,true,false,false,false,false,true,false,true,false,true,false,true,false,false,true,true,false,false,false,true,false,false,true,false,true,false,false,true,true,true,true,true,true,false,true,true,false,true,true,false,true,true,true,true,true,true,false,true,true,false,false,true,false,false,true,false,true,true,false,false,true,true,true,false,true,true,true,true,false,false,false,false,false,true,true,false,true,true,true,true,false,false,false,true,true,true,false,false,true,false,true,true,true,true,true,true,true,true,true,true,true,false,false,true,false,false,true,true,true,true,true,false,true,false,false,false,true,false,false,false,true,true,true,true,false,false,true,true,false,true,false,false,true,false,true,false,true,true,false,false,true,true,true,true,true,true,true,true,false,true,true,true,false,false,false,false,false,false,true,false,true,true,true,true,false,true,false,false,false,false,false,false,false,true,false,false,true,true,false,true,true,false,true,true,false,false,true,true,false,true,true,true,true,false,false,false,true,true,true,true,false,true,false,false,false,true,true,false,false,true,false,false,true,true,true,false,true,true,false,false,false,true,true,true,true,true,false,true,true,true,true,false,false,false,true,true,false,true,true,true,true,false,false,true,true,true,true,true,false,false,false,false,false,true,false,true,true,false,true,true,false,true,false,true,true,true,false,false,true,false,false,false,true,true,true,true,true,true,true,true,false,true,false,false,false,true,false,false,true,true,true,false,false,true,false,true,true,true,true,true,true,false,true,true,true,true,false,true,false,false,true,false,false,false,true,false,true,false,true,true,false,true,false,true,true,true,false,true,true,false,true,false,false,false,true,true,true,true,true,false,false,false,true,false,true,false,false,false,true,true,false,true,false,true,true,true,true,true,true,false,false,false,false,false,true,true,true,false,true,true,false,false,true,false,false,false,true,true,false,false,true,false,false,true,true,true,true,true,true,false,true,true,true,true,false,false,true,false,true,false,true,true,true,false,false,false,false,true,false,true,true,true,false,true,false,false,true,false,false,true,true,true,false,false,true,true,false,false,false,true,true,true,true,true,false,false,false,false,true,false,true,true,true,true,false,false,false,true,false,true,true,true,true,false,false,true,true,false,false,true,false,false,false,true,true,true,false,false,false,false,false,false,true,true,false,true,true,true,false,true,false,true,false,false,true,false,true,true,false,false,true,false,false,false,false,true,true,false,true,true,false,true,false,true,false,false,false,false,false,false,true,false,false,true,false,false,true,false,false,true,true,true,true,true,true,false,true,false,true,true,false,true,true,true,true,false,true,true,true,false,false,false,true,false,true,true,true,true,true,true,true,false,true,true,false,true,false,false,false,true,false,true,true,true,false,false,false,false,true,true,true,true,false,true,true,true,false,false,false,true,true,true,true,true,true,false,false,true,true,false,false,true,true,false,true,false,true,true,false,true,false,true,true,false,true,true,false,true,false,false,true,true,true,false,false,false,true,true,true,true,false,true,false,true,true,false,true,false,false,false,true,true,true,true,true,true,false,true,true,true,true,false,false,false,false,true,true,true,true,true,false,true,true,true,false,true,true,false,true,false,true,false,true,true,true,true,true,true,true,false,true,false,false,false,false,false,false,true,true,true,true,false,false,true,false,true,false,true,false,true,false,true,true,false,false,true,true,false,false,true,false,true,true,false,true,true,false,true,false,false,true,false,false,true,true,true,true,true,true,false,false,true,false,true,false,false,true,true,true,false,false,true,true,true,false,true,true,true,true,false,false,true,false,true,true,true,true,true,false,true,false,false,true,true,false,true,false,true,false,false,false,true,true,false,false,false,true,true,true,true,false,false,false,true,true,true,true,false,true,true,true,true,false,true,false,false,false,true,false,false,false,true,true,false,true,true,true,true,false,false,true,true,false,true,true,false,false,false,true,true,true,false,false,true,false,true,true,false,false,true,true,true,true,true,true,false,false,true,true,true,true,false,true,false,true,false,false,false,true,true,false,true,true,false,false,true,false,true,false,true,false,true,false,true,true,true,true,true,false,true,false,true,false,false,true,true,true,true,true,true,true,false,true,false,true,true,true,true,false,true,true,false,true,true,true,true,false,false,true,false,false,false,false,false,false,false,false,false,false,true,true,true,true,true,false,false,false,true,true,true,true,false,true,false,true,false,true,false,false,true,false,true,false,false,true,false,false,true,true,false,false,false,false,false,false,false,true,false,false,true,true,true,false,false,false,true,false,true,true,true,false,true,false,false,false,true,true,true,false,true,false,true,true,true,true,false,true,false,false,true,false,false,false,true,true,false,false,false,true,false,true,true,false,true,false,false,false,true,true,false,true,false,false,false,false,true,false,false,true,true,false,false,false,false,true,false,true,true,false,false,true,true,false,true,false,true,false,true,true,false,true,true,true,false,true,true,false,false,false,true,false,false,true,true,true,false,false,false,false,true,false,false,true,false,false,false,true,true,false,false,true,false,true,false,false,false,true,false,false,false,true,false,false,false,true,true,false,true,true,false,true,true,true,true,true,false,true,true,false,false,true,false,true,true,false,true,true,false,true,false,true,false,true,false,true,false,true,true,false,false,true,true,false,true,true,true,false,true,true,false,false,false,true,false,true,false,false,true,true,false,false,true,true,true,true,true,true,false,true,false,true,false,false,true,false,false,false,false,true,false,false,false,false,true,false,true,true,true,false,false,false,true,true,false,true,false,false,true,false,true,true,false,true,true,true,false,true,false,true,false,false,true,true,true,false,true,false,true,true,true,true,true,false,false,false,false,false,true,true,true,false,false,true,true,true,false,false,false,false,false,true,false,true,false,false,true,false,true,false,false,false,false,false,false,false,false,false,false,false,true,true,false,false,false,false,true,true,false,true,true,false,true,false,true,true,true,true,false,false,false,false,false,true,false,true,true,false,false,false,true,true,false,false,false,false,false,true,true,false,false,true,true,true,true,false,false,true,true,false,true,false,false,true,false,false,true,true,true,false,true,false,true,false,false,false,false,true,true,false,true,true,true,true,false,false,false,false,false,false,false,false,false,true,true,true,true,true,true,false,false,false,true,true,true,true,true,true,true,false,true,true,false,true,true,false,false,true,false,true,true,true,false,false,true,false,true,true,true,false,false,true,true,true,false,false,true,true,false,false,true,true,false,false,false,false,false,false,false,true,false,true,false,false,false,false,true,true,true,false,true,true,true,true,true,true,false,true,true,false,false,false,false,false,false,true,true,true,false,false,true,false,true,true,true,false,true,false,false,false,false,false,false,true,true,false,false,false,true,true,true,true,true,false,true,false,true,true,true,true,true,false,true,true,true,true,true,false,false,true,false,false,true,true,false,true,true,true,true,false,true,false,false,true,false,false,true,true,false,false,false,false,false,true,true,true,true,true,false,true,true,true,false,true,false,true,true,false,true,true,false,true,false,true,true,true,true,true,false,true,false,false,false,false,true,false,false,false,true,true,false,false,false,true,true,false,true,true,false,false,false,true,true,true,true,false,false,true,true,false,false,false,false,false,true,false,true,true,false,false,true,false,true,false,true,true,false,true,false,true,true,false,true,false,false,false,true,true,false,false,true,true,false,false,false,true,false,true,false,false,true,true,true,true,false,true,true,false,false,true,true,false,false,false,true,true,true,false,false,true,false,false,true,false,false,true,true,false,false,false,true,false,false,false,false,true,false,false,false,true,false,false,false,true,false,false,false,true,true,false,false,false,true,true,false,true,false,false,false,true,true,true,false,false,false,false,false,true,false,false,true,true,false,false,false,false,true,true,true,false,false,true,false,false,true,false,false,false,true,false,false,false,false,true,false,true,true,true,true,true,false,false,true,true,false,false,false,false,true,true,false,true,true,false,false,false,false,false,true,true,false,true,false,true,true,false,true,true,true,false,true,true,false,true,false,false,true,true,false,true,false,false,false,true,true,false,true,false,true,true,false,true,false,false,true,false,true,false,true,false,false,false,false,true,true,false,false,true,false,true,false,false,false,true,true,false,true,true,true,false,false,false,true,true,true,false,false,false,false,true,true,false,false,false,true,true,true,false,true,false,false,true,false,false,false,true,true,true,true,true,true,true,false,false,true,false,true,true,true,false,true,false,true,true,true,true,true,false,true,false,false,false,true,true,true,false,true,true,true,false,true,false,false,true,false,false,true,true,false,true,true,false,false,false,false,true,true,true,false,false,true,false,false,false,true,true,false,true,true,true,true,true,false,false,true,true,false,false,false,false,false,false,true,true,true,false,false,false,true,false,true,true,false,true,false,false,true,true,true,false,false,false,false,false,false,true,true,false,true,false,false,false,true,true,false,false,true,false,true,true,false,true,true,false,true,true,true,false,false,false,true,false,false,false,true,true,false,true,false,true,false,false,true,false,true,true,false,true,false,false,false,true,true,true,false,false,false,false,false,false,true,false,true,true,false,false,false,true,true,true,true,true,false,true,true,false,true,false,true,false,false,true,true,false,false,false,false,true,false,false,true,true,true,false,false,false,false,false,false,true,false,false,false,false,false,true,true,true,false,true,true,false,false,true,false,true,true,false,false,false,true,false,false,true,false,false,true,true,true,true,true,false,true,false,true,false,false,false,true,true,true,false,true,false,false,true,true,false,true,false,true,true,false,true,false,false,true,true,true,true,true,true,false,false,false,false,false,false,false,false,false,true,false,false,true,false,false,true,false,false,false,true,false,false,false,false,true,true,false,true,false,true,false,true,true,false,true,true,true,true,true,false,true,true,true,true,true,true,false,false,false,false,false,false,true,true,true,false,false,true,true,false,true,false,false,true,true,false,true,true,true,false,false,true,false,false,false,true,false,false,true,false,true,false,false,true,true,false,false,false,false,false,true,false,true,false,true,true,false,true,false,false,false,true,true,false,false,true,true,true,false,false,true,true,true,false,true,true,true,false,false,true,false,false,true,false,false,true,true,true,true,true,false,true,true,true,false,false,false,true,false,false,false,false,true,true,false,true,false,false,false,true,true,false,false,false,false,true,true,true,true,true,true,true,true,false,false,false,false,true,false,true,true,false,true,true,false,true,false,false,true,false,true,false,false,true,false,false,true,false,false,false,true,false,true,false,true,false,true,true,true,false,true,false,false,true,true,true,true,true,false,false,true,false,false,true,false,true,false,true,false,false,false,false,false,false,true,false,false,false,false,true,false,true,true,false,true,true,true,false,true,true,true,false,false,false,true,true,true,false,true,true,true,false,false,true,false,true,false,true,false,true,false,false,false,false,true,false,true,false,false,false,true,false,false,false,false,true,false,false,false,true,false,true,true,true,false,true,true,true,false,false,true,false,false,false,true,true,true,false,true,false,true,true,false,true,true,false,false,false,false,true,false,false,false,true,true,true,true,true,true,false,false,false,false,false,false,false,true,false,true,true,false,true,false,false,false,true,false,true,false,false,true,true,true,true,false,true,true,false,true,false,false,false,false,false,false,false,true,false,false,false,false,true,true,true,false,false,true,true,false,false,false,true,false,true,false,false,false,false,true,true,false,true,false,true,true,false,false,false,true,true,true,false,true,false,true,true,false,false,true,false,false,false,false,false,true,true,false,true,false,true,false,false,true,true,false,false,true,true,false,false,true,true,false,false,true,true,false,false,false,true,false,false,false,false,true,true,false,false,false,false,true,true,true,false,false,false,false,true,false,false,false,true,false,false,true,false,false,false,false,true,false,true,true,true,true,false,false,false,false,false,false,false,false,false,false,false,true,true,false,false,false,true,true,true,true,false,true,false,false,false,true,true,false,true,false,false,true,true,false,false,false,true,false,true,false,true,true,false,false,true,true,false,true,true,false,false,false,false,true,true,true,false,false,true,false,true,false,true,false,true,false,false,false,false,false,true,true,true,true,false,false,true,false,true,true,false,true,false,true,false,false,false,true,true,false,true,true,true,false,false,false,false,true,false,true,true,false,true,false,false,true,true,false,true,false,false,false,true,false,true,true,true,false,true,true,false,true,true,true,true,true,false,true,true,true,true,true,true,true,false,true,false,true,true,false,true,false,false,false,true,false,false,true,true,false,true,true,true,true,false,true,true,false,false,true,false,true,false,false,false,false,true,true,true,true,true,false,true,true,true,true,false,false,true,false,true,true,true,false,false,false,true,false,true,false,false,false,true,false,false,false,false,false,false,true,true,false,false,false,false,false,true,true,false,false,true,true,false,true,true,false,false,false,false,false,false,false,false,false,false,false,true,true,true,true,false,false,true,false,false,true,true,true,false,false,false,false,true,false,false,false,false,false,true,true,true,false,false,false,true,true,false,false,false,false,true,true,false,false,false,true,true,false,true,true,true,false,false,false,false,false,false,true,true,false,true,false,false,true,false,true,true,true,true,true,false,false,true,false,false,false,true,false,false,false,false,false,false,true,true,true,true,false,false,true,false,false,false,true,true,false,false,true,true,true,false,false,true,false,false,true,false,false,false,false,true,true,false,true,true,false,false,false,true,false,false,true,true,true,false,false,false,true,false,false,true,false,false,false,false,true,false,true,true,true,false,false,false,false,true,true,true,false,false,false,false,true,false,true,false,false,false,false,false,false,true,true,false,false,false,false,true,false,false,true,true,true,false,true,true,true,false,false,true,true,true,false,false,true,true,false,false,false,false,true,true,false,false,false,true,true,true,false,true,false,false,true,false,true,false,false,true,true,false,false,true,true,false,false,false,true,true,true,true,false,true,false,true,false,true,true,false,true,true,true,true,true,false,false,true,true,true,false,true,false,true,true,false,true,false,false,false,false,true,true,true,false,true,true,true,false,true,false,true,false,false,false,true,true,true,false,true,true,true,true,true,true,false,true,false,true,false,true,true,true,true,true,true,false,true,true,false,true,false,false,true,false,true],\"xaxis\":\"x\",\"y\":[0.0,9.0,3576.0,1283.0,70.0,483.0,1539.0,0.0,785.0,0.0,0.0,7295.0,0.0,1.0,974.0,0.0,122.0,1.0,0.0,0.0,0.0,0.0,0.0,0.0,0.0,0.0,0.0,2.0,0.0,225.0,6073.0,0.0,850.0,0.0,0.0,0.0,0.0,964.0,492.0,195.0,0.0,0.0,164.0,0.0,0.0,0.0,0.0,0.0,0.0,112.0,0.0,0.0,0.0,0.0,605.0,0.0,1096.0,592.0,0.0,0.0,153.0,0.0,258.0,37.0,0.0,0.0,0.0,2165.0,1.0,83.0,8397.0,0.0,0.0,5840.0,0.0,0.0,0.0,0.0,0.0,0.0,0.0,0.0,0.0,0.0,697.0,0.0,0.0,0.0,1208.0,856.0,2811.0,427.0,0.0,0.0,0.0,458.07720329024676,0.0,0.0,0.0,5.0,0.0,0.0,0.0,410.0,331.0,11418.0,0.0,0.0,2537.0,0.0,157.0,0.0,2223.0,2344.0,0.0,0.0,0.0,597.0,0.0,0.0,334.0,6.0,0.0,0.0,0.0,14.0,418.0,0.0,22.0,0.0,0.0,0.0,0.0,420.0,0.0,0.0,0.0,0.0,0.0,0.0,0.0,0.0,0.0,1688.0,0.0,0.0,0.0,0.0,0.0,0.0,0.0,0.0,985.0,0.0,10346.0,0.0,219.0,0.0,0.0,0.0,0.0,146.0,0.0,0.0,3.0,0.0,0.0,0.0,0.0,0.0,0.0,0.0,0.0,0.0,972.0,0.0,0.0,0.0,0.0,0.0,0.0,2433.0,0.0,2.0,1720.0,0.0,0.0,1.0,0.0,0.0,0.0,188.0,281.0,56.0,0.0,0.0,0.0,0.0,0.0,84.0,3.0,0.0,0.0,0.0,80.0,12.0,0.0,0.0,0.0,0.0,0.0,0.0,0.0,2.0,0.0,0.0,7.0,0.0,458.07720329024676,0.0,888.0,0.0,0.0,0.0,1249.0,1.0,0.0,0.0,0.0,3571.0,86.0,0.0,1.0,0.0,0.0,695.0,615.0,172.0,0.0,0.0,0.0,0.0,4810.0,29.0,0.0,0.0,0.0,231.0,25.0,0.0,2390.0,0.0,97.0,0.0,918.0,0.0,654.0,0.0,0.0,1281.0,0.0,587.0,0.0,0.0,4458.0,0.0,0.0,0.0,6500.0,0.0,2.0,0.0,0.0,0.0,0.0,422.0,584.0,175.0,0.0,0.0,230.0,540.0,0.0,0.0,0.0,0.0,0.0,2628.0,0.0,2.0,5.0,0.0,0.0,0.0,0.0,0.0,0.0,4651.0,317.0,0.0,0.0,2.0,1.0,0.0,349.0,0.0,0.0,0.0,0.0,0.0,0.0,0.0,0.0,2876.0,0.0,0.0,0.0,0.0,0.0,1198.0,0.0,0.0,0.0,212.0,36.0,0.0,107.0,0.0,0.0,95.0,0.0,5.0,0.0,0.0,0.0,1068.0,215.0,0.0,235.0,0.0,0.0,2491.0,0.0,0.0,0.0,0.0,0.0,0.0,773.0,0.0,0.0,0.0,747.0,0.0,0.0,44.0,5728.0,111.0,11003.0,608.0,0.0,0.0,420.0,0.0,0.0,0.0,896.0,458.07720329024676,21.0,465.0,0.0,113.0,0.0,150.0,0.0,7255.0,157.0,0.0,0.0,1170.0,0.0,3584.0,2.0,0.0,0.0,458.07720329024676,4118.0,10116.0,0.0,1026.0,0.0,10.0,0.0,891.0,0.0,0.0,0.0,11.0,0.0,0.0,0.0,5637.0,0.0,1043.0,429.0,0.0,0.0,0.0,0.0,0.0,0.0,0.0,0.0,0.0,0.0,0.0,0.0,4288.0,0.0,0.0,185.0,0.0,0.0,0.0,0.0,0.0,0.0,869.0,70.0,0.0,0.0,0.0,852.0,10.0,654.0,0.0,0.0,0.0,0.0,45.0,7972.0,10.0,0.0,0.0,6.0,0.0,0.0,5.0,34.0,0.0,118.0,14.0,33.0,1794.0,0.0,0.0,458.07720329024676,0.0,0.0,0.0,0.0,929.0,0.0,0.0,0.0,35.0,0.0,0.0,0.0,1737.0,0.0,0.0,0.0,0.0,16521.0,5755.0,0.0,0.0,0.0,2492.0,0.0,0.0,0.0,458.07720329024676,263.0,0.0,213.0,0.0,11.0,0.0,1119.0,0.0,0.0,0.0,0.0,715.0,1308.0,5.0,1073.0,0.0,0.0,0.0,0.0,1793.0,0.0,0.0,0.0,0.0,691.0,15.0,86.0,0.0,0.0,12.0,0.0,0.0,0.0,6506.0,0.0,165.0,1428.0,12.0,0.0,0.0,293.0,0.0,642.0,0.0,0.0,410.0,0.0,0.0,0.0,33.0,0.0,334.0,5085.0,0.0,0.0,0.0,0.0,0.0,1542.0,0.0,0.0,809.0,0.0,458.07720329024676,0.0,790.0,233.0,0.0,0.0,0.0,0.0,0.0,0.0,0.0,0.0,0.0,0.0,25.0,0.0,1.0,2.0,0.0,152.0,0.0,4.0,0.0,0.0,0.0,0.0,0.0,458.07720329024676,0.0,0.0,3385.0,0.0,0.0,0.0,0.0,654.0,3113.0,1111.0,0.0,0.0,458.07720329024676,0.0,0.0,0.0,0.0,0.0,0.0,0.0,368.0,0.0,0.0,0.0,0.0,0.0,0.0,0.0,0.0,1496.0,1778.0,0.0,7.0,0.0,0.0,0.0,123.0,0.0,3344.0,4967.0,0.0,0.0,0.0,266.0,0.0,0.0,0.0,0.0,0.0,0.0,0.0,0.0,2.0,0.0,863.0,8.0,576.0,0.0,0.0,2506.0,525.0,0.0,0.0,0.0,25.0,530.0,0.0,0.0,0.0,0.0,0.0,215.0,0.0,0.0,0.0,0.0,96.0,0.0,0.0,0.0,922.0,0.0,0.0,0.0,0.0,0.0,0.0,0.0,0.0,0.0,0.0,3488.0,581.0,0.0,0.0,0.0,0.0,237.0,0.0,0.0,0.0,0.0,4949.0,458.07720329024676,0.0,0.0,0.0,0.0,2.0,0.0,0.0,0.0,0.0,0.0,0.0,0.0,0.0,0.0,0.0,23.0,0.0,0.0,0.0,781.0,714.0,38.0,2.0,0.0,835.0,0.0,16.0,0.0,3425.0,0.0,0.0,142.0,0.0,1344.0,0.0,0.0,0.0,287.0,0.0,0.0,3879.0,0.0,0.0,0.0,0.0,6.0,12180.0,0.0,0.0,0.0,715.0,0.0,0.0,0.0,0.0,0.0,16.0,0.0,0.0,0.0,4.0,2.0,3004.0,2.0,33.0,0.0,0.0,0.0,0.0,0.0,0.0,166.0,142.0,0.0,0.0,0.0,0.0,0.0,0.0,0.0,0.0,0.0,0.0,3462.0,0.0,13248.0,0.0,0.0,110.0,0.0,42.0,0.0,0.0,0.0,0.0,0.0,0.0,1.0,284.0,0.0,0.0,0.0,59.0,0.0,561.0,0.0,0.0,0.0,0.0,653.0,0.0,2.0,0.0,5.0,0.0,0.0,0.0,701.0,179.0,1111.0,2956.0,0.0,0.0,0.0,0.0,0.0,0.0,378.0,0.0,0.0,7.0,0.0,0.0,0.0,458.07720329024676,0.0,850.0,0.0,0.0,473.0,4754.0,0.0,162.0,0.0,687.0,0.0,0.0,0.0,3.0,5.0,0.0,0.0,0.0,12804.0,458.07720329024676,0.0,0.0,0.0,0.0,0.0,124.0,0.0,2792.0,0.0,388.0,5738.0,1736.0,0.0,0.0,0.0,7461.0,172.0,0.0,0.0,84.0,0.0,0.0,1095.0,7767.0,0.0,0.0,0.0,0.0,458.07720329024676,7992.0,760.0,458.07720329024676,0.0,0.0,0.0,458.07720329024676,0.0,12045.0,1127.0,11.0,0.0,0.0,0.0,0.0,741.0,7.0,0.0,0.0,0.0,5.0,474.0,0.0,0.0,0.0,306.0,0.0,631.0,0.0,0.0,885.0,0.0,0.0,0.0,0.0,0.0,0.0,0.0,0.0,314.0,317.0,0.0,32.0,0.0,0.0,458.07720329024676,0.0,1.0,0.0,0.0,0.0,11.0,0.0,0.0,0.0,0.0,0.0,3.0,784.0,0.0,541.0,0.0,2727.0,942.0,1736.0,300.0,0.0,791.0,0.0,0.0,1.0,0.0,0.0,7447.0,0.0,0.0,0.0,0.0,0.0,0.0,0.0,0.0,0.0,0.0,0.0,0.0,4.0,0.0,0.0,0.0,0.0,131.0,15.0,0.0,1410.0,0.0,6.0,12.0,0.0,5.0,0.0,0.0,0.0,0.0,0.0,0.0,0.0,0.0,0.0,84.0,0.0,0.0,0.0,0.0,458.07720329024676,306.0,162.0,0.0,0.0,0.0,2349.0,0.0,0.0,537.0,0.0,0.0,447.0,0.0,0.0,0.0,0.0,0.0,0.0,0.0,20.0,773.0,3262.0,458.07720329024676,0.0,0.0,0.0,1328.0,0.0,0.0,0.0,113.0,709.0,0.0,458.07720329024676,0.0,0.0,0.0,0.0,1.0,0.0,0.0,0.0,0.0,0.0,0.0,0.0,0.0,565.0,0.0,59.0,2.0,0.0,0.0,0.0,78.0,355.0,0.0,0.0,271.0,0.0,0.0,0.0,0.0,24.0,6138.0,4076.0,0.0,0.0,0.0,0.0,0.0,3011.0,0.0,0.0,46.0,402.0,0.0,0.0,0.0,3.0,0.0,0.0,0.0,1755.0,143.0,0.0,0.0,0.0,0.0,0.0,0.0,97.0,0.0,0.0,458.07720329024676,122.0,5225.0,5212.0,0.0,0.0,841.0,0.0,0.0,0.0,0.0,0.0,0.0,0.0,0.0,458.07720329024676,0.0,0.0,799.0,0.0,2987.0,0.0,11330.0,1291.0,1847.0,1328.0,7201.0,333.0,0.0,0.0,3564.0,0.0,58.0,0.0,0.0,592.0,0.0,0.0,0.0,0.0,0.0,458.07720329024676,0.0,0.0,1356.0,0.0,0.0,0.0,0.0,33.0,0.0,575.0,0.0,0.0,4227.0,243.0,0.0,670.0,0.0,0.0,558.0,122.0,1116.0,0.0,5473.0,8.0,0.0,0.0,510.0,0.0,0.0,0.0,0.0,212.0,0.0,0.0,1.0,458.07720329024676,0.0,0.0,905.0,0.0,592.0,0.0,0.0,493.0,0.0,1311.0,0.0,0.0,0.0,34.0,0.0,0.0,42.0,0.0,0.0,393.0,43.0,1026.0,0.0,13.0,185.0,4677.0,4224.0,69.0,192.0,458.07720329024676,17.0,0.0,0.0,0.0,0.0,0.0,3628.0,0.0,0.0,3106.0,1.0,1.0,0.0,0.0,0.0,0.0,0.0,0.0,0.0,178.0,0.0,0.0,458.07720329024676,458.07720329024676,415.0,0.0,0.0,0.0,0.0,0.0,0.0,0.0,59.0,27723.0,368.0,0.0,0.0,0.0,0.0,0.0,0.0,299.0,50.0,0.0,0.0,0.0,0.0,0.0,0.0,3863.0,0.0,0.0,0.0,3300.0,439.0,0.0,4.0,987.0,0.0,47.0,4.0,0.0,0.0,847.0,0.0,0.0,0.0,0.0,0.0,0.0,0.0,160.0,0.0,0.0,0.0,0.0,0.0,8.0,0.0,0.0,486.0,0.0,0.0,14.0,0.0,118.0,0.0,761.0,1531.0,0.0,0.0,2.0,106.0,0.0,0.0,782.0,0.0,0.0,0.0,0.0,0.0,39.0,0.0,997.0,1268.0,2381.0,0.0,458.07720329024676,0.0,0.0,466.0,0.0,3.0,0.0,2801.0,41.0,0.0,30.0,21.0,0.0,1125.0,0.0,0.0,0.0,442.0,0.0,510.0,3.0,0.0,0.0,0.0,0.0,0.0,79.0,2.0,0.0,0.0,0.0,190.0,508.0,0.0,0.0,0.0,0.0,0.0,0.0,734.0,51.0,0.0,4.0,222.0,770.0,567.0,0.0,0.0,0.0,458.07720329024676,0.0,184.0,0.0,0.0,6153.0,0.0,0.0,0.0,0.0,0.0,2147.0,0.0,4380.0,0.0,0.0,0.0,0.0,0.0,0.0,0.0,200.0,0.0,0.0,0.0,258.0,0.0,0.0,20.0,224.0,186.0,100.0,1826.0,0.0,0.0,1248.0,0.0,0.0,0.0,138.0,484.0,0.0,251.0,0.0,1646.0,774.0,0.0,2838.0,801.0,13561.0,0.0,2509.0,0.0,533.0,2732.0,368.0,0.0,905.0,0.0,458.07720329024676,0.0,414.0,287.0,1.0,0.0,0.0,19.0,0.0,0.0,1.0,0.0,0.0,0.0,304.0,0.0,51.0,0.0,0.0,495.0,0.0,0.0,0.0,55.0,0.0,184.0,0.0,0.0,216.0,0.0,0.0,24.0,0.0,1.0,0.0,490.0,0.0,0.0,458.07720329024676,0.0,2345.0,2121.0,0.0,0.0,0.0,458.07720329024676,0.0,0.0,1269.0,458.07720329024676,0.0,0.0,673.0,7069.0,0.0,0.0,31.0,0.0,0.0,3782.0,470.0,7139.0,170.0,7.0,0.0,0.0,0.0,0.0,0.0,0.0,0.0,230.0,2376.0,1376.0,0.0,1389.0,15.0,1.0,0.0,0.0,0.0,1519.0,0.0,100.0,0.0,0.0,17.0,0.0,0.0,0.0,169.0,24.0,1819.0,0.0,0.0,0.0,0.0,0.0,0.0,0.0,0.0,17394.0,1336.0,26.0,3621.0,2127.0,51.0,3.0,4342.0,0.0,0.0,0.0,0.0,5.0,0.0,594.0,0.0,0.0,3.0,817.0,193.0,865.0,3750.0,0.0,9.0,0.0,0.0,0.0,0.0,1575.0,0.0,0.0,129.0,0.0,0.0,0.0,0.0,0.0,930.0,9.0,0.0,0.0,0.0,27.0,32.0,458.07720329024676,0.0,0.0,0.0,0.0,666.0,0.0,0.0,0.0,2.0,0.0,0.0,0.0,0.0,0.0,0.0,0.0,0.0,1303.0,458.07720329024676,807.0,160.0,0.0,0.0,82.0,1.0,0.0,62.0,0.0,2390.0,0.0,0.0,787.0,0.0,0.0,0.0,0.0,67.0,0.0,859.0,0.0,0.0,0.0,0.0,87.0,89.0,0.0,260.0,0.0,0.0,450.0,554.0,0.0,0.0,26.0,1234.0,458.07720329024676,0.0,760.0,13.0,0.0,574.0,0.0,4.0,0.0,1164.0,0.0,3.0,0.0,0.0,0.0,0.0,0.0,0.0,54.0,0.0,244.0,0.0,1.0,726.0,0.0,0.0,0.0,0.0,0.0,0.0,36.0,0.0,1563.0,201.0,0.0,0.0,0.0,0.0,0.0,0.0,808.0,108.0,0.0,0.0,0.0,0.0,0.0,13.0,478.0,1310.0,0.0,0.0,0.0,0.0,0.0,0.0,1.0,0.0,0.0,809.0,0.0,21.0,490.0,7.0,458.07720329024676,3240.0,0.0,0.0,0.0,0.0,782.0,3368.0,0.0,24.0,0.0,0.0,338.0,0.0,0.0,0.0,0.0,0.0,603.0,11026.0,0.0,458.07720329024676,0.0,0.0,0.0,94.0,2.0,0.0,0.0,275.0,639.0,0.0,0.0,0.0,0.0,0.0,0.0,169.0,0.0,0.0,0.0,3722.0,763.0,0.0,0.0,20.0,852.0,0.0,640.0,2334.0,0.0,0.0,4.0,811.0,68.0,231.0,94.0,1333.0,3578.0,6398.0,8882.0,4424.0,0.0,699.0,0.0,127.0,0.0,1218.0,0.0,153.0,0.0,0.0,0.0,0.0,317.0,0.0,0.0,316.0,0.0,0.0,13527.0,0.0,43.0,710.0,0.0,0.0,1.0,3441.0,0.0,415.0,0.0,22.0,0.0,0.0,0.0,0.0,60.0,0.0,0.0,0.0,1983.0,0.0,458.07720329024676,0.0,0.0,25.0,0.0,583.0,128.0,0.0,16263.0,0.0,0.0,3.0,88.0,0.0,0.0,0.0,0.0,0.0,809.0,841.0,748.0,10153.0,354.0,0.0,44.0,0.0,0.0,0.0,0.0,39.0,0.0,1810.0,0.0,652.0,51.0,0.0,79.0,0.0,0.0,2043.0,0.0,0.0,4286.0,0.0,0.0,0.0,0.0,0.0,0.0,0.0,0.0,877.0,0.0,0.0,10.0,0.0,0.0,444.0,0.0,0.0,0.0,0.0,0.0,0.0,0.0,0.0,0.0,0.0,382.0,433.0,0.0,0.0,6.0,361.0,0.0,0.0,0.0,869.0,0.0,0.0,21066.0,0.0,0.0,0.0,0.0,8037.0,3578.0,0.0,2972.0,0.0,0.0,0.0,0.0,0.0,0.0,0.0,5.0,0.0,602.0,0.0,3166.0,0.0,0.0,0.0,85.0,0.0,0.0,0.0,0.0,25.0,1670.0,1.0,2676.0,194.0,6.0,856.0,0.0,0.0,5734.0,0.0,0.0,0.0,0.0,0.0,865.0,0.0,18.0,5183.0,162.0,809.0,0.0,1535.0,0.0,0.0,4.0,1.0,0.0,6.0,0.0,75.0,133.0,0.0,0.0,0.0,0.0,0.0,0.0,0.0,0.0,0.0,1211.0,741.0,458.07720329024676,0.0,58.0,0.0,0.0,0.0,0.0,0.0,0.0,286.0,0.0,0.0,0.0,5063.0,0.0,0.0,0.0,0.0,0.0,0.0,1.0,3559.0,2406.0,0.0,3343.0,4081.0,0.0,0.0,911.0,0.0,20.0,10.0,0.0,590.0,4451.0,1342.0,0.0,717.0,0.0,2.0,0.0,458.07720329024676,0.0,0.0,0.0,0.0,0.0,0.0,11.0,10.0,0.0,0.0,1095.0,0.0,9314.0,0.0,0.0,0.0,0.0,2.0,0.0,593.0,305.0,0.0,0.0,0.0,8718.0,0.0,0.0,0.0,0.0,0.0,0.0,1.0,0.0,62.0,0.0,0.0,2.0,458.07720329024676,0.0,0.0,0.0,0.0,0.0,0.0,0.0,0.0,0.0,0.0,0.0,0.0,0.0,0.0,1433.0,0.0,0.0,951.0,0.0,226.0,0.0,0.0,0.0,0.0,0.0,25.0,820.0,402.0,0.0,0.0,0.0,0.0,0.0,220.0,0.0,0.0,0.0,0.0,774.0,0.0,0.0,0.0,3585.0,0.0,1935.0,0.0,59.0,0.0,236.0,421.0,0.0,0.0,0.0,0.0,0.0,280.0,32.0,4587.0,0.0,1180.0,654.0,1108.0,1968.0,0.0,0.0,0.0,0.0,14.0,0.0,20.0,0.0,2347.0,5.0,29813.0,2229.0,0.0,3206.0,0.0,0.0,0.0,86.0,600.0,0.0,0.0,329.0,416.0,14.0,1220.0,18.0,0.0,0.0,0.0,8.0,0.0,0.0,0.0,539.0,162.0,0.0,0.0,0.0,1109.0,483.0,1179.0,1.0,1368.0,32.0,10.0,0.0,0.0,0.0,3341.0,0.0,0.0,0.0,4.0,0.0,0.0,0.0,0.0,0.0,0.0,0.0,0.0,0.0,0.0,0.0,0.0,0.0,0.0,313.0,0.0,140.0,1064.0,0.0,544.0,302.0,1.0,746.0,0.0,0.0,0.0,37.0,0.0,8.0,0.0,412.0,0.0,458.07720329024676,22.0,0.0,458.07720329024676,0.0,3381.0,0.0,0.0,0.0,0.0,297.0,12077.0,0.0,428.0,0.0,2426.0,2012.0,4715.0,0.0,0.0,0.0,2210.0,0.0,763.0,0.0,0.0,0.0,0.0,0.0,454.0,37.0,0.0,760.0,0.0,0.0,4106.0,458.07720329024676,0.0,0.0,0.0,910.0,0.0,0.0,0.0,0.0,785.0,458.07720329024676,22.0,0.0,0.0,0.0,0.0,458.07720329024676,0.0,1223.0,722.0,5412.0,0.0,82.0,458.07720329024676,458.07720329024676,409.0,0.0,0.0,0.0,8926.0,4.0,0.0,0.0,0.0,0.0,0.0,4756.0,0.0,0.0,30.0,0.0,0.0,33.0,0.0,0.0,0.0,0.0,0.0,0.0,0.0,0.0,400.0,46.0,0.0,19.0,0.0,1.0,557.0,0.0,810.0,780.0,0.0,0.0,0.0,0.0,544.0,0.0,5553.0,0.0,0.0,395.0,0.0,0.0,2115.0,0.0,0.0,1829.0,0.0,31.0,0.0,0.0,0.0,223.0,0.0,0.0,0.0,56.0,2.0,0.0,0.0,0.0,0.0,0.0,537.0,11.0,0.0,421.0,236.0,3.0,0.0,0.0,0.0,0.0,0.0,2.0,0.0,0.0,0.0,0.0,0.0,93.0,0.0,0.0,0.0,0.0,1.0,0.0,0.0,458.07720329024676,0.0,4.0,0.0,27.0,0.0,458.07720329024676,0.0,0.0,0.0,0.0,195.0,192.0,738.0,0.0,0.0,2762.0,0.0,0.0,0.0,0.0,0.0,44.0,12.0,0.0,0.0,13.0,5.0,2506.0,0.0,2467.0,458.07720329024676,0.0,9.0,0.0,8759.0,0.0,55.0,2144.0,0.0,17.0,0.0,0.0,775.0,5407.0,0.0,0.0,0.0,0.0,0.0,0.0,412.0,1.0,0.0,37.0,0.0,646.0,0.0,0.0,9.0,0.0,1482.0,0.0,0.0,1912.0,0.0,179.0,100.0,12809.0,48.0,0.0,0.0,0.0,0.0,156.0,1124.0,0.0,0.0,0.0,0.0,0.0,0.0,0.0,0.0,0.0,0.0,1949.0,0.0,0.0,0.0,44.0,0.0,0.0,3024.0,0.0,0.0,8.0,0.0,0.0,0.0,303.0,0.0,676.0,20.0,0.0,0.0,0.0,166.0,0.0,0.0,8150.0,632.0,0.0,0.0,148.0,0.0,419.0,121.0,0.0,9.0,2.0,0.0,0.0,0.0,61.0,0.0,0.0,0.0,0.0,7.0,0.0,0.0,0.0,0.0,0.0,0.0,0.0,0.0,16.0,0.0,0.0,1471.0,0.0,0.0,604.0,0.0,0.0,0.0,0.0,0.0,0.0,1.0,0.0,228.0,0.0,6.0,6.0,0.0,0.0,0.0,0.0,0.0,29.0,0.0,0.0,0.0,0.0,815.0,2174.0,0.0,3053.0,0.0,286.0,0.0,313.0,0.0,0.0,0.0,0.0,0.0,27.0,1136.0,0.0,0.0,4.0,0.0,4.0,0.0,0.0,0.0,0.0,34.0,382.0,790.0,33.0,0.0,1554.0,1284.0,302.0,680.0,0.0,0.0,1297.0,7116.0,0.0,1347.0,193.0,104.0,243.0,0.0,1514.0,79.0,846.0,0.0,0.0,487.0,2684.0,138.0,0.0,0.0,617.0,1.0,0.0,1650.0,0.0,548.0,0.0,0.0,0.0,0.0,0.0,0.0,1776.0,0.0,0.0,2373.0,0.0,0.0,746.0,0.0,0.0,5876.0,0.0,0.0,0.0,0.0,9.0,0.0,0.0,1115.0,458.07720329024676,0.0,0.0,0.0,4.0,726.0,1772.0,0.0,0.0,143.0,0.0,0.0,0.0,0.0,0.0,548.0,0.0,0.0,0.0,0.0,82.0,0.0,1.0,0.0,0.0,0.0,0.0,0.0,0.0,0.0,0.0,0.0,756.0,0.0,1.0,3.0,0.0,0.0,837.0,1721.0,0.0,2.0,0.0,1195.0,4.0,0.0,0.0,702.0,0.0,0.0,8.0,0.0,0.0,1.0,458.07720329024676,0.0,0.0,0.0,320.0,933.0,37.0,9923.0,0.0,87.0,5659.0,802.0,0.0,0.0,437.0,0.0,0.0,0.0,767.0,2595.0,0.0,0.0,0.0,0.0,0.0,0.0,0.0,0.0,0.0,0.0,0.0,0.0,0.0,0.0,0.0,169.0,0.0,0.0,0.0,0.0,458.07720329024676,0.0,0.0,0.0,0.0,0.0,213.0,6807.0,824.0,1.0,250.0,11.0,186.0,0.0,0.0,3935.0,0.0,0.0,0.0,0.0,126.0,757.0,458.07720329024676,896.0,458.07720329024676,0.0,0.0,458.07720329024676,0.0,22.0,756.0,0.0,2.0,23.0,0.0,0.0,0.0,4.0,0.0,0.0,0.0,0.0,1431.0,458.07720329024676,0.0,656.0,40.0,0.0,0.0,0.0,0.0,93.0,0.0,0.0,0.0,351.0,0.0,904.0,0.0,0.0,0.0,1311.0,0.0,307.0,0.0,0.0,0.0,0.0,20.0,2.0,760.0,0.0,0.0,9.0,0.0,2.0,0.0,0.0,0.0,25.0,2119.0,0.0,0.0,179.0,11.0,0.0,25.0,0.0,2062.0,0.0,0.0,0.0,9.0,689.0,28.0,30.0,0.0,308.0,0.0,44.0,0.0,3.0,0.0,0.0,0.0,0.0,1971.0,0.0,0.0,641.0,0.0,141.0,0.0,0.0,458.07720329024676,54.0,0.0,8525.0,0.0,417.0,458.07720329024676,0.0,82.0,3135.0,1.0,0.0,0.0,0.0,0.0,210.0,0.0,1280.0,0.0,458.07720329024676,6.0,0.0,0.0,0.0,611.0,5252.0,0.0,1577.0,1001.0,0.0,0.0,53.0,0.0,0.0,0.0,8403.0,1.0,256.0,1390.0,1438.0,49.0,0.0,216.0,1.0,0.0,3331.0,329.0,0.0,0.0,788.0,8.0,0.0,0.0,878.0,0.0,2551.0,0.0,0.0,0.0,0.0,12.0,27.0,0.0,0.0,0.0,0.0,0.0,0.0,139.0,0.0,458.07720329024676,0.0,0.0,2342.0,2.0,77.0,0.0,2.0,0.0,0.0,0.0,0.0,0.0,0.0,0.0,0.0,0.0,2065.0,0.0,0.0,453.0,0.0,0.0,458.07720329024676,0.0,0.0,0.0,0.0,1547.0,0.0,30.0,587.0,0.0,0.0,0.0,0.0,6013.0,946.0,0.0,0.0,0.0,1284.0,1.0,0.0,0.0,0.0,0.0,0.0,7452.0,0.0,458.07720329024676,0.0,0.0,0.0,0.0,0.0,0.0,0.0,0.0,0.0,0.0,0.0,3.0,0.0,0.0,0.0,8.0,0.0,4018.0,0.0,57.0,0.0,0.0,0.0,0.0,0.0,140.0,4513.0,0.0,4.0,0.0,1117.0,0.0,0.0,0.0,427.0,730.0,0.0,0.0,458.07720329024676,0.0,323.0,0.0,0.0,0.0,0.0,0.0,0.0,0.0,7.0,350.0,0.0,0.0,0.0,0.0,0.0,9032.0,0.0,1.0,353.0,0.0,0.0,0.0,788.0,0.0,0.0,0.0,0.0,0.0,458.07720329024676,0.0,31.0,0.0,0.0,0.0,0.0,0.0,0.0,11.0,11.0,0.0,1653.0,3810.0,131.0,0.0,0.0,0.0,19.0,596.0,2804.0,0.0,233.0,0.0,264.0,0.0,0.0,0.0,0.0,1573.0,574.0,623.0,0.0,0.0,0.0,0.0,0.0,0.0,950.0,0.0,3281.0,15.0,2344.0,0.0,0.0,0.0,0.0,540.0,30.0,0.0,0.0,0.0,0.0,0.0,382.0,0.0,458.07720329024676,16.0,458.07720329024676,0.0,0.0,3315.0,0.0,0.0,0.0,0.0,165.0,632.0,0.0,5082.0,56.0,0.0,0.0,0.0,0.0,0.0,0.0,4.0,0.0,0.0,653.0,0.0,0.0,0.0,0.0,0.0,201.0,0.0,0.0,1440.0,16.0,0.0,0.0,0.0,0.0,0.0,0.0,2.0,458.07720329024676,0.0,0.0,6074.0,0.0,0.0,0.0,12.0,0.0,0.0,927.0,0.0,782.0,0.0,0.0,0.0,0.0,0.0,0.0,0.0,0.0,0.0,0.0,13.0,43.0,0.0,0.0,1638.0,1076.0,0.0,0.0,0.0,0.0,957.0,0.0,0.0,0.0,0.0,335.0,0.0,0.0,0.0,0.0,0.0,0.0,458.07720329024676,0.0,0.0,0.0,0.0,4.0,2.0,0.0,0.0,0.0,0.0,180.0,0.0,0.0,0.0,0.0,0.0,25.0,0.0,2126.0,0.0,216.0,0.0,5.0,4082.0,4494.0,1897.0,0.0,810.0,1429.0,0.0,0.0,0.0,0.0,52.0,0.0,0.0,372.0,0.0,0.0,3.0,0.0,0.0,17.0,0.0,18.0,0.0,0.0,56.0,46.0,0.0,0.0,0.0,1.0,0.0,0.0,1209.0,39.0,0.0,0.0,0.0,463.0,0.0,0.0,269.0,0.0,0.0,35.0,0.0,0.0,0.0,0.0,104.0,5971.0,0.0,0.0,0.0,12.0,0.0,6748.0,0.0,178.0,1376.0,0.0,0.0,0.0,0.0,0.0,0.0,0.0,0.0,1216.0,37.0,0.0,18481.0,193.0,0.0,0.0,1026.0,0.0,0.0,0.0,0.0,35.0,458.07720329024676,0.0,0.0,2.0,83.0,0.0,0.0,0.0,27071.0,0.0,649.0,0.0,760.0,0.0,0.0,4.0,4209.0,2834.0,0.0,0.0,0.0,0.0,0.0,0.0,377.0,458.07720329024676,0.0,0.0,0.0,0.0,0.0,0.0,0.0,0.0,880.0,0.0,952.0,0.0,0.0,0.0,590.0,8766.0,458.07720329024676,0.0,0.0,467.0,0.0,558.0,627.0,0.0,0.0,1855.0,0.0,3157.0,559.0,0.0,0.0,2333.0,0.0,0.0,3439.0,1347.0,0.0,630.0,10679.0,6229.0,0.0,0.0,0.0,0.0,0.0,5.0,0.0,1025.0,0.0,0.0,0.0,0.0,0.0,0.0,170.0,0.0,0.0,0.0,0.0,0.0,0.0,597.0,0.0,0.0,0.0,0.0,0.0,0.0,0.0,0.0,0.0,0.0,50.0,30.0,0.0,0.0,0.0,10.0,110.0,0.0,0.0,2804.0,0.0,0.0,10.0,458.07720329024676,1794.0,0.0,0.0,0.0,217.0,0.0,0.0,0.0,0.0,0.0,0.0,0.0,0.0,0.0,0.0,354.0,0.0,0.0,0.0,0.0,336.0,0.0,59.0,0.0,373.0,0.0,33.0,4.0,7.0,0.0,0.0,120.0,4.0,0.0,0.0,0.0,0.0,1.0,113.0,0.0,0.0,0.0,813.0,0.0,0.0,0.0,0.0,0.0,0.0,0.0,0.0,0.0,2052.0,325.0,0.0,0.0,0.0,458.07720329024676,790.0,733.0,0.0,0.0,753.0,0.0,2.0,0.0,0.0,3456.0,0.0,559.0,0.0,103.0,0.0,1.0,0.0,692.0,0.0,5151.0,695.0,0.0,0.0,0.0,0.0,335.0,0.0,0.0,0.0,0.0,0.0,0.0,0.0,0.0,0.0,0.0,0.0,0.0,398.0,432.0,0.0,2053.0,0.0,171.0,0.0,458.07720329024676,0.0,0.0,0.0,661.0,457.0,0.0,0.0,0.0,388.0,0.0,0.0,458.07720329024676,0.0,284.0,0.0,0.0,0.0,30.0,0.0,60.0,0.0,0.0,17432.0,0.0,3859.0,396.0,0.0,0.0,267.0,235.0,1.0,0.0,0.0,53.0,0.0,0.0,0.0,0.0,0.0,0.0,0.0,0.0,0.0,0.0,0.0,1652.0,397.0,0.0,0.0,0.0,0.0,2.0,0.0,0.0,0.0,0.0,0.0,0.0,0.0,8444.0,0.0,588.0,4.0,0.0,3846.0,787.0,5193.0,0.0,0.0,312.0,0.0,0.0,0.0,827.0,490.0,2.0,2576.0,0.0,3377.0,0.0,0.0,0.0,0.0,0.0,0.0,274.0,5.0,519.0,0.0,0.0,0.0,0.0,0.0,4.0,0.0,0.0,0.0,2196.0,0.0,280.0,0.0,0.0,0.0,828.0,0.0,458.07720329024676,257.0,0.0,552.0,0.0,0.0,117.0,0.0,0.0,407.0,0.0,21.0,677.0,960.0,0.0,458.07720329024676,0.0,0.0,4.0,0.0,0.0,75.0,0.0,0.0,458.07720329024676,0.0,0.0,26830.0,0.0,0.0,0.0,0.0,17.0,0.0,0.0,0.0,0.0,0.0,651.0,0.0,0.0,0.0,1.0,600.0,0.0,2.0,122.0,0.0,51.0,0.0,0.0,0.0,614.0,897.0,0.0,580.0,4.0,31.0,89.0,0.0,2050.0,314.0,253.0,257.0,0.0,6130.0,0.0,0.0,1565.0,0.0,4415.0,0.0,6.0,0.0,754.0,0.0,0.0,0.0,0.0,0.0,981.0,667.0,458.07720329024676,0.0,0.0,458.07720329024676,458.07720329024676,0.0,0.0,0.0,0.0,0.0,0.0,0.0,0.0,0.0,0.0,218.0,1556.0,0.0,0.0,0.0,3060.0,0.0,0.0,0.0,0.0,525.0,0.0,458.07720329024676,0.0,4387.0,0.0,0.0,0.0,0.0,0.0,0.0,0.0,0.0,0.0,0.0,0.0,0.0,1.0,0.0,0.0,28.0,93.0,2.0,0.0,881.0,0.0,690.0,0.0,42.0,0.0,0.0,0.0,0.0,47.0,458.07720329024676,1258.0,1249.0,1300.0,0.0,0.0,218.0,0.0,0.0,0.0,0.0,0.0,588.0,0.0,0.0,0.0,0.0,0.0,0.0,0.0,0.0,0.0,0.0,0.0,0.0,11153.0,0.0,0.0,0.0,12.0,80.0,0.0,0.0,0.0,0.0,0.0,1203.0,0.0,0.0,275.0,0.0,0.0,55.0,0.0,0.0,821.0,0.0,0.0,0.0,7164.0,0.0,0.0,270.0,0.0,0.0,0.0,0.0,2183.0,0.0,3.0,0.0,0.0,0.0,0.0,0.0,0.0,0.0,0.0,0.0,83.0,4826.0,1017.0,0.0,0.0,0.0,0.0,0.0,0.0,0.0,847.0,0.0,0.0,0.0,0.0,0.0,83.0,0.0,0.0,0.0,0.0,0.0,0.0,0.0,0.0,0.0,0.0,704.0,0.0,0.0,0.0,0.0,456.0,3238.0,542.0,0.0,0.0,0.0,0.0,0.0,1.0,377.0,1470.0,0.0,0.0,355.0,0.0,0.0,0.0,0.0,0.0,0.0,0.0,458.07720329024676,0.0,0.0,7167.0,0.0,0.0,61.0,0.0,0.0,0.0,0.0,0.0,0.0,0.0,0.0,0.0,458.07720329024676,0.0,0.0,0.0,0.0,0.0,1302.0,0.0,34.0,442.0,2.0,0.0,0.0,0.0,0.0,1477.0,1.0,30.0,0.0,1381.0,0.0,0.0,0.0,0.0,1276.0,0.0,0.0,0.0,0.0,132.0,0.0,6190.0,1549.0,2177.0,0.0,586.0,20.0,1080.0,0.0,840.0,0.0,0.0,43.0,0.0,0.0,0.0,831.0,0.0,0.0,2651.0,399.0,38.0,0.0,0.0,2524.0,0.0,0.0,0.0,0.0,0.0,0.0,0.0,0.0,458.07720329024676,1.0,0.0,0.0,0.0,0.0,0.0,0.0,15.0,0.0,0.0,0.0,476.0,0.0,458.07720329024676,0.0,0.0,1029.0,0.0,0.0,0.0,0.0,0.0,2.0,458.07720329024676,0.0,0.0,0.0,279.0,440.0,18.0,241.0,0.0,1562.0,0.0,0.0,0.0,0.0,0.0,0.0,0.0,0.0,170.0,0.0,1.0,89.0,0.0,0.0,0.0,663.0,0.0,0.0,326.0,0.0,0.0,588.0,0.0,1172.0,0.0,0.0,458.07720329024676,0.0,0.0,8747.0,9463.0,2020.0,124.0,3172.0,108.0,0.0,1725.0,0.0,84.0,0.0,1.0,0.0,0.0,2549.0,867.0,0.0,198.0,0.0,0.0,0.0,0.0,886.0,13.0,0.0,0.0,0.0,0.0,0.0,0.0,0.0,157.0,343.0,0.0,0.0,0.0,0.0,0.0,0.0,0.0,416.0,224.0,81.0,0.0,53.0,88.0,0.0,0.0,0.0,0.0,0.0,4983.0,144.0,0.0,0.0,1.0,0.0,0.0,21.0,628.0,0.0,10.0,2946.0,0.0,1546.0,0.0,1.0,0.0,9401.0,0.0,22.0,0.0,0.0,0.0,0.0,0.0,0.0,0.0,0.0,0.0,265.0,266.0,490.0,1525.0,0.0,0.0,492.0,0.0,1269.0,0.0,0.0,0.0,0.0,2558.0,0.0,252.0,2.0,717.0,3724.0,0.0,0.0,0.0,31.0,559.0,91.0,0.0,0.0,0.0,6777.0,0.0,0.0,0.0,841.0,668.0,779.0,0.0,0.0,0.0,0.0,0.0,521.0,137.0,3.0,0.0,22.0,0.0,0.0,0.0,0.0,0.0,0.0,0.0,0.0,187.0,0.0,0.0,0.0,3345.0,0.0,0.0,1418.0,0.0,563.0,0.0,0.0,0.0,545.0,14201.0,0.0,0.0,0.0,35.0,1125.0,2.0,0.0,0.0,0.0,0.0,0.0,0.0,3484.0,10025.0,1.0,0.0,0.0,272.0,2127.0,17687.0,1832.0,0.0,14.0,1947.0,0.0,247.0,0.0,0.0,0.0,0.0,1.0,2717.0,243.0,0.0,4384.0,7221.0,458.07720329024676,0.0,0.0,168.0,94.0,0.0,0.0,16455.0,0.0,0.0,0.0,0.0,0.0,0.0,0.0,0.0,0.0,0.0,153.0,0.0,3.0,0.0,0.0,0.0,0.0,0.0,0.0,935.0,0.0,2.0,0.0,0.0,0.0,817.0,0.0,0.0,0.0,281.0,0.0,0.0,6338.0,0.0,0.0,83.0,46.0,11417.0,90.0,2.0,0.0,0.0,0.0,0.0,0.0,0.0,282.0,0.0,0.0,4558.0,901.0,0.0,114.0,3603.0,0.0,6103.0,4017.0,0.0,0.0,0.0,0.0,7194.0,0.0,3627.0,0.0,0.0,2560.0,10.0,0.0,0.0,0.0,77.0,0.0,0.0,0.0,0.0,76.0,1883.0,2461.0,18.0,0.0,39.0,0.0,266.0,0.0,31.0,0.0,0.0,0.0,0.0,239.0,0.0,0.0,0.0,0.0,0.0,0.0,0.0,0.0,0.0,0.0,0.0,0.0,0.0,0.0,3.0,337.0,1013.0,0.0,65.0,0.0,3080.0,0.0,0.0,0.0,0.0,0.0,0.0,893.0,2.0,0.0,0.0,0.0,0.0,864.0,76.0,0.0,0.0,584.0,0.0,0.0,0.0,0.0,0.0,0.0,0.0,51.0,0.0,0.0,1740.0,0.0,0.0,1.0,1.0,32.0,116.0,132.0,0.0,0.0,0.0,0.0,41.0,93.0,0.0,591.0,121.0,0.0,0.0,0.0,0.0,0.0,0.0,0.0,25.0,1.0,180.0,103.0,102.0,27.0,656.0,559.0,205.0,57.0,496.0,0.0,0.0,43.0,497.0,20.0,0.0,0.0,2235.0,0.0,0.0,0.0,45.0,493.0,65.0,876.0,0.0,0.0,4592.0,2337.0,154.0,0.0,4020.0,0.0,0.0,0.0,0.0,0.0,797.0,2424.0,6670.0,2802.0,4516.0,0.0,0.0,0.0,0.0,3593.0,5234.0,1327.0,0.0,36.0,3291.0,138.0,20.0,477.0,0.0,0.0,166.0,0.0,0.0,81.0,0.0,79.0,0.0,458.07720329024676,0.0,2520.0,0.0,3275.0,0.0,0.0,453.0,0.0,7484.0,18.0,0.0,0.0,0.0,431.0,364.0,551.0,297.0,0.0,0.0,0.0,1633.0,84.0,63.0,412.0,724.0,1385.0,9633.0,0.0,16.0,0.0,226.0,323.0,7039.0,89.0,370.0,0.0,0.0,0.0,1125.0,0.0,0.0,823.0,93.0,0.0,2325.0,0.0,0.0,0.0,0.0,0.0,0.0,985.0,0.0,3856.0,0.0,0.0,0.0,0.0,0.0,0.0,776.0,0.0,0.0,0.0,0.0,458.07720329024676,2.0,0.0,4066.0,203.0,4579.0,0.0,0.0,0.0,4.0,0.0,172.0,3119.0,0.0,1487.0,7.0,920.0,0.0,630.0,0.0,0.0,0.0,0.0,0.0,44.0,0.0,0.0,25.0,0.0,15.0,0.0,0.0,0.0,0.0,0.0,0.0,458.07720329024676,681.0,0.0,262.0,7.0,0.0,1910.0,3452.0,3.0,0.0,21.0,0.0,0.0,1338.0,458.07720329024676,0.0,0.0,0.0,807.0,0.0,3.0,0.0,0.0,0.0,4504.0,48.0,0.0,8.0,142.0,395.0,1382.0,0.0,458.07720329024676,245.0,0.0,0.0,0.0,0.0,0.0,3.0,0.0,0.0,669.0,0.0,509.0,0.0,0.0,779.0,0.0,0.0,0.0,0.0,1.0,0.0,1261.0,0.0,0.0,0.0,11552.0,225.0,0.0,342.0,9495.0,0.0,0.0,0.0,0.0,0.0,2853.0,1339.0,0.0,1480.0,1131.0,104.0,706.0,0.0,0.0,0.0,0.0,0.0,458.07720329024676,0.0,18.0,594.0,0.0,0.0,1.0,631.0,4.0,7762.0,0.0,9.0,0.0,196.0,0.0,0.0,0.0,0.0,0.0,0.0,0.0,44.0,292.0,0.0,0.0,440.0,458.07720329024676,458.07720329024676,198.0,13.0,0.0,0.0,1855.0,2148.0,0.0,0.0,3.0,0.0,0.0,0.0,0.0,114.0,463.0,212.0,8.0,458.07720329024676,871.0,667.0,0.0,0.0,775.0,0.0,611.0,1135.0,0.0,0.0,8.0,0.0,0.0,0.0,3.0,0.0,2031.0,0.0,0.0,0.0,0.0,254.0,0.0,8.0,0.0,0.0,0.0,0.0,458.07720329024676,0.0,0.0,932.0,0.0,1.0,0.0,690.0,0.0,837.0,25.0,0.0,0.0,0.0,139.0,1330.0,0.0,84.0,0.0,0.0,0.0,0.0,10029.0,0.0,0.0,0.0,0.0,0.0,0.0,76.0,0.0,0.0,0.0,0.0,0.0,0.0,3571.0,0.0,0.0,0.0,0.0,0.0,0.0,20.0,444.0,0.0,2077.0,0.0,0.0,0.0,0.0,0.0,2171.0,3448.0,1750.0,0.0,0.0,0.0,0.0,0.0,1018.0,0.0,235.0,0.0,0.0,0.0,79.0,9.0,1719.0,0.0,0.0,10.0,0.0,0.0,0.0,0.0,4.0,125.0,358.0,0.0,0.0,0.0,0.0,769.0,0.0,0.0,0.0,162.0,1.0,0.0,458.07720329024676,34.0,282.0,0.0,0.0,0.0,0.0,0.0,0.0,0.0,31.0,0.0,0.0,219.0,49.0,0.0,0.0,172.0,0.0,0.0,0.0,0.0,493.0,31.0,0.0,0.0,0.0,19.0,4619.0,0.0,50.0,737.0,18.0,0.0,52.0,0.0,0.0,1.0,458.07720329024676,0.0,0.0,0.0,21.0,199.0,1.0,381.0,0.0,0.0,111.0,0.0,0.0,1451.0,0.0,0.0,31.0,0.0,0.0,0.0,0.0,867.0,418.0,0.0,8246.0,0.0,794.0,82.0,458.07720329024676,1080.0,1808.0,0.0,0.0,175.0,0.0,0.0,0.0,0.0,0.0,0.0,0.0,0.0,2052.0,15.0,3.0,0.0,2030.0,3750.0,0.0,0.0,0.0,0.0,0.0,0.0,59.0,179.0,0.0,0.0,181.0,0.0,0.0,712.0,0.0,0.0,0.0,1.0,3.0,394.0,419.0,0.0,0.0,0.0,0.0,0.0,0.0,0.0,0.0,464.0,109.0,0.0,0.0,679.0,0.0,0.0,1.0,0.0,458.07720329024676,477.0,0.0,0.0,0.0,0.0,910.0,0.0,1.0,116.0,0.0,0.0,3815.0,0.0,0.0,3.0,0.0,0.0,0.0,0.0,751.0,63.0,0.0,0.0,553.0,0.0,0.0,4198.0,12.0,1.0,458.07720329024676,0.0,0.0,0.0,0.0,0.0,281.0,0.0,17.0,306.0,7.0,0.0,0.0,5.0,0.0,207.0,0.0,0.0,0.0,0.0,0.0,0.0,0.0,0.0,651.0,0.0,160.0,0.0,0.0,0.0,0.0,914.0,0.0,0.0,0.0,0.0,4.0,0.0,725.0,96.0,0.0,153.0,0.0,0.0,0.0,0.0,0.0,2.0,339.0,0.0,0.0,641.0,458.07720329024676,43.0,938.0,0.0,0.0,0.0,0.0,0.0,0.0,0.0,528.0,0.0,0.0,0.0,0.0,0.0,0.0,0.0,0.0,0.0,0.0,0.0,0.0,0.0,0.0,0.0,0.0,0.0,0.0,0.0,0.0,13.0,2324.0,0.0,0.0,0.0,0.0,1309.0,64.0,0.0,0.0,0.0,0.0,0.0,0.0,1001.0,1065.0,0.0,0.0,0.0,0.0,400.0,290.0,196.0,56.0,1.0,3.0,0.0,0.0,34.0,10.0,2868.0,0.0,0.0,458.07720329024676,0.0,6.0,0.0,196.0,0.0,458.07720329024676,716.0,2.0,7.0,4313.0,0.0,0.0,0.0,0.0,0.0,0.0,0.0,0.0,0.0,0.0,0.0,0.0,0.0,2891.0,0.0,0.0,0.0,491.0,3625.0,0.0,0.0,0.0,1301.0,0.0,0.0,5.0,0.0,0.0,0.0,1.0,0.0,0.0,674.0,0.0,0.0,0.0,0.0,439.0,0.0,0.0,0.0,0.0,3770.0,0.0,866.0,80.0,0.0,9365.0,0.0,0.0,686.0,0.0,32.0,45.0,0.0,458.07720329024676,0.0,0.0,53.0,0.0,0.0,3195.0,8221.0,0.0,0.0,61.0,0.0,0.0,95.0,0.0,0.0,0.0,5210.0,4894.0,0.0,6.0,0.0,0.0,0.0,0.0,0.0,110.0,6.0,0.0,0.0,378.0,0.0,0.0,0.0,0.0,0.0,38.0,46.0,0.0,0.0,130.0,3960.0,806.0,595.0,0.0,0.0,824.0,0.0,0.0,747.0,458.07720329024676,0.0,0.0,0.0,0.0,829.0,0.0,0.0,0.0,0.0,65.0,700.0,0.0,0.0,0.0,0.0,0.0,0.0,0.0,0.0,0.0,18.0,0.0,0.0,59.0,0.0,0.0,99.0,53.0,0.0,0.0,0.0,0.0,697.0,0.0,9.0,1497.0,0.0,1.0,0.0,347.0,126.0,0.0,1.0,11.0,0.0,0.0,1473.0,0.0,4618.0,4524.0,21.0,0.0,0.0,0.0,458.07720329024676,0.0,0.0,0.0,0.0,150.0,0.0,0.0,9307.0,0.0,0.0,9.0,0.0,0.0,22.0,6634.0,0.0,0.0,0.0,76.0,0.0,551.0,0.0,0.0,0.0,0.0,0.0,0.0,104.0,1307.0,0.0,0.0,358.0,0.0,0.0,0.0,458.07720329024676,225.0,8162.0,0.0,0.0,6.0,0.0,0.0,0.0,4.0,0.0,0.0,0.0,585.0,0.0,0.0,0.0,0.0,1.0,0.0,0.0,0.0,288.0,132.0,20.0,0.0,0.0,0.0,222.0,0.0,0.0,0.0,0.0,0.0,0.0,1583.0,360.0,0.0,0.0,0.0,0.0,0.0,0.0,5203.0,745.0,0.0,0.0,0.0,10.0,0.0,1.0,0.0,0.0,0.0,0.0,175.0,890.0,494.0,0.0,3023.0,3991.0,0.0,0.0,406.0,0.0,0.0,237.0,0.0,0.0,0.0,0.0,0.0,335.0,3514.0,5.0,0.0,0.0,2.0,786.0,9.0,0.0,823.0,1.0,722.0,0.0,686.0,0.0,0.0,0.0,1668.0,0.0,0.0,3268.0,1256.0,0.0,1219.0,757.0,5.0,0.0,7996.0,0.0,3477.0,874.0,0.0,0.0,240.0,785.0,0.0,0.0,0.0,0.0,0.0,9.0,0.0,0.0,0.0,0.0,0.0,458.07720329024676,0.0,8.0,9.0,0.0,0.0,0.0,0.0,0.0,0.0,0.0,117.0,0.0,458.07720329024676,1425.0,458.07720329024676,918.0,103.0,22.0,0.0,0.0,0.0,39.0,0.0,53.0,0.0,0.0,0.0,1513.0,496.0,1706.0,545.0,11594.0,0.0,0.0,0.0,0.0,0.0,0.0,0.0,0.0,1198.0,0.0,0.0,0.0,123.0,1627.0,177.0,0.0,0.0,0.0,0.0,0.0,0.0,0.0,0.0,0.0,0.0,0.0,0.0,458.0,0.0,0.0,4372.0,166.0,0.0,0.0,29.0,0.0,0.0,0.0,0.0,0.0,173.0,664.0,0.0,0.0,0.0,0.0,1975.0,0.0,0.0,0.0,0.0,0.0,0.0,217.0,0.0,1.0,0.0,1745.0,0.0,0.0,458.07720329024676,11856.0,7636.0,0.0,0.0,16.0,764.0,29.0,37.0,458.07720329024676,47.0,436.0,625.0,20.0,0.0,0.0,0.0,0.0,0.0,0.0,0.0,6.0,0.0,0.0,0.0,0.0,0.0,0.0,0.0,1871.0,0.0,0.0,0.0,0.0,0.0,868.0,858.0,0.0,128.0,25.0,0.0,706.0,6408.0,0.0,0.0,0.0,1197.0,0.0,3.0,0.0,1068.0,7.0,3338.0,0.0,1202.0,95.0,0.0,0.0,0.0,219.0,0.0,0.0,0.0,3.0,0.0,511.0,98.0,0.0,1489.0,4058.0,3953.0,0.0,0.0,0.0,0.0,0.0,0.0,0.0,0.0,0.0,0.0,888.0,0.0,0.0,0.0,0.0,0.0,5.0,0.0,406.0,496.0,0.0,0.0,0.0,8808.0,0.0,68.0,0.0,21.0,0.0,11.0,0.0,0.0,15.0,0.0,0.0,0.0,0.0,0.0,30.0,0.0,0.0,761.0,0.0,0.0,75.0,623.0,0.0,0.0,0.0,2.0,0.0,456.0,0.0,0.0,0.0,1774.0,0.0,566.0,0.0,53.0,0.0,1369.0,0.0,0.0,131.0,0.0,0.0,0.0,0.0,0.0,0.0,10.0,532.0,0.0,2395.0,0.0,0.0,914.0,0.0,0.0,49.0,0.0,2.0,574.0,0.0,0.0,0.0,0.0,0.0,0.0,0.0,0.0,458.07720329024676,0.0,0.0,40.0,0.0,0.0,687.0,0.0,0.0,392.0,716.0,0.0,0.0,0.0,6.0,0.0,3.0,2427.0,94.0,0.0,0.0,0.0,0.0,55.0,1644.0,2002.0,0.0,2421.0,109.0,0.0,1264.0,0.0,3857.0,1706.0,25.0,0.0,1014.0,0.0,0.0,485.0,1725.0,0.0,0.0,0.0,914.0,0.0,0.0,0.0,2.0,5.0,0.0,425.0,0.0,5.0,0.0,0.0,0.0,0.0,0.0,0.0,0.0,0.0,0.0,3862.0,2809.0,0.0,4780.0,1211.0,0.0,1184.0,40.0,0.0,784.0,0.0,0.0,0.0,698.0,0.0,0.0,0.0,11.0,4.0,0.0,0.0,0.0,0.0,9.0,0.0,3259.0,458.07720329024676,0.0,0.0,0.0,0.0,0.0,0.0,0.0,0.0,0.0,5.0,0.0,0.0,0.0,9641.0,0.0,0.0,132.0,0.0,0.0,104.0,0.0,0.0,0.0,247.0,0.0,3863.0,0.0,0.0,73.0,0.0,0.0,396.0,0.0,4451.0,0.0,0.0,0.0,0.0,839.0,0.0,0.0,0.0,0.0,968.0,0.0,0.0,0.0,458.07720329024676,420.0,64.0,1828.0,1801.0,792.0,0.0,3638.0,6921.0,30.0,0.0,0.0,147.0,0.0,0.0,0.0,458.07720329024676,645.0,0.0,4.0,0.0,0.0,0.0,0.0,0.0,0.0,0.0,0.0,1289.0,677.0,1857.0,0.0,0.0,0.0,4.0,0.0,0.0,292.0,21.0,0.0,0.0,0.0,0.0,0.0,1849.0,0.0,0.0,5.0,0.0,0.0,0.0,0.0,13437.0,785.0,357.0,8.0,0.0,0.0,723.0,0.0,42.0,417.0,0.0,0.0,2.0,458.07720329024676,225.0,0.0,0.0,4176.0,0.0,0.0,0.0,29.0,0.0,0.0,0.0,0.0,0.0,0.0,0.0,1.0,11.0,610.0,0.0,0.0,0.0,0.0,0.0,1012.0,0.0,0.0,28.0,9.0,458.07720329024676,0.0,458.07720329024676,0.0,0.0,0.0,2110.0,0.0,0.0,0.0,1126.0,0.0,0.0,1180.0,4585.0,1056.0,0.0,0.0,0.0,0.0,1436.0,0.0,0.0,3095.0,0.0,0.0,0.0,0.0,0.0,0.0,0.0,0.0,0.0,0.0,699.0,0.0,0.0,1073.0,0.0,0.0,0.0,20.0,0.0,791.0,10.0,0.0,0.0,0.0,103.0,784.0,458.07720329024676,53.0,0.0,0.0,1.0,86.0,0.0,0.0,32.0,0.0,0.0,0.0,0.0,10.0,2.0,0.0,0.0,0.0,479.0,0.0,0.0,0.0,0.0,0.0,0.0,0.0,458.07720329024676,0.0,2624.0,458.07720329024676,0.0,783.0,0.0,0.0,0.0,0.0,0.0,126.0,0.0,0.0,1027.0,4654.0,9.0,4929.0,1174.0,0.0,176.0,0.0,0.0,0.0,0.0,0.0,0.0,809.0,90.0,1.0,779.0,0.0,0.0,168.0,0.0,46.0,0.0,0.0,0.0,0.0,709.0,0.0,0.0,0.0,0.0,0.0,0.0,0.0,0.0,0.0,0.0,0.0,0.0,0.0,1.0,0.0,0.0,298.0,0.0,293.0,0.0,0.0,0.0,0.0,3.0,0.0,1674.0,2.0,458.07720329024676,2680.0,0.0,0.0,254.0,0.0,0.0,0.0,0.0,0.0,0.0,3103.0,0.0,0.0,0.0,296.0,3.0,0.0,5329.0,0.0,9.0,0.0,1049.0,0.0,1409.0,8943.0,0.0,458.07720329024676,175.0,0.0,0.0,0.0,0.0,0.0,0.0,2225.0,0.0,564.0,152.0,0.0,0.0,0.0,0.0,0.0,190.0,878.0,458.07720329024676,316.0,0.0,0.0,0.0,85.0,0.0,1234.0,0.0,68.0,4089.0,4742.0,509.0,0.0,0.0,0.0,541.0,20.0,0.0,0.0,0.0,32.0,0.0,0.0,0.0,0.0,0.0,0.0,0.0,0.0,242.0,0.0,0.0,0.0,0.0,584.0,11441.0,0.0,0.0,0.0,0.0,0.0,0.0,0.0,13342.0,0.0,973.0,0.0,2108.0,641.0,0.0,0.0,0.0,0.0,0.0,509.0,0.0,0.0,0.0,0.0,458.07720329024676,0.0,458.07720329024676,38.0,0.0,0.0,131.0,8.0,169.0,0.0,10.0,3729.0,2199.0,3200.0,0.0,5.0,0.0,0.0,0.0,959.0,0.0,511.0,336.0,0.0,0.0,0.0,0.0,0.0,0.0,0.0,243.0,3.0,0.0,106.0,1677.0,618.0,0.0,0.0,0.0,0.0,0.0,20.0,0.0,0.0,0.0,0.0,0.0,0.0,0.0,40.0,0.0,652.0,0.0,1420.0,480.0,0.0,52.0,0.0,0.0,0.0,577.0,0.0,0.0,0.0,0.0,0.0,0.0,0.0,0.0,56.0,0.0,0.0,222.0,0.0,0.0,0.0,1.0,0.0,0.0,0.0,0.0,0.0,0.0,0.0,0.0,10.0,0.0,0.0,0.0,0.0,0.0,0.0,0.0,0.0,0.0,0.0,596.0,0.0,458.07720329024676,854.0,0.0,0.0,7.0,0.0,3818.0,3.0,728.0,0.0,0.0,602.0,0.0,1.0,2.0,0.0,0.0,0.0,0.0,0.0,614.0,0.0,0.0,0.0,0.0,0.0,44.0,311.0,0.0,14.0,0.0,239.0,0.0,0.0,213.0,0.0,0.0,1663.0,0.0,0.0,889.0,6924.0,1972.0,0.0,0.0,5.0,0.0,31.0,0.0,1.0,0.0,0.0,6.0,6.0,0.0,0.0,0.0,0.0,3527.0,0.0,22.0,6244.0,0.0,4.0,0.0,0.0,20.0,0.0,0.0,0.0,0.0,0.0,76.0,0.0,0.0,819.0,671.0,717.0,4616.0,1362.0,0.0,0.0,1035.0,0.0,0.0,564.0,0.0,0.0,0.0,201.0,0.0,0.0,4900.0,0.0,0.0,0.0,123.0,1.0,0.0,0.0,458.07720329024676,458.07720329024676,458.07720329024676,0.0,4.0,896.0,335.0,0.0,0.0,605.0,1538.0,100.0,2606.0,0.0,1809.0,125.0,0.0,0.0,13561.0,600.0,0.0,67.0,666.0,0.0,780.0,0.0,458.07720329024676,0.0,267.0,0.0,0.0,0.0,0.0,0.0,0.0,0.0,90.0,0.0,0.0,1.0,4514.0,115.0,0.0,0.0,0.0,0.0,0.0,0.0,854.0,0.0,0.0,1044.0,1891.0,0.0,0.0,0.0,1339.0,313.0,0.0,0.0,0.0,0.0,0.0,0.0,6.0,0.0,0.0,3.0,0.0,0.0,69.0,0.0,0.0,0.0,0.0,0.0,0.0,0.0,0.0,0.0,0.0,25.0,0.0,0.0,0.0,1337.0,0.0,2504.0,0.0,0.0,65.0,0.0,35.0,0.0,0.0,0.0,0.0,0.0,71.0,0.0,0.0,841.0,0.0,0.0,0.0,4.0,24.0,0.0,0.0,361.0,833.0,0.0,218.0,458.07720329024676,370.0,202.0,0.0,0.0,0.0,1.0,321.0,0.0,0.0,0.0,0.0,0.0,0.0,0.0,526.0,0.0,0.0,0.0,0.0,280.0,0.0,238.0,0.0,0.0,0.0,0.0,0.0,0.0,33.0,0.0,0.0,0.0,390.0,74.0,316.0,371.0,0.0,15.0,6.0,2.0,2699.0,0.0,0.0,0.0,0.0,714.0,1190.0,0.0,2.0,0.0,16.0,0.0,458.07720329024676,756.0,0.0,0.0,0.0,0.0,0.0,29.0,0.0,13.0,95.0,0.0,0.0,0.0,0.0,4209.0,0.0,0.0,0.0,0.0,600.0,0.0,0.0,0.0,704.0,97.0,60.0,0.0,0.0,0.0,0.0,0.0,0.0,0.0,0.0,0.0,0.0,0.0,758.0,7920.0,0.0,0.0,0.0,0.0,30.0,0.0,0.0,366.0,173.0,0.0,0.0,4.0,0.0,0.0,0.0,38.0,736.0,0.0,0.0,0.0,0.0,0.0,0.0,0.0,7293.0,516.0,996.0,583.0,458.07720329024676,0.0,11.0,0.0,0.0,0.0,19.0,6.0,0.0,0.0,0.0,0.0,0.0,0.0,54.0,2667.0,0.0,1208.0,532.0,0.0,0.0,0.0,69.0,1.0,0.0,0.0,0.0,0.0,449.0,0.0,0.0,0.0,0.0,0.0,0.0,0.0,0.0,0.0,458.07720329024676,0.0,0.0,0.0,138.0,0.0,46.0,752.0,1604.0,4.0,0.0,0.0,0.0,60.0,0.0,0.0,0.0,0.0,0.0,10.0,0.0,0.0,2878.0,0.0,17958.0,7570.0,18.0,0.0,1.0,1049.0,0.0,0.0,0.0,0.0,0.0,0.0,0.0,326.0,0.0,0.0,669.0,0.0,0.0,0.0,0.0,4612.0,0.0,0.0,0.0,3786.0,0.0,0.0,0.0,974.0,0.0,1428.0,741.0,0.0,3.0,4389.0,13.0,0.0,0.0,960.0,0.0,0.0,120.0,0.0,0.0,0.0,0.0,0.0,10.0,1914.0,0.0,6101.0,14076.0,0.0,89.0,0.0,0.0,17.0,0.0,0.0,0.0,0.0,776.0,0.0,0.0,0.0,0.0,0.0,0.0,0.0,0.0,0.0,0.0,0.0,0.0,0.0,1757.0,12.0,0.0,0.0,2898.0,0.0,0.0,47.0,2080.0,0.0,0.0,57.0,71.0,0.0,9965.0,114.0,458.07720329024676,1.0,230.0,0.0,0.0,0.0,0.0,4173.0,160.0,0.0,15.0,458.07720329024676,0.0,806.0,893.0,6.0,0.0,0.0,0.0,0.0,0.0,0.0,243.0,0.0,1307.0,4340.0,22.0,692.0,0.0,0.0,0.0,0.0,0.0,275.0,58.0,442.0,0.0,0.0,0.0,0.0,0.0,0.0,1.0,17.0,0.0,2897.0,996.0,7.0,195.0,6.0,0.0,0.0,3512.0,0.0,0.0,0.0,0.0,0.0,750.0,0.0,0.0,5552.0,664.0,0.0,1678.0,266.0,0.0,458.07720329024676,0.0,0.0,0.0,176.0,0.0,0.0,0.0,0.0,458.07720329024676,0.0,0.0,0.0,0.0,0.0,0.0,9.0,0.0,999.0,0.0,0.0,4.0,2093.0,878.0,0.0,0.0,458.07720329024676,1666.0,13.0,0.0,125.0,0.0,0.0,2.0,2.0,0.0,0.0,458.07720329024676,0.0,0.0,722.0,0.0,47.0,0.0,0.0,158.0,1.0,0.0,0.0,0.0,0.0,742.0,2487.0,610.0,0.0,397.0,0.0,2478.0,0.0,0.0,14.0,0.0,44.0,3124.0,1863.0,16.0,0.0,458.07720329024676,22.0,4387.0,6.0,0.0,7683.0,3.0,0.0,0.0,1.0,489.0,0.0,0.0,1381.0,479.0,0.0,0.0,0.0,0.0,4155.0,0.0,4462.0,4322.0,2612.0,0.0,0.0,0.0,134.0,10.0,0.0,0.0,0.0,0.0,0.0,287.0,0.0,0.0,0.0,0.0,0.0,0.0,0.0,0.0,0.0,0.0,0.0,0.0,0.0,3624.0,21.0,0.0,0.0,3676.0,11.0,0.0,0.0,0.0,0.0,0.0,6050.0,3590.0,12.0,2251.0,338.0,0.0,283.0,688.0,0.0,1369.0,0.0,0.0,0.0,2896.0,0.0,0.0,0.0,0.0,0.0,0.0,129.0,1942.0,0.0,3434.0,38.0,194.0,0.0,1319.0,0.0,0.0,479.0,0.0,0.0,0.0,0.0,0.0,0.0,0.0,0.0,0.0,2921.0,0.0,163.0,316.0,0.0,1379.0,0.0,0.0,1.0,0.0,980.0,0.0,34.0,1606.0,0.0,0.0,0.0,0.0,0.0,0.0,0.0,1.0,0.0,716.0,0.0,896.0,0.0,606.0,0.0,1.0,1390.0,194.0,0.0,0.0,0.0,0.0,0.0,0.0,201.0,0.0,582.0,642.0,0.0,188.0,0.0,0.0,0.0,647.0,0.0,1314.0,0.0,0.0,0.0,1186.0,3585.0,0.0,0.0,0.0,0.0,0.0,0.0,0.0,33.0,0.0,0.0,0.0,102.0,5.0,0.0,949.0,398.0,0.0,0.0,458.07720329024676,0.0,0.0,2886.0,0.0,0.0,22.0,63.0,0.0,0.0,0.0,0.0,0.0,115.0,0.0,2107.0,307.0,0.0,185.0,0.0,0.0,0.0,435.0,458.07720329024676,0.0,3435.0,0.0,1386.0,0.0,0.0,0.0,434.0,0.0,0.0,0.0,802.0,0.0,0.0,0.0,70.0,0.0,147.0,458.07720329024676,0.0,0.0,0.0,0.0,3508.0,0.0,0.0,0.0,0.0,0.0,653.0,0.0,0.0,5974.0,486.0,3392.0,0.0,0.0,271.0,0.0,0.0,1417.0,0.0,79.0,1089.0,78.0,458.07720329024676,804.0,0.0,10049.0,0.0,875.0,61.0,0.0,0.0,0.0,0.0,132.0,0.0,3.0,2954.0,0.0,0.0,0.0,0.0,0.0,0.0,279.0,0.0,0.0,0.0,0.0,672.0,0.0,0.0,321.0,0.0,0.0,3387.0,0.0,0.0,1616.0,0.0,0.0,0.0,397.0,0.0,0.0,0.0,0.0,0.0,0.0,0.0,0.0,5711.0,0.0,0.0,0.0,1435.0,2285.0,184.0,282.0,0.0,0.0,0.0,0.0,794.0,36.0,2383.0,0.0,0.0,0.0,132.0,7.0,0.0,5974.0,0.0,11396.0,2.0,0.0,0.0,0.0,0.0,789.0,0.0,0.0,564.0,4.0,0.0,598.0,779.0,0.0,0.0,0.0,3.0,0.0,700.0,257.0,0.0,0.0,0.0,0.0,0.0,1377.0,0.0,732.0,0.0,0.0,0.0,0.0,0.0,2.0,0.0,2864.0,2669.0,53.0,0.0,0.0,0.0,19.0,0.0,652.0,24.0,0.0,0.0,182.0,0.0,7272.0,0.0,772.0,0.0,0.0,0.0,0.0,0.0,0.0,0.0,0.0,2237.0,530.0,130.0,0.0,7.0,0.0,355.0,0.0,0.0,1000.0,0.0,18.0,2674.0,0.0,1130.0,0.0,714.0,0.0,0.0,7.0,0.0,0.0,0.0,204.0,552.0,0.0,0.0,136.0,0.0,0.0,21.0,0.0,0.0,725.0,21.0,0.0,0.0,0.0,0.0,0.0,0.0,16.0,5036.0,0.0,3.0,172.0,1125.0,0.0,0.0,0.0,0.0,0.0,0.0,33.0,1489.0,0.0,0.0,16016.0,26.0,4224.0,7.0,0.0,0.0,0.0,0.0,12.0,0.0,0.0,0.0,0.0,0.0,0.0,0.0,0.0,636.0,0.0,7.0,0.0,0.0,0.0,458.07720329024676,0.0,6.0,0.0,817.0,5450.0,0.0,0.0,96.0,0.0,0.0,48.0,2979.0,0.0,0.0,0.0,0.0,0.0,0.0,0.0,0.0,140.0,0.0,0.0,0.0,458.07720329024676,4.0,103.0,0.0,458.07720329024676,1769.0,82.0,4298.0,0.0,28.0,5.0,0.0,0.0,0.0,0.0,0.0,0.0,319.0,0.0,9.0,0.0,0.0,0.0,0.0,48.0,0.0,769.0,0.0,0.0,243.0,4534.0,0.0,0.0,31.0,1451.0,395.0,0.0,56.0,0.0,0.0,0.0,2670.0,0.0,0.0,8948.0,494.0,0.0,0.0,0.0,0.0,0.0,268.0,499.0,124.0,0.0,458.07720329024676,0.0,16.0,489.0,412.0,0.0,33.0,0.0,53.0,73.0,180.0,0.0,0.0,0.0,0.0,1541.0,0.0,0.0,368.0,0.0,0.0,0.0,261.0,0.0,303.0,0.0,2337.0,634.0,0.0,0.0,0.0,688.0,79.0,0.0,0.0,0.0,0.0,55.0,605.0,925.0,0.0,0.0,3.0,76.0,0.0,0.0,0.0,0.0,458.07720329024676,0.0,0.0,36.0,3424.0,3299.0,967.0,0.0,0.0,0.0,0.0,0.0,25.0,0.0,0.0,0.0,0.0,9.0,0.0,0.0,63.0,0.0,0.0,6.0,773.0,0.0,0.0,0.0,0.0,11.0,60.0,0.0,0.0,516.0,443.0,0.0,0.0,0.0,16856.0,0.0,0.0,0.0,0.0,0.0,124.0,0.0,0.0,0.0,156.0,721.0,0.0,1738.0,0.0,478.0,458.07720329024676,0.0,0.0,0.0,2.0,0.0,11.0,0.0,0.0,268.0,0.0,0.0,0.0,1.0,0.0,68.0,9.0,0.0,0.0,0.0,0.0,0.0,0.0,0.0,0.0,700.0,0.0,0.0,8.0,87.0,0.0,1283.0,0.0,0.0,637.0,0.0,0.0,80.0,0.0,0.0,0.0,0.0,0.0,79.0,57.0,0.0,910.0,0.0,0.0,0.0,0.0,0.0,9532.0,0.0,593.0,0.0,116.0,0.0,6504.0,804.0,0.0,0.0,0.0,1.0,14.0,1620.0,0.0,0.0,0.0,0.0,0.0,0.0,0.0,0.0,0.0,7.0,360.0,0.0,0.0,3492.0,0.0,246.0,0.0,2318.0,36.0,0.0,174.0,0.0,0.0,0.0,0.0,0.0,0.0,0.0,0.0,0.0,45.0,0.0,0.0,0.0,0.0,0.0,0.0,0.0,0.0,334.0,0.0,0.0,0.0,0.0,0.0,15.0,0.0,0.0,1145.0,0.0,0.0,2593.0,0.0,0.0,0.0,0.0,0.0,244.0,0.0,10.0,0.0,0.0,79.0,0.0,4545.0,0.0,0.0,0.0,0.0,0.0,225.0,0.0,0.0,0.0,0.0,0.0,0.0,2.0,0.0,350.0,0.0,476.0,0.0,0.0,0.0,17901.0,1408.0,392.0,0.0,0.0,21.0,34.0,0.0,0.0,0.0,0.0,1.0,0.0,0.0,793.0,9012.0,0.0,0.0,2.0,38.0,259.0,0.0,25.0,0.0,0.0,0.0,0.0,0.0,52.0,0.0,0.0,0.0,5500.0,0.0,2060.0,0.0,122.0,0.0,0.0,15450.0,0.0,0.0,134.0,745.0,3.0,0.0,3518.0,0.0,0.0,0.0,7.0,4655.0,458.07720329024676,3216.0,7316.0,0.0,269.0,2311.0,458.07720329024676,11598.0,0.0,0.0,0.0,0.0,43.0,605.0,4.0,0.0,0.0,0.0,0.0,809.0,0.0,0.0,0.0,1119.0,279.0,4260.0,0.0,226.0,218.0,13.0,0.0,903.0,0.0,0.0,0.0,925.0,13.0,1620.0,0.0,0.0,0.0,0.0,0.0,0.0,0.0,5998.0,297.0,0.0,780.0,0.0,0.0,17.0,0.0,3680.0,3317.0,0.0,142.0,0.0,5.0,0.0,508.0,0.0,0.0,0.0,0.0,0.0,0.0,29.0,0.0,0.0,0.0,0.0,0.0,0.0,0.0,0.0,28.0,314.0,918.0,11.0,0.0,723.0,889.0,0.0,0.0,0.0,858.0,0.0,0.0,0.0,3771.0,0.0,8252.0,458.07720329024676,0.0,220.0,0.0,0.0,0.0,0.0,747.0,0.0,0.0,2.0,0.0,0.0,0.0,0.0,458.07720329024676,0.0,0.0,3603.0,8151.0,0.0,395.0,0.0,1003.0,157.0,0.0,0.0,0.0,510.0,0.0,0.0,0.0,2.0,0.0,0.0,4.0,0.0,0.0,5157.0,0.0,109.0,1255.0,0.0,0.0,0.0,0.0,0.0,1186.0,0.0,819.0,0.0,666.0,0.0,0.0,21.0,0.0,16.0,0.0,0.0,2.0,44.0,0.0,2984.0,0.0,0.0,0.0,458.07720329024676,0.0,0.0,0.0,1.0,0.0,0.0,4.0,0.0,0.0,0.0,0.0,0.0,0.0,0.0,0.0,0.0,3.0,1144.0,2633.0,0.0,0.0,458.07720329024676,0.0,0.0,0.0,0.0,0.0,4334.0,0.0,1.0,0.0,0.0,0.0,0.0,0.0,0.0,0.0,0.0,0.0,0.0,0.0,458.07720329024676,5063.0,0.0,0.0,0.0,0.0,0.0,0.0,1337.0,0.0,0.0,0.0,640.0,2949.0,177.0,4.0,83.0,0.0,0.0,0.0,0.0,0.0,0.0,0.0,49.0,0.0,465.0,0.0,0.0,0.0,0.0,0.0,0.0,0.0,0.0,0.0,0.0,0.0,0.0,0.0,261.0,3716.0,0.0,458.07720329024676,0.0,2215.0,169.0,0.0,434.0,0.0,0.0,23.0,458.07720329024676,0.0,0.0,0.0,0.0,458.07720329024676,680.0,1673.0,690.0,0.0,0.0,0.0,0.0,0.0,0.0,0.0,64.0,0.0,22.0,0.0,2.0,0.0,0.0,0.0,14.0,0.0,0.0,0.0,0.0,7269.0,0.0,0.0,0.0,0.0,0.0,839.0,0.0,0.0,1283.0,0.0,0.0,669.0,146.0,1365.0,13.0,104.0,0.0,0.0,0.0,0.0,0.0,0.0,0.0,179.0,1290.0,0.0,302.0,3137.0,171.0,0.0,0.0,0.0,168.0,0.0,4.0,30.0,0.0,0.0,0.0,0.0,0.0,4680.0,0.0,608.0,0.0,0.0,0.0,158.0,1570.0,0.0,0.0,2154.0,3070.0,0.0,0.0,831.0,0.0,0.0,1055.0,0.0,0.0,0.0,4301.0,0.0,0.0,0.0,2423.0,5610.0,0.0,21.0,640.0,0.0,0.0,0.0,5.0,0.0,0.0,0.0,280.0,1828.0,0.0,53.0,2808.0,4887.0,0.0,1.0,0.0,0.0,847.0,0.0,0.0,0.0,0.0,458.07720329024676,0.0,0.0,62.0,0.0,0.0,4754.0,322.0,1787.0,917.0,529.0,0.0,0.0,0.0,0.0,0.0,0.0,0.0,0.0,28.0,717.0,28.0,0.0,0.0,458.07720329024676,3033.0,0.0,0.0,0.0,210.0,101.0,0.0,0.0,0.0,29.0,0.0,950.0,5.0,0.0,161.0,0.0,106.0,0.0,847.0,0.0,0.0,0.0,1878.0,3978.0,0.0,0.0,952.0,0.0,0.0,0.0,0.0,214.0,3636.0,0.0,0.0,739.0,4.0,0.0,0.0,0.0,0.0,0.0,0.0,0.0,3.0,0.0,0.0,0.0,164.0,0.0,0.0,0.0,728.0,1406.0,3.0,0.0,0.0,0.0,0.0,0.0,0.0,71.0,145.0,0.0,1028.0,0.0,0.0,0.0,0.0,82.0,0.0,0.0,226.0,0.0,0.0,221.0,0.0,2202.0,0.0,0.0,644.0,9.0,0.0,3.0,0.0,0.0,0.0,0.0,1475.0,694.0,0.0,268.0,35.0,731.0,0.0,0.0,0.0,18.0,0.0,0.0,33.0,0.0,0.0,0.0,0.0,0.0,1.0,0.0,0.0,0.0,0.0,2207.0,0.0,0.0,0.0,0.0,4.0,0.0,0.0,0.0,26.0,0.0,1285.0,0.0,1108.0,0.0,0.0,0.0,4455.0,1298.0,0.0,0.0,1.0,0.0,556.0,0.0,4791.0,0.0,0.0,0.0,0.0,16.0,0.0,0.0,0.0,0.0,0.0,764.0,155.0,0.0,0.0,0.0,971.0,499.0,0.0,0.0,6.0,1.0,0.0,458.07720329024676,0.0,0.0,0.0,0.0,0.0,0.0,0.0,0.0,7.0,0.0,0.0,0.0,0.0,0.0,98.0,227.0,0.0,0.0,0.0,9.0,3076.0,1821.0,0.0,247.0,0.0,0.0,0.0,1163.0,0.0,500.0,0.0,0.0,23.0,0.0,0.0,3.0,592.0,2639.0,7759.0,251.0,226.0,0.0,0.0,0.0,2.0,0.0,3853.0,44.0,16.0,0.0,83.0,753.0,0.0,0.0,0.0,9.0,0.0,458.07720329024676,0.0,1484.0,0.0,0.0,0.0,180.0,0.0,0.0,0.0,0.0,0.0,14.0,0.0,912.0,0.0,810.0,805.0,0.0,1127.0,0.0,0.0,0.0,458.07720329024676,114.0,91.0,0.0,0.0,0.0,0.0,0.0,0.0,0.0,0.0,565.0,4978.0,571.0,0.0,0.0,144.0,0.0,0.0,0.0,1427.0,748.0,0.0,3.0,0.0,0.0,557.0,0.0,0.0,0.0,0.0,2532.0,0.0,0.0,0.0,0.0,0.0,0.0,0.0,0.0,0.0,1770.0,10.0,0.0,0.0,0.0,454.0,145.0,0.0,0.0,0.0,4485.0,310.0,229.0,0.0,6.0,0.0,0.0,0.0,0.0,0.0,0.0,0.0,0.0,181.0,433.0,0.0,2910.0,927.0,0.0,0.0,1204.0,0.0,0.0,0.0,0.0,484.0,3488.0,0.0,0.0,0.0,0.0,0.0,0.0,0.0,2583.0,3126.0,2191.0,0.0,0.0,0.0,784.0,0.0,10.0,0.0,0.0,798.0,0.0,116.0,0.0,0.0,0.0,71.0,0.0,0.0,0.0,0.0,0.0,1.0,0.0,0.0,0.0,0.0,0.0,0.0,1332.0,16.0,0.0,0.0,0.0,0.0,659.0,0.0,1739.0,0.0,0.0,0.0,2.0,0.0,3.0,1.0,2481.0,70.0,0.0,0.0,458.07720329024676,0.0,471.0,0.0,0.0,0.0,0.0,0.0,0.0,445.0,0.0,0.0,3423.0,0.0,0.0,170.0,1632.0,32.0,0.0,13.0,4715.0,0.0,1524.0,0.0,0.0,0.0,1.0,0.0,29.0,0.0,0.0,0.0,0.0,0.0,0.0,6.0,0.0,458.07720329024676,0.0,0.0,2.0,822.0,0.0,846.0,3751.0,458.07720329024676,0.0,236.0,458.07720329024676,0.0,0.0,0.0,7.0,924.0,509.0,0.0,810.0,17.0,0.0,0.0,0.0,0.0,0.0,1028.0,0.0,1487.0,0.0,366.0,0.0,0.0,3707.0,4.0,8.0,41.0,458.07720329024676,0.0,0.0,1.0,0.0,20.0,167.0,0.0,0.0,0.0,173.0,0.0,0.0,0.0,338.0,0.0,108.0,0.0,0.0,0.0,1320.0,554.0,0.0,0.0,0.0,0.0,1.0,0.0,0.0,676.0,0.0,43.0,0.0,0.0,0.0,0.0,0.0,984.0,458.07720329024676,1876.0,4.0,0.0,3.0,0.0,0.0,5436.0,0.0,0.0,265.0,0.0,0.0,17.0,0.0,3479.0,0.0,0.0,8.0,6.0,19.0,9.0,1605.0,0.0,0.0,0.0,4313.0,12563.0,0.0,0.0,0.0,10.0,838.0,0.0,0.0,468.0,0.0,0.0,0.0,0.0,10.0,0.0,100.0,0.0,2.0,0.0,0.0,0.0,0.0,0.0,0.0,586.0,0.0,0.0,0.0,0.0,2113.0,495.0,0.0,0.0,0.0,704.0,0.0,796.0,475.0,0.0,2449.0,0.0,0.0,0.0,0.0,7.0,0.0,0.0,0.0,0.0,0.0,458.07720329024676,1501.0,1585.0,0.0,12.0,0.0,0.0,0.0,0.0,0.0,749.0,371.0,0.0,1.0,0.0,1961.0,0.0,1.0,16.0,0.0,0.0,1376.0,32.0,0.0,0.0,165.0,702.0,0.0,0.0,0.0,36.0,0.0,0.0,0.0,0.0,281.0,0.0,0.0,0.0,522.0,0.0,0.0,0.0,0.0,0.0,0.0,0.0,0.0,1.0,2.0,0.0,14773.0,0.0,2318.0,403.0,25.0,688.0,670.0,10073.0,537.0,584.0,0.0,194.0,0.0,0.0,0.0,4.0,5.0,7.0,94.0,0.0,0.0,41.0,0.0,599.0,0.0,4017.0,909.0,0.0,0.0,1674.0,104.0,794.0,0.0,7964.0,4634.0,458.07720329024676,0.0,816.0,77.0,0.0,0.0,0.0,0.0,0.0,40.0,8.0,90.0,679.0,0.0,0.0,0.0,45.0,0.0,0.0,0.0,0.0,639.0,197.0,0.0,0.0,0.0,0.0,0.0,0.0,5600.0,0.0,0.0,0.0,0.0,1.0,752.0,0.0,0.0,0.0,696.0,0.0,0.0,0.0,1208.0,2972.0,0.0,8160.0,0.0,0.0,0.0,0.0,0.0,1015.0,0.0,0.0,0.0,0.0,0.0,0.0,242.0,3.0,0.0,0.0,1146.0,3208.0,6819.0,0.0,0.0,1049.0,4688.0],\"yaxis\":\"y\",\"type\":\"scattergl\"}],                        {\"template\":{\"data\":{\"histogram2dcontour\":[{\"type\":\"histogram2dcontour\",\"colorbar\":{\"outlinewidth\":0,\"ticks\":\"\"},\"colorscale\":[[0.0,\"#0d0887\"],[0.1111111111111111,\"#46039f\"],[0.2222222222222222,\"#7201a8\"],[0.3333333333333333,\"#9c179e\"],[0.4444444444444444,\"#bd3786\"],[0.5555555555555556,\"#d8576b\"],[0.6666666666666666,\"#ed7953\"],[0.7777777777777778,\"#fb9f3a\"],[0.8888888888888888,\"#fdca26\"],[1.0,\"#f0f921\"]]}],\"choropleth\":[{\"type\":\"choropleth\",\"colorbar\":{\"outlinewidth\":0,\"ticks\":\"\"}}],\"histogram2d\":[{\"type\":\"histogram2d\",\"colorbar\":{\"outlinewidth\":0,\"ticks\":\"\"},\"colorscale\":[[0.0,\"#0d0887\"],[0.1111111111111111,\"#46039f\"],[0.2222222222222222,\"#7201a8\"],[0.3333333333333333,\"#9c179e\"],[0.4444444444444444,\"#bd3786\"],[0.5555555555555556,\"#d8576b\"],[0.6666666666666666,\"#ed7953\"],[0.7777777777777778,\"#fb9f3a\"],[0.8888888888888888,\"#fdca26\"],[1.0,\"#f0f921\"]]}],\"heatmap\":[{\"type\":\"heatmap\",\"colorbar\":{\"outlinewidth\":0,\"ticks\":\"\"},\"colorscale\":[[0.0,\"#0d0887\"],[0.1111111111111111,\"#46039f\"],[0.2222222222222222,\"#7201a8\"],[0.3333333333333333,\"#9c179e\"],[0.4444444444444444,\"#bd3786\"],[0.5555555555555556,\"#d8576b\"],[0.6666666666666666,\"#ed7953\"],[0.7777777777777778,\"#fb9f3a\"],[0.8888888888888888,\"#fdca26\"],[1.0,\"#f0f921\"]]}],\"heatmapgl\":[{\"type\":\"heatmapgl\",\"colorbar\":{\"outlinewidth\":0,\"ticks\":\"\"},\"colorscale\":[[0.0,\"#0d0887\"],[0.1111111111111111,\"#46039f\"],[0.2222222222222222,\"#7201a8\"],[0.3333333333333333,\"#9c179e\"],[0.4444444444444444,\"#bd3786\"],[0.5555555555555556,\"#d8576b\"],[0.6666666666666666,\"#ed7953\"],[0.7777777777777778,\"#fb9f3a\"],[0.8888888888888888,\"#fdca26\"],[1.0,\"#f0f921\"]]}],\"contourcarpet\":[{\"type\":\"contourcarpet\",\"colorbar\":{\"outlinewidth\":0,\"ticks\":\"\"}}],\"contour\":[{\"type\":\"contour\",\"colorbar\":{\"outlinewidth\":0,\"ticks\":\"\"},\"colorscale\":[[0.0,\"#0d0887\"],[0.1111111111111111,\"#46039f\"],[0.2222222222222222,\"#7201a8\"],[0.3333333333333333,\"#9c179e\"],[0.4444444444444444,\"#bd3786\"],[0.5555555555555556,\"#d8576b\"],[0.6666666666666666,\"#ed7953\"],[0.7777777777777778,\"#fb9f3a\"],[0.8888888888888888,\"#fdca26\"],[1.0,\"#f0f921\"]]}],\"surface\":[{\"type\":\"surface\",\"colorbar\":{\"outlinewidth\":0,\"ticks\":\"\"},\"colorscale\":[[0.0,\"#0d0887\"],[0.1111111111111111,\"#46039f\"],[0.2222222222222222,\"#7201a8\"],[0.3333333333333333,\"#9c179e\"],[0.4444444444444444,\"#bd3786\"],[0.5555555555555556,\"#d8576b\"],[0.6666666666666666,\"#ed7953\"],[0.7777777777777778,\"#fb9f3a\"],[0.8888888888888888,\"#fdca26\"],[1.0,\"#f0f921\"]]}],\"mesh3d\":[{\"type\":\"mesh3d\",\"colorbar\":{\"outlinewidth\":0,\"ticks\":\"\"}}],\"scatter\":[{\"fillpattern\":{\"fillmode\":\"overlay\",\"size\":10,\"solidity\":0.2},\"type\":\"scatter\"}],\"parcoords\":[{\"type\":\"parcoords\",\"line\":{\"colorbar\":{\"outlinewidth\":0,\"ticks\":\"\"}}}],\"scatterpolargl\":[{\"type\":\"scatterpolargl\",\"marker\":{\"colorbar\":{\"outlinewidth\":0,\"ticks\":\"\"}}}],\"bar\":[{\"error_x\":{\"color\":\"#2a3f5f\"},\"error_y\":{\"color\":\"#2a3f5f\"},\"marker\":{\"line\":{\"color\":\"#E5ECF6\",\"width\":0.5},\"pattern\":{\"fillmode\":\"overlay\",\"size\":10,\"solidity\":0.2}},\"type\":\"bar\"}],\"scattergeo\":[{\"type\":\"scattergeo\",\"marker\":{\"colorbar\":{\"outlinewidth\":0,\"ticks\":\"\"}}}],\"scatterpolar\":[{\"type\":\"scatterpolar\",\"marker\":{\"colorbar\":{\"outlinewidth\":0,\"ticks\":\"\"}}}],\"histogram\":[{\"marker\":{\"pattern\":{\"fillmode\":\"overlay\",\"size\":10,\"solidity\":0.2}},\"type\":\"histogram\"}],\"scattergl\":[{\"type\":\"scattergl\",\"marker\":{\"colorbar\":{\"outlinewidth\":0,\"ticks\":\"\"}}}],\"scatter3d\":[{\"type\":\"scatter3d\",\"line\":{\"colorbar\":{\"outlinewidth\":0,\"ticks\":\"\"}},\"marker\":{\"colorbar\":{\"outlinewidth\":0,\"ticks\":\"\"}}}],\"scattermapbox\":[{\"type\":\"scattermapbox\",\"marker\":{\"colorbar\":{\"outlinewidth\":0,\"ticks\":\"\"}}}],\"scatterternary\":[{\"type\":\"scatterternary\",\"marker\":{\"colorbar\":{\"outlinewidth\":0,\"ticks\":\"\"}}}],\"scattercarpet\":[{\"type\":\"scattercarpet\",\"marker\":{\"colorbar\":{\"outlinewidth\":0,\"ticks\":\"\"}}}],\"carpet\":[{\"aaxis\":{\"endlinecolor\":\"#2a3f5f\",\"gridcolor\":\"white\",\"linecolor\":\"white\",\"minorgridcolor\":\"white\",\"startlinecolor\":\"#2a3f5f\"},\"baxis\":{\"endlinecolor\":\"#2a3f5f\",\"gridcolor\":\"white\",\"linecolor\":\"white\",\"minorgridcolor\":\"white\",\"startlinecolor\":\"#2a3f5f\"},\"type\":\"carpet\"}],\"table\":[{\"cells\":{\"fill\":{\"color\":\"#EBF0F8\"},\"line\":{\"color\":\"white\"}},\"header\":{\"fill\":{\"color\":\"#C8D4E3\"},\"line\":{\"color\":\"white\"}},\"type\":\"table\"}],\"barpolar\":[{\"marker\":{\"line\":{\"color\":\"#E5ECF6\",\"width\":0.5},\"pattern\":{\"fillmode\":\"overlay\",\"size\":10,\"solidity\":0.2}},\"type\":\"barpolar\"}],\"pie\":[{\"automargin\":true,\"type\":\"pie\"}]},\"layout\":{\"autotypenumbers\":\"strict\",\"colorway\":[\"#636efa\",\"#EF553B\",\"#00cc96\",\"#ab63fa\",\"#FFA15A\",\"#19d3f3\",\"#FF6692\",\"#B6E880\",\"#FF97FF\",\"#FECB52\"],\"font\":{\"color\":\"#2a3f5f\"},\"hovermode\":\"closest\",\"hoverlabel\":{\"align\":\"left\"},\"paper_bgcolor\":\"white\",\"plot_bgcolor\":\"#E5ECF6\",\"polar\":{\"bgcolor\":\"#E5ECF6\",\"angularaxis\":{\"gridcolor\":\"white\",\"linecolor\":\"white\",\"ticks\":\"\"},\"radialaxis\":{\"gridcolor\":\"white\",\"linecolor\":\"white\",\"ticks\":\"\"}},\"ternary\":{\"bgcolor\":\"#E5ECF6\",\"aaxis\":{\"gridcolor\":\"white\",\"linecolor\":\"white\",\"ticks\":\"\"},\"baxis\":{\"gridcolor\":\"white\",\"linecolor\":\"white\",\"ticks\":\"\"},\"caxis\":{\"gridcolor\":\"white\",\"linecolor\":\"white\",\"ticks\":\"\"}},\"coloraxis\":{\"colorbar\":{\"outlinewidth\":0,\"ticks\":\"\"}},\"colorscale\":{\"sequential\":[[0.0,\"#0d0887\"],[0.1111111111111111,\"#46039f\"],[0.2222222222222222,\"#7201a8\"],[0.3333333333333333,\"#9c179e\"],[0.4444444444444444,\"#bd3786\"],[0.5555555555555556,\"#d8576b\"],[0.6666666666666666,\"#ed7953\"],[0.7777777777777778,\"#fb9f3a\"],[0.8888888888888888,\"#fdca26\"],[1.0,\"#f0f921\"]],\"sequentialminus\":[[0.0,\"#0d0887\"],[0.1111111111111111,\"#46039f\"],[0.2222222222222222,\"#7201a8\"],[0.3333333333333333,\"#9c179e\"],[0.4444444444444444,\"#bd3786\"],[0.5555555555555556,\"#d8576b\"],[0.6666666666666666,\"#ed7953\"],[0.7777777777777778,\"#fb9f3a\"],[0.8888888888888888,\"#fdca26\"],[1.0,\"#f0f921\"]],\"diverging\":[[0,\"#8e0152\"],[0.1,\"#c51b7d\"],[0.2,\"#de77ae\"],[0.3,\"#f1b6da\"],[0.4,\"#fde0ef\"],[0.5,\"#f7f7f7\"],[0.6,\"#e6f5d0\"],[0.7,\"#b8e186\"],[0.8,\"#7fbc41\"],[0.9,\"#4d9221\"],[1,\"#276419\"]]},\"xaxis\":{\"gridcolor\":\"white\",\"linecolor\":\"white\",\"ticks\":\"\",\"title\":{\"standoff\":15},\"zerolinecolor\":\"white\",\"automargin\":true,\"zerolinewidth\":2},\"yaxis\":{\"gridcolor\":\"white\",\"linecolor\":\"white\",\"ticks\":\"\",\"title\":{\"standoff\":15},\"zerolinecolor\":\"white\",\"automargin\":true,\"zerolinewidth\":2},\"scene\":{\"xaxis\":{\"backgroundcolor\":\"#E5ECF6\",\"gridcolor\":\"white\",\"linecolor\":\"white\",\"showbackground\":true,\"ticks\":\"\",\"zerolinecolor\":\"white\",\"gridwidth\":2},\"yaxis\":{\"backgroundcolor\":\"#E5ECF6\",\"gridcolor\":\"white\",\"linecolor\":\"white\",\"showbackground\":true,\"ticks\":\"\",\"zerolinecolor\":\"white\",\"gridwidth\":2},\"zaxis\":{\"backgroundcolor\":\"#E5ECF6\",\"gridcolor\":\"white\",\"linecolor\":\"white\",\"showbackground\":true,\"ticks\":\"\",\"zerolinecolor\":\"white\",\"gridwidth\":2}},\"shapedefaults\":{\"line\":{\"color\":\"#2a3f5f\"}},\"annotationdefaults\":{\"arrowcolor\":\"#2a3f5f\",\"arrowhead\":0,\"arrowwidth\":1},\"geo\":{\"bgcolor\":\"white\",\"landcolor\":\"#E5ECF6\",\"subunitcolor\":\"white\",\"showland\":true,\"showlakes\":true,\"lakecolor\":\"white\"},\"title\":{\"x\":0.05},\"mapbox\":{\"style\":\"light\"}}},\"xaxis\":{\"anchor\":\"y\",\"domain\":[0.0,1.0],\"title\":{\"text\":\"Transported\"}},\"yaxis\":{\"anchor\":\"x\",\"domain\":[0.0,1.0],\"title\":{\"text\":\"FoodCourt\"}},\"legend\":{\"tracegroupgap\":0},\"margin\":{\"t\":60}},                        {\"responsive\": true}                    ).then(function(){\n",
       "                            \n",
       "var gd = document.getElementById('7f57e4a0-fb2e-4994-bb14-bb863e145804');\n",
       "var x = new MutationObserver(function (mutations, observer) {{\n",
       "        var display = window.getComputedStyle(gd).display;\n",
       "        if (!display || display === 'none') {{\n",
       "            console.log([gd, 'removed!']);\n",
       "            Plotly.purge(gd);\n",
       "            observer.disconnect();\n",
       "        }}\n",
       "}});\n",
       "\n",
       "// Listen for the removal of the full notebook cells\n",
       "var notebookContainer = gd.closest('#notebook-container');\n",
       "if (notebookContainer) {{\n",
       "    x.observe(notebookContainer, {childList: true});\n",
       "}}\n",
       "\n",
       "// Listen for the clearing of the current output cell\n",
       "var outputEl = gd.closest('.output');\n",
       "if (outputEl) {{\n",
       "    x.observe(outputEl, {childList: true});\n",
       "}}\n",
       "\n",
       "                        })                };                });            </script>        </div>"
      ]
     },
     "metadata": {},
     "output_type": "display_data"
    }
   ],
   "source": [
    "px.scatter(data_frame=train,x='Transported',y='FoodCourt')"
   ]
  },
  {
   "cell_type": "markdown",
   "id": "3670c439",
   "metadata": {
    "papermill": {
     "duration": 0.014411,
     "end_time": "2023-08-15T11:22:28.390226",
     "exception": false,
     "start_time": "2023-08-15T11:22:28.375815",
     "status": "completed"
    },
    "tags": []
   },
   "source": [
    "# prepare train data"
   ]
  },
  {
   "cell_type": "code",
   "execution_count": 34,
   "id": "f27fa99b",
   "metadata": {
    "execution": {
     "iopub.execute_input": "2023-08-15T11:22:28.422419Z",
     "iopub.status.busy": "2023-08-15T11:22:28.422039Z",
     "iopub.status.idle": "2023-08-15T11:22:28.435791Z",
     "shell.execute_reply": "2023-08-15T11:22:28.434902Z"
    },
    "papermill": {
     "duration": 0.031305,
     "end_time": "2023-08-15T11:22:28.437621",
     "exception": false,
     "start_time": "2023-08-15T11:22:28.406316",
     "status": "completed"
    },
    "tags": []
   },
   "outputs": [
    {
     "data": {
      "text/html": [
       "<div>\n",
       "<style scoped>\n",
       "    .dataframe tbody tr th:only-of-type {\n",
       "        vertical-align: middle;\n",
       "    }\n",
       "\n",
       "    .dataframe tbody tr th {\n",
       "        vertical-align: top;\n",
       "    }\n",
       "\n",
       "    .dataframe thead th {\n",
       "        text-align: right;\n",
       "    }\n",
       "</style>\n",
       "<table border=\"1\" class=\"dataframe\">\n",
       "  <thead>\n",
       "    <tr style=\"text-align: right;\">\n",
       "      <th></th>\n",
       "      <th>PassengerId</th>\n",
       "      <th>Age</th>\n",
       "      <th>RoomService</th>\n",
       "      <th>FoodCourt</th>\n",
       "      <th>ShoppingMall</th>\n",
       "      <th>Spa</th>\n",
       "      <th>VRDeck</th>\n",
       "      <th>Transported</th>\n",
       "    </tr>\n",
       "  </thead>\n",
       "  <tbody>\n",
       "    <tr>\n",
       "      <th>0</th>\n",
       "      <td>0001_01</td>\n",
       "      <td>39.0</td>\n",
       "      <td>0.0</td>\n",
       "      <td>0.0</td>\n",
       "      <td>0.0</td>\n",
       "      <td>0.0</td>\n",
       "      <td>0.0</td>\n",
       "      <td>False</td>\n",
       "    </tr>\n",
       "    <tr>\n",
       "      <th>1</th>\n",
       "      <td>0002_01</td>\n",
       "      <td>24.0</td>\n",
       "      <td>109.0</td>\n",
       "      <td>9.0</td>\n",
       "      <td>25.0</td>\n",
       "      <td>549.0</td>\n",
       "      <td>44.0</td>\n",
       "      <td>True</td>\n",
       "    </tr>\n",
       "    <tr>\n",
       "      <th>2</th>\n",
       "      <td>0003_01</td>\n",
       "      <td>58.0</td>\n",
       "      <td>43.0</td>\n",
       "      <td>3576.0</td>\n",
       "      <td>0.0</td>\n",
       "      <td>6715.0</td>\n",
       "      <td>49.0</td>\n",
       "      <td>False</td>\n",
       "    </tr>\n",
       "    <tr>\n",
       "      <th>3</th>\n",
       "      <td>0003_02</td>\n",
       "      <td>33.0</td>\n",
       "      <td>0.0</td>\n",
       "      <td>1283.0</td>\n",
       "      <td>371.0</td>\n",
       "      <td>3329.0</td>\n",
       "      <td>193.0</td>\n",
       "      <td>False</td>\n",
       "    </tr>\n",
       "    <tr>\n",
       "      <th>4</th>\n",
       "      <td>0004_01</td>\n",
       "      <td>16.0</td>\n",
       "      <td>303.0</td>\n",
       "      <td>70.0</td>\n",
       "      <td>151.0</td>\n",
       "      <td>565.0</td>\n",
       "      <td>2.0</td>\n",
       "      <td>True</td>\n",
       "    </tr>\n",
       "  </tbody>\n",
       "</table>\n",
       "</div>"
      ],
      "text/plain": [
       "  PassengerId   Age  RoomService  FoodCourt  ShoppingMall     Spa  VRDeck  \\\n",
       "0     0001_01  39.0          0.0        0.0           0.0     0.0     0.0   \n",
       "1     0002_01  24.0        109.0        9.0          25.0   549.0    44.0   \n",
       "2     0003_01  58.0         43.0     3576.0           0.0  6715.0    49.0   \n",
       "3     0003_02  33.0          0.0     1283.0         371.0  3329.0   193.0   \n",
       "4     0004_01  16.0        303.0       70.0         151.0   565.0     2.0   \n",
       "\n",
       "   Transported  \n",
       "0        False  \n",
       "1         True  \n",
       "2        False  \n",
       "3        False  \n",
       "4         True  "
      ]
     },
     "execution_count": 34,
     "metadata": {},
     "output_type": "execute_result"
    }
   ],
   "source": [
    "train.head()"
   ]
  },
  {
   "cell_type": "markdown",
   "id": "901add5f",
   "metadata": {
    "papermill": {
     "duration": 0.015945,
     "end_time": "2023-08-15T11:22:28.469130",
     "exception": false,
     "start_time": "2023-08-15T11:22:28.453185",
     "status": "completed"
    },
    "tags": []
   },
   "source": [
    "# prepare test data"
   ]
  },
  {
   "cell_type": "code",
   "execution_count": 35,
   "id": "4adb1f38",
   "metadata": {
    "execution": {
     "iopub.execute_input": "2023-08-15T11:22:28.499695Z",
     "iopub.status.busy": "2023-08-15T11:22:28.499376Z",
     "iopub.status.idle": "2023-08-15T11:22:28.513294Z",
     "shell.execute_reply": "2023-08-15T11:22:28.512295Z"
    },
    "papermill": {
     "duration": 0.031458,
     "end_time": "2023-08-15T11:22:28.515040",
     "exception": false,
     "start_time": "2023-08-15T11:22:28.483582",
     "status": "completed"
    },
    "tags": []
   },
   "outputs": [
    {
     "data": {
      "text/html": [
       "<div>\n",
       "<style scoped>\n",
       "    .dataframe tbody tr th:only-of-type {\n",
       "        vertical-align: middle;\n",
       "    }\n",
       "\n",
       "    .dataframe tbody tr th {\n",
       "        vertical-align: top;\n",
       "    }\n",
       "\n",
       "    .dataframe thead th {\n",
       "        text-align: right;\n",
       "    }\n",
       "</style>\n",
       "<table border=\"1\" class=\"dataframe\">\n",
       "  <thead>\n",
       "    <tr style=\"text-align: right;\">\n",
       "      <th></th>\n",
       "      <th>PassengerId</th>\n",
       "      <th>Age</th>\n",
       "      <th>RoomService</th>\n",
       "      <th>FoodCourt</th>\n",
       "      <th>ShoppingMall</th>\n",
       "      <th>Spa</th>\n",
       "      <th>VRDeck</th>\n",
       "    </tr>\n",
       "  </thead>\n",
       "  <tbody>\n",
       "    <tr>\n",
       "      <th>0</th>\n",
       "      <td>0013_01</td>\n",
       "      <td>27.0</td>\n",
       "      <td>0.0</td>\n",
       "      <td>0.0</td>\n",
       "      <td>0.0</td>\n",
       "      <td>0.0</td>\n",
       "      <td>0.0</td>\n",
       "    </tr>\n",
       "    <tr>\n",
       "      <th>1</th>\n",
       "      <td>0018_01</td>\n",
       "      <td>19.0</td>\n",
       "      <td>0.0</td>\n",
       "      <td>9.0</td>\n",
       "      <td>0.0</td>\n",
       "      <td>2823.0</td>\n",
       "      <td>0.0</td>\n",
       "    </tr>\n",
       "    <tr>\n",
       "      <th>2</th>\n",
       "      <td>0019_01</td>\n",
       "      <td>31.0</td>\n",
       "      <td>0.0</td>\n",
       "      <td>0.0</td>\n",
       "      <td>0.0</td>\n",
       "      <td>0.0</td>\n",
       "      <td>0.0</td>\n",
       "    </tr>\n",
       "    <tr>\n",
       "      <th>3</th>\n",
       "      <td>0021_01</td>\n",
       "      <td>38.0</td>\n",
       "      <td>0.0</td>\n",
       "      <td>6652.0</td>\n",
       "      <td>0.0</td>\n",
       "      <td>181.0</td>\n",
       "      <td>585.0</td>\n",
       "    </tr>\n",
       "    <tr>\n",
       "      <th>4</th>\n",
       "      <td>0023_01</td>\n",
       "      <td>20.0</td>\n",
       "      <td>10.0</td>\n",
       "      <td>0.0</td>\n",
       "      <td>635.0</td>\n",
       "      <td>0.0</td>\n",
       "      <td>0.0</td>\n",
       "    </tr>\n",
       "  </tbody>\n",
       "</table>\n",
       "</div>"
      ],
      "text/plain": [
       "  PassengerId   Age  RoomService  FoodCourt  ShoppingMall     Spa  VRDeck\n",
       "0     0013_01  27.0          0.0        0.0           0.0     0.0     0.0\n",
       "1     0018_01  19.0          0.0        9.0           0.0  2823.0     0.0\n",
       "2     0019_01  31.0          0.0        0.0           0.0     0.0     0.0\n",
       "3     0021_01  38.0          0.0     6652.0           0.0   181.0   585.0\n",
       "4     0023_01  20.0         10.0        0.0         635.0     0.0     0.0"
      ]
     },
     "execution_count": 35,
     "metadata": {},
     "output_type": "execute_result"
    }
   ],
   "source": [
    "test.head()"
   ]
  },
  {
   "cell_type": "markdown",
   "id": "e6aa1d47",
   "metadata": {
    "papermill": {
     "duration": 0.016037,
     "end_time": "2023-08-15T11:22:28.546253",
     "exception": false,
     "start_time": "2023-08-15T11:22:28.530216",
     "status": "completed"
    },
    "tags": []
   },
   "source": [
    "# building model"
   ]
  },
  {
   "cell_type": "code",
   "execution_count": 36,
   "id": "de79ac06",
   "metadata": {
    "execution": {
     "iopub.execute_input": "2023-08-15T11:22:28.578950Z",
     "iopub.status.busy": "2023-08-15T11:22:28.578615Z",
     "iopub.status.idle": "2023-08-15T11:22:28.587042Z",
     "shell.execute_reply": "2023-08-15T11:22:28.586120Z"
    },
    "papermill": {
     "duration": 0.026994,
     "end_time": "2023-08-15T11:22:28.588885",
     "exception": false,
     "start_time": "2023-08-15T11:22:28.561891",
     "status": "completed"
    },
    "tags": []
   },
   "outputs": [
    {
     "data": {
      "text/plain": [
       "0       False\n",
       "1        True\n",
       "2       False\n",
       "3       False\n",
       "4        True\n",
       "        ...  \n",
       "8688    False\n",
       "8689    False\n",
       "8690     True\n",
       "8691    False\n",
       "8692     True\n",
       "Name: Transported, Length: 8693, dtype: bool"
      ]
     },
     "execution_count": 36,
     "metadata": {},
     "output_type": "execute_result"
    }
   ],
   "source": [
    "y_train = train['Transported']\n",
    "y_train"
   ]
  },
  {
   "cell_type": "code",
   "execution_count": 37,
   "id": "f27e6b30",
   "metadata": {
    "execution": {
     "iopub.execute_input": "2023-08-15T11:22:28.619854Z",
     "iopub.status.busy": "2023-08-15T11:22:28.619517Z",
     "iopub.status.idle": "2023-08-15T11:22:28.634820Z",
     "shell.execute_reply": "2023-08-15T11:22:28.633857Z"
    },
    "papermill": {
     "duration": 0.032722,
     "end_time": "2023-08-15T11:22:28.636523",
     "exception": false,
     "start_time": "2023-08-15T11:22:28.603801",
     "status": "completed"
    },
    "tags": []
   },
   "outputs": [
    {
     "data": {
      "text/html": [
       "<div>\n",
       "<style scoped>\n",
       "    .dataframe tbody tr th:only-of-type {\n",
       "        vertical-align: middle;\n",
       "    }\n",
       "\n",
       "    .dataframe tbody tr th {\n",
       "        vertical-align: top;\n",
       "    }\n",
       "\n",
       "    .dataframe thead th {\n",
       "        text-align: right;\n",
       "    }\n",
       "</style>\n",
       "<table border=\"1\" class=\"dataframe\">\n",
       "  <thead>\n",
       "    <tr style=\"text-align: right;\">\n",
       "      <th></th>\n",
       "      <th>PassengerId</th>\n",
       "      <th>Age</th>\n",
       "      <th>RoomService</th>\n",
       "      <th>FoodCourt</th>\n",
       "      <th>ShoppingMall</th>\n",
       "      <th>Spa</th>\n",
       "      <th>VRDeck</th>\n",
       "    </tr>\n",
       "  </thead>\n",
       "  <tbody>\n",
       "    <tr>\n",
       "      <th>0</th>\n",
       "      <td>0001_01</td>\n",
       "      <td>39.0</td>\n",
       "      <td>0.0</td>\n",
       "      <td>0.0</td>\n",
       "      <td>0.0</td>\n",
       "      <td>0.0</td>\n",
       "      <td>0.0</td>\n",
       "    </tr>\n",
       "    <tr>\n",
       "      <th>1</th>\n",
       "      <td>0002_01</td>\n",
       "      <td>24.0</td>\n",
       "      <td>109.0</td>\n",
       "      <td>9.0</td>\n",
       "      <td>25.0</td>\n",
       "      <td>549.0</td>\n",
       "      <td>44.0</td>\n",
       "    </tr>\n",
       "    <tr>\n",
       "      <th>2</th>\n",
       "      <td>0003_01</td>\n",
       "      <td>58.0</td>\n",
       "      <td>43.0</td>\n",
       "      <td>3576.0</td>\n",
       "      <td>0.0</td>\n",
       "      <td>6715.0</td>\n",
       "      <td>49.0</td>\n",
       "    </tr>\n",
       "    <tr>\n",
       "      <th>3</th>\n",
       "      <td>0003_02</td>\n",
       "      <td>33.0</td>\n",
       "      <td>0.0</td>\n",
       "      <td>1283.0</td>\n",
       "      <td>371.0</td>\n",
       "      <td>3329.0</td>\n",
       "      <td>193.0</td>\n",
       "    </tr>\n",
       "    <tr>\n",
       "      <th>4</th>\n",
       "      <td>0004_01</td>\n",
       "      <td>16.0</td>\n",
       "      <td>303.0</td>\n",
       "      <td>70.0</td>\n",
       "      <td>151.0</td>\n",
       "      <td>565.0</td>\n",
       "      <td>2.0</td>\n",
       "    </tr>\n",
       "  </tbody>\n",
       "</table>\n",
       "</div>"
      ],
      "text/plain": [
       "  PassengerId   Age  RoomService  FoodCourt  ShoppingMall     Spa  VRDeck\n",
       "0     0001_01  39.0          0.0        0.0           0.0     0.0     0.0\n",
       "1     0002_01  24.0        109.0        9.0          25.0   549.0    44.0\n",
       "2     0003_01  58.0         43.0     3576.0           0.0  6715.0    49.0\n",
       "3     0003_02  33.0          0.0     1283.0         371.0  3329.0   193.0\n",
       "4     0004_01  16.0        303.0       70.0         151.0   565.0     2.0"
      ]
     },
     "execution_count": 37,
     "metadata": {},
     "output_type": "execute_result"
    }
   ],
   "source": [
    "X_train = train.drop(columns='Transported',axis=1)\n",
    "X_train.head()"
   ]
  },
  {
   "cell_type": "markdown",
   "id": "ada9aadc",
   "metadata": {
    "papermill": {
     "duration": 0.016045,
     "end_time": "2023-08-15T11:22:28.668550",
     "exception": false,
     "start_time": "2023-08-15T11:22:28.652505",
     "status": "completed"
    },
    "tags": []
   },
   "source": [
    "# LinearRegression"
   ]
  },
  {
   "cell_type": "code",
   "execution_count": 38,
   "id": "4578f73d",
   "metadata": {
    "execution": {
     "iopub.execute_input": "2023-08-15T11:22:28.699572Z",
     "iopub.status.busy": "2023-08-15T11:22:28.699234Z",
     "iopub.status.idle": "2023-08-15T11:22:28.908301Z",
     "shell.execute_reply": "2023-08-15T11:22:28.907132Z"
    },
    "papermill": {
     "duration": 0.226989,
     "end_time": "2023-08-15T11:22:28.910335",
     "exception": false,
     "start_time": "2023-08-15T11:22:28.683346",
     "status": "completed"
    },
    "tags": []
   },
   "outputs": [],
   "source": [
    "from sklearn.linear_model import LinearRegression"
   ]
  },
  {
   "cell_type": "code",
   "execution_count": 39,
   "id": "8ef49a4c",
   "metadata": {
    "execution": {
     "iopub.execute_input": "2023-08-15T11:22:28.943181Z",
     "iopub.status.busy": "2023-08-15T11:22:28.942843Z",
     "iopub.status.idle": "2023-08-15T11:22:28.949407Z",
     "shell.execute_reply": "2023-08-15T11:22:28.948035Z"
    },
    "papermill": {
     "duration": 0.024944,
     "end_time": "2023-08-15T11:22:28.951405",
     "exception": false,
     "start_time": "2023-08-15T11:22:28.926461",
     "status": "completed"
    },
    "tags": []
   },
   "outputs": [],
   "source": [
    "model = LinearRegression()"
   ]
  },
  {
   "cell_type": "code",
   "execution_count": 40,
   "id": "24fcc5da",
   "metadata": {
    "execution": {
     "iopub.execute_input": "2023-08-15T11:22:28.983378Z",
     "iopub.status.busy": "2023-08-15T11:22:28.983012Z",
     "iopub.status.idle": "2023-08-15T11:22:29.021482Z",
     "shell.execute_reply": "2023-08-15T11:22:29.020271Z"
    },
    "papermill": {
     "duration": 0.056977,
     "end_time": "2023-08-15T11:22:29.023552",
     "exception": false,
     "start_time": "2023-08-15T11:22:28.966575",
     "status": "completed"
    },
    "tags": []
   },
   "outputs": [
    {
     "data": {
      "text/html": [
       "<style>#sk-container-id-1 {color: black;background-color: white;}#sk-container-id-1 pre{padding: 0;}#sk-container-id-1 div.sk-toggleable {background-color: white;}#sk-container-id-1 label.sk-toggleable__label {cursor: pointer;display: block;width: 100%;margin-bottom: 0;padding: 0.3em;box-sizing: border-box;text-align: center;}#sk-container-id-1 label.sk-toggleable__label-arrow:before {content: \"▸\";float: left;margin-right: 0.25em;color: #696969;}#sk-container-id-1 label.sk-toggleable__label-arrow:hover:before {color: black;}#sk-container-id-1 div.sk-estimator:hover label.sk-toggleable__label-arrow:before {color: black;}#sk-container-id-1 div.sk-toggleable__content {max-height: 0;max-width: 0;overflow: hidden;text-align: left;background-color: #f0f8ff;}#sk-container-id-1 div.sk-toggleable__content pre {margin: 0.2em;color: black;border-radius: 0.25em;background-color: #f0f8ff;}#sk-container-id-1 input.sk-toggleable__control:checked~div.sk-toggleable__content {max-height: 200px;max-width: 100%;overflow: auto;}#sk-container-id-1 input.sk-toggleable__control:checked~label.sk-toggleable__label-arrow:before {content: \"▾\";}#sk-container-id-1 div.sk-estimator input.sk-toggleable__control:checked~label.sk-toggleable__label {background-color: #d4ebff;}#sk-container-id-1 div.sk-label input.sk-toggleable__control:checked~label.sk-toggleable__label {background-color: #d4ebff;}#sk-container-id-1 input.sk-hidden--visually {border: 0;clip: rect(1px 1px 1px 1px);clip: rect(1px, 1px, 1px, 1px);height: 1px;margin: -1px;overflow: hidden;padding: 0;position: absolute;width: 1px;}#sk-container-id-1 div.sk-estimator {font-family: monospace;background-color: #f0f8ff;border: 1px dotted black;border-radius: 0.25em;box-sizing: border-box;margin-bottom: 0.5em;}#sk-container-id-1 div.sk-estimator:hover {background-color: #d4ebff;}#sk-container-id-1 div.sk-parallel-item::after {content: \"\";width: 100%;border-bottom: 1px solid gray;flex-grow: 1;}#sk-container-id-1 div.sk-label:hover label.sk-toggleable__label {background-color: #d4ebff;}#sk-container-id-1 div.sk-serial::before {content: \"\";position: absolute;border-left: 1px solid gray;box-sizing: border-box;top: 0;bottom: 0;left: 50%;z-index: 0;}#sk-container-id-1 div.sk-serial {display: flex;flex-direction: column;align-items: center;background-color: white;padding-right: 0.2em;padding-left: 0.2em;position: relative;}#sk-container-id-1 div.sk-item {position: relative;z-index: 1;}#sk-container-id-1 div.sk-parallel {display: flex;align-items: stretch;justify-content: center;background-color: white;position: relative;}#sk-container-id-1 div.sk-item::before, #sk-container-id-1 div.sk-parallel-item::before {content: \"\";position: absolute;border-left: 1px solid gray;box-sizing: border-box;top: 0;bottom: 0;left: 50%;z-index: -1;}#sk-container-id-1 div.sk-parallel-item {display: flex;flex-direction: column;z-index: 1;position: relative;background-color: white;}#sk-container-id-1 div.sk-parallel-item:first-child::after {align-self: flex-end;width: 50%;}#sk-container-id-1 div.sk-parallel-item:last-child::after {align-self: flex-start;width: 50%;}#sk-container-id-1 div.sk-parallel-item:only-child::after {width: 0;}#sk-container-id-1 div.sk-dashed-wrapped {border: 1px dashed gray;margin: 0 0.4em 0.5em 0.4em;box-sizing: border-box;padding-bottom: 0.4em;background-color: white;}#sk-container-id-1 div.sk-label label {font-family: monospace;font-weight: bold;display: inline-block;line-height: 1.2em;}#sk-container-id-1 div.sk-label-container {text-align: center;}#sk-container-id-1 div.sk-container {/* jupyter's `normalize.less` sets `[hidden] { display: none; }` but bootstrap.min.css set `[hidden] { display: none !important; }` so we also need the `!important` here to be able to override the default hidden behavior on the sphinx rendered scikit-learn.org. See: https://github.com/scikit-learn/scikit-learn/issues/21755 */display: inline-block !important;position: relative;}#sk-container-id-1 div.sk-text-repr-fallback {display: none;}</style><div id=\"sk-container-id-1\" class=\"sk-top-container\"><div class=\"sk-text-repr-fallback\"><pre>LinearRegression()</pre><b>In a Jupyter environment, please rerun this cell to show the HTML representation or trust the notebook. <br />On GitHub, the HTML representation is unable to render, please try loading this page with nbviewer.org.</b></div><div class=\"sk-container\" hidden><div class=\"sk-item\"><div class=\"sk-estimator sk-toggleable\"><input class=\"sk-toggleable__control sk-hidden--visually\" id=\"sk-estimator-id-1\" type=\"checkbox\" checked><label for=\"sk-estimator-id-1\" class=\"sk-toggleable__label sk-toggleable__label-arrow\">LinearRegression</label><div class=\"sk-toggleable__content\"><pre>LinearRegression()</pre></div></div></div></div></div>"
      ],
      "text/plain": [
       "LinearRegression()"
      ]
     },
     "execution_count": 40,
     "metadata": {},
     "output_type": "execute_result"
    }
   ],
   "source": [
    "model.fit(X_train,y_train)"
   ]
  },
  {
   "cell_type": "markdown",
   "id": "152758c3",
   "metadata": {
    "papermill": {
     "duration": 0.016859,
     "end_time": "2023-08-15T11:22:29.059766",
     "exception": false,
     "start_time": "2023-08-15T11:22:29.042907",
     "status": "completed"
    },
    "tags": []
   },
   "source": [
    "# test model"
   ]
  },
  {
   "cell_type": "code",
   "execution_count": 41,
   "id": "fbc5230e",
   "metadata": {
    "execution": {
     "iopub.execute_input": "2023-08-15T11:22:29.094507Z",
     "iopub.status.busy": "2023-08-15T11:22:29.093870Z",
     "iopub.status.idle": "2023-08-15T11:22:29.105676Z",
     "shell.execute_reply": "2023-08-15T11:22:29.104395Z"
    },
    "papermill": {
     "duration": 0.031528,
     "end_time": "2023-08-15T11:22:29.108476",
     "exception": false,
     "start_time": "2023-08-15T11:22:29.076948",
     "status": "completed"
    },
    "tags": []
   },
   "outputs": [
    {
     "data": {
      "text/plain": [
       "array([0.55907325, 0.30015764, 0.55488327, ..., 0.59863888, 0.66880624,\n",
       "       0.58390644])"
      ]
     },
     "execution_count": 41,
     "metadata": {},
     "output_type": "execute_result"
    }
   ],
   "source": [
    "y_predict = model.predict(test)\n",
    "y_predict"
   ]
  },
  {
   "cell_type": "markdown",
   "id": "37f90f97",
   "metadata": {
    "papermill": {
     "duration": 0.020488,
     "end_time": "2023-08-15T11:22:29.150433",
     "exception": false,
     "start_time": "2023-08-15T11:22:29.129945",
     "status": "completed"
    },
    "tags": []
   },
   "source": [
    "# model evaluation"
   ]
  },
  {
   "cell_type": "code",
   "execution_count": 42,
   "id": "815ca018",
   "metadata": {
    "execution": {
     "iopub.execute_input": "2023-08-15T11:22:29.195795Z",
     "iopub.status.busy": "2023-08-15T11:22:29.195459Z",
     "iopub.status.idle": "2023-08-15T11:22:29.212857Z",
     "shell.execute_reply": "2023-08-15T11:22:29.212122Z"
    },
    "papermill": {
     "duration": 0.043533,
     "end_time": "2023-08-15T11:22:29.215165",
     "exception": false,
     "start_time": "2023-08-15T11:22:29.171632",
     "status": "completed"
    },
    "tags": []
   },
   "outputs": [
    {
     "data": {
      "text/plain": [
       "0.15681810174927502"
      ]
     },
     "execution_count": 42,
     "metadata": {},
     "output_type": "execute_result"
    }
   ],
   "source": [
    "model.score(X_train,y_train)"
   ]
  },
  {
   "cell_type": "markdown",
   "id": "a7e4d53a",
   "metadata": {
    "papermill": {
     "duration": 0.022018,
     "end_time": "2023-08-15T11:22:29.259076",
     "exception": false,
     "start_time": "2023-08-15T11:22:29.237058",
     "status": "completed"
    },
    "tags": []
   },
   "source": [
    "# KNeighborsClassifier"
   ]
  },
  {
   "cell_type": "code",
   "execution_count": 43,
   "id": "2caa42bb",
   "metadata": {
    "execution": {
     "iopub.execute_input": "2023-08-15T11:22:29.304168Z",
     "iopub.status.busy": "2023-08-15T11:22:29.303815Z",
     "iopub.status.idle": "2023-08-15T11:22:29.407973Z",
     "shell.execute_reply": "2023-08-15T11:22:29.406684Z"
    },
    "papermill": {
     "duration": 0.130118,
     "end_time": "2023-08-15T11:22:29.410424",
     "exception": false,
     "start_time": "2023-08-15T11:22:29.280306",
     "status": "completed"
    },
    "tags": []
   },
   "outputs": [],
   "source": [
    "from sklearn.neighbors import KNeighborsClassifier"
   ]
  },
  {
   "cell_type": "code",
   "execution_count": 44,
   "id": "290e9f0e",
   "metadata": {
    "execution": {
     "iopub.execute_input": "2023-08-15T11:22:29.444474Z",
     "iopub.status.busy": "2023-08-15T11:22:29.443906Z",
     "iopub.status.idle": "2023-08-15T11:22:29.447988Z",
     "shell.execute_reply": "2023-08-15T11:22:29.447292Z"
    },
    "papermill": {
     "duration": 0.022448,
     "end_time": "2023-08-15T11:22:29.449636",
     "exception": false,
     "start_time": "2023-08-15T11:22:29.427188",
     "status": "completed"
    },
    "tags": []
   },
   "outputs": [],
   "source": [
    "model = KNeighborsClassifier(n_neighbors=2)"
   ]
  },
  {
   "cell_type": "code",
   "execution_count": 45,
   "id": "35195a07",
   "metadata": {
    "execution": {
     "iopub.execute_input": "2023-08-15T11:22:29.482851Z",
     "iopub.status.busy": "2023-08-15T11:22:29.482339Z",
     "iopub.status.idle": "2023-08-15T11:22:29.500037Z",
     "shell.execute_reply": "2023-08-15T11:22:29.499209Z"
    },
    "papermill": {
     "duration": 0.036203,
     "end_time": "2023-08-15T11:22:29.501683",
     "exception": false,
     "start_time": "2023-08-15T11:22:29.465480",
     "status": "completed"
    },
    "tags": []
   },
   "outputs": [
    {
     "data": {
      "text/html": [
       "<style>#sk-container-id-2 {color: black;background-color: white;}#sk-container-id-2 pre{padding: 0;}#sk-container-id-2 div.sk-toggleable {background-color: white;}#sk-container-id-2 label.sk-toggleable__label {cursor: pointer;display: block;width: 100%;margin-bottom: 0;padding: 0.3em;box-sizing: border-box;text-align: center;}#sk-container-id-2 label.sk-toggleable__label-arrow:before {content: \"▸\";float: left;margin-right: 0.25em;color: #696969;}#sk-container-id-2 label.sk-toggleable__label-arrow:hover:before {color: black;}#sk-container-id-2 div.sk-estimator:hover label.sk-toggleable__label-arrow:before {color: black;}#sk-container-id-2 div.sk-toggleable__content {max-height: 0;max-width: 0;overflow: hidden;text-align: left;background-color: #f0f8ff;}#sk-container-id-2 div.sk-toggleable__content pre {margin: 0.2em;color: black;border-radius: 0.25em;background-color: #f0f8ff;}#sk-container-id-2 input.sk-toggleable__control:checked~div.sk-toggleable__content {max-height: 200px;max-width: 100%;overflow: auto;}#sk-container-id-2 input.sk-toggleable__control:checked~label.sk-toggleable__label-arrow:before {content: \"▾\";}#sk-container-id-2 div.sk-estimator input.sk-toggleable__control:checked~label.sk-toggleable__label {background-color: #d4ebff;}#sk-container-id-2 div.sk-label input.sk-toggleable__control:checked~label.sk-toggleable__label {background-color: #d4ebff;}#sk-container-id-2 input.sk-hidden--visually {border: 0;clip: rect(1px 1px 1px 1px);clip: rect(1px, 1px, 1px, 1px);height: 1px;margin: -1px;overflow: hidden;padding: 0;position: absolute;width: 1px;}#sk-container-id-2 div.sk-estimator {font-family: monospace;background-color: #f0f8ff;border: 1px dotted black;border-radius: 0.25em;box-sizing: border-box;margin-bottom: 0.5em;}#sk-container-id-2 div.sk-estimator:hover {background-color: #d4ebff;}#sk-container-id-2 div.sk-parallel-item::after {content: \"\";width: 100%;border-bottom: 1px solid gray;flex-grow: 1;}#sk-container-id-2 div.sk-label:hover label.sk-toggleable__label {background-color: #d4ebff;}#sk-container-id-2 div.sk-serial::before {content: \"\";position: absolute;border-left: 1px solid gray;box-sizing: border-box;top: 0;bottom: 0;left: 50%;z-index: 0;}#sk-container-id-2 div.sk-serial {display: flex;flex-direction: column;align-items: center;background-color: white;padding-right: 0.2em;padding-left: 0.2em;position: relative;}#sk-container-id-2 div.sk-item {position: relative;z-index: 1;}#sk-container-id-2 div.sk-parallel {display: flex;align-items: stretch;justify-content: center;background-color: white;position: relative;}#sk-container-id-2 div.sk-item::before, #sk-container-id-2 div.sk-parallel-item::before {content: \"\";position: absolute;border-left: 1px solid gray;box-sizing: border-box;top: 0;bottom: 0;left: 50%;z-index: -1;}#sk-container-id-2 div.sk-parallel-item {display: flex;flex-direction: column;z-index: 1;position: relative;background-color: white;}#sk-container-id-2 div.sk-parallel-item:first-child::after {align-self: flex-end;width: 50%;}#sk-container-id-2 div.sk-parallel-item:last-child::after {align-self: flex-start;width: 50%;}#sk-container-id-2 div.sk-parallel-item:only-child::after {width: 0;}#sk-container-id-2 div.sk-dashed-wrapped {border: 1px dashed gray;margin: 0 0.4em 0.5em 0.4em;box-sizing: border-box;padding-bottom: 0.4em;background-color: white;}#sk-container-id-2 div.sk-label label {font-family: monospace;font-weight: bold;display: inline-block;line-height: 1.2em;}#sk-container-id-2 div.sk-label-container {text-align: center;}#sk-container-id-2 div.sk-container {/* jupyter's `normalize.less` sets `[hidden] { display: none; }` but bootstrap.min.css set `[hidden] { display: none !important; }` so we also need the `!important` here to be able to override the default hidden behavior on the sphinx rendered scikit-learn.org. See: https://github.com/scikit-learn/scikit-learn/issues/21755 */display: inline-block !important;position: relative;}#sk-container-id-2 div.sk-text-repr-fallback {display: none;}</style><div id=\"sk-container-id-2\" class=\"sk-top-container\"><div class=\"sk-text-repr-fallback\"><pre>KNeighborsClassifier(n_neighbors=2)</pre><b>In a Jupyter environment, please rerun this cell to show the HTML representation or trust the notebook. <br />On GitHub, the HTML representation is unable to render, please try loading this page with nbviewer.org.</b></div><div class=\"sk-container\" hidden><div class=\"sk-item\"><div class=\"sk-estimator sk-toggleable\"><input class=\"sk-toggleable__control sk-hidden--visually\" id=\"sk-estimator-id-2\" type=\"checkbox\" checked><label for=\"sk-estimator-id-2\" class=\"sk-toggleable__label sk-toggleable__label-arrow\">KNeighborsClassifier</label><div class=\"sk-toggleable__content\"><pre>KNeighborsClassifier(n_neighbors=2)</pre></div></div></div></div></div>"
      ],
      "text/plain": [
       "KNeighborsClassifier(n_neighbors=2)"
      ]
     },
     "execution_count": 45,
     "metadata": {},
     "output_type": "execute_result"
    }
   ],
   "source": [
    "model.fit(X_train,y_train)"
   ]
  },
  {
   "cell_type": "code",
   "execution_count": 46,
   "id": "424339e3",
   "metadata": {
    "execution": {
     "iopub.execute_input": "2023-08-15T11:22:29.535245Z",
     "iopub.status.busy": "2023-08-15T11:22:29.534739Z",
     "iopub.status.idle": "2023-08-15T11:22:29.719303Z",
     "shell.execute_reply": "2023-08-15T11:22:29.718196Z"
    },
    "papermill": {
     "duration": 0.203965,
     "end_time": "2023-08-15T11:22:29.721752",
     "exception": false,
     "start_time": "2023-08-15T11:22:29.517787",
     "status": "completed"
    },
    "tags": []
   },
   "outputs": [
    {
     "data": {
      "text/plain": [
       "0.86161279190153"
      ]
     },
     "execution_count": 46,
     "metadata": {},
     "output_type": "execute_result"
    }
   ],
   "source": [
    "model.score(X_train,y_train)"
   ]
  },
  {
   "cell_type": "markdown",
   "id": "c4c33d74",
   "metadata": {
    "papermill": {
     "duration": 0.01542,
     "end_time": "2023-08-15T11:22:29.753233",
     "exception": false,
     "start_time": "2023-08-15T11:22:29.737813",
     "status": "completed"
    },
    "tags": []
   },
   "source": [
    "# RandomForestClassifier"
   ]
  },
  {
   "cell_type": "code",
   "execution_count": 47,
   "id": "bb3e46b7",
   "metadata": {
    "execution": {
     "iopub.execute_input": "2023-08-15T11:22:29.786513Z",
     "iopub.status.busy": "2023-08-15T11:22:29.785235Z",
     "iopub.status.idle": "2023-08-15T11:22:29.934911Z",
     "shell.execute_reply": "2023-08-15T11:22:29.933873Z"
    },
    "papermill": {
     "duration": 0.168471,
     "end_time": "2023-08-15T11:22:29.937108",
     "exception": false,
     "start_time": "2023-08-15T11:22:29.768637",
     "status": "completed"
    },
    "tags": []
   },
   "outputs": [],
   "source": [
    "from sklearn.ensemble import RandomForestClassifier"
   ]
  },
  {
   "cell_type": "code",
   "execution_count": 48,
   "id": "357e80aa",
   "metadata": {
    "execution": {
     "iopub.execute_input": "2023-08-15T11:22:29.971052Z",
     "iopub.status.busy": "2023-08-15T11:22:29.970722Z",
     "iopub.status.idle": "2023-08-15T11:22:29.974714Z",
     "shell.execute_reply": "2023-08-15T11:22:29.973888Z"
    },
    "papermill": {
     "duration": 0.022783,
     "end_time": "2023-08-15T11:22:29.976490",
     "exception": false,
     "start_time": "2023-08-15T11:22:29.953707",
     "status": "completed"
    },
    "tags": []
   },
   "outputs": [],
   "source": [
    "model = RandomForestClassifier()"
   ]
  },
  {
   "cell_type": "code",
   "execution_count": 49,
   "id": "3fe22318",
   "metadata": {
    "execution": {
     "iopub.execute_input": "2023-08-15T11:22:30.011538Z",
     "iopub.status.busy": "2023-08-15T11:22:30.011178Z",
     "iopub.status.idle": "2023-08-15T11:22:31.260212Z",
     "shell.execute_reply": "2023-08-15T11:22:31.259519Z"
    },
    "papermill": {
     "duration": 1.268614,
     "end_time": "2023-08-15T11:22:31.261898",
     "exception": false,
     "start_time": "2023-08-15T11:22:29.993284",
     "status": "completed"
    },
    "tags": []
   },
   "outputs": [
    {
     "data": {
      "text/html": [
       "<style>#sk-container-id-3 {color: black;background-color: white;}#sk-container-id-3 pre{padding: 0;}#sk-container-id-3 div.sk-toggleable {background-color: white;}#sk-container-id-3 label.sk-toggleable__label {cursor: pointer;display: block;width: 100%;margin-bottom: 0;padding: 0.3em;box-sizing: border-box;text-align: center;}#sk-container-id-3 label.sk-toggleable__label-arrow:before {content: \"▸\";float: left;margin-right: 0.25em;color: #696969;}#sk-container-id-3 label.sk-toggleable__label-arrow:hover:before {color: black;}#sk-container-id-3 div.sk-estimator:hover label.sk-toggleable__label-arrow:before {color: black;}#sk-container-id-3 div.sk-toggleable__content {max-height: 0;max-width: 0;overflow: hidden;text-align: left;background-color: #f0f8ff;}#sk-container-id-3 div.sk-toggleable__content pre {margin: 0.2em;color: black;border-radius: 0.25em;background-color: #f0f8ff;}#sk-container-id-3 input.sk-toggleable__control:checked~div.sk-toggleable__content {max-height: 200px;max-width: 100%;overflow: auto;}#sk-container-id-3 input.sk-toggleable__control:checked~label.sk-toggleable__label-arrow:before {content: \"▾\";}#sk-container-id-3 div.sk-estimator input.sk-toggleable__control:checked~label.sk-toggleable__label {background-color: #d4ebff;}#sk-container-id-3 div.sk-label input.sk-toggleable__control:checked~label.sk-toggleable__label {background-color: #d4ebff;}#sk-container-id-3 input.sk-hidden--visually {border: 0;clip: rect(1px 1px 1px 1px);clip: rect(1px, 1px, 1px, 1px);height: 1px;margin: -1px;overflow: hidden;padding: 0;position: absolute;width: 1px;}#sk-container-id-3 div.sk-estimator {font-family: monospace;background-color: #f0f8ff;border: 1px dotted black;border-radius: 0.25em;box-sizing: border-box;margin-bottom: 0.5em;}#sk-container-id-3 div.sk-estimator:hover {background-color: #d4ebff;}#sk-container-id-3 div.sk-parallel-item::after {content: \"\";width: 100%;border-bottom: 1px solid gray;flex-grow: 1;}#sk-container-id-3 div.sk-label:hover label.sk-toggleable__label {background-color: #d4ebff;}#sk-container-id-3 div.sk-serial::before {content: \"\";position: absolute;border-left: 1px solid gray;box-sizing: border-box;top: 0;bottom: 0;left: 50%;z-index: 0;}#sk-container-id-3 div.sk-serial {display: flex;flex-direction: column;align-items: center;background-color: white;padding-right: 0.2em;padding-left: 0.2em;position: relative;}#sk-container-id-3 div.sk-item {position: relative;z-index: 1;}#sk-container-id-3 div.sk-parallel {display: flex;align-items: stretch;justify-content: center;background-color: white;position: relative;}#sk-container-id-3 div.sk-item::before, #sk-container-id-3 div.sk-parallel-item::before {content: \"\";position: absolute;border-left: 1px solid gray;box-sizing: border-box;top: 0;bottom: 0;left: 50%;z-index: -1;}#sk-container-id-3 div.sk-parallel-item {display: flex;flex-direction: column;z-index: 1;position: relative;background-color: white;}#sk-container-id-3 div.sk-parallel-item:first-child::after {align-self: flex-end;width: 50%;}#sk-container-id-3 div.sk-parallel-item:last-child::after {align-self: flex-start;width: 50%;}#sk-container-id-3 div.sk-parallel-item:only-child::after {width: 0;}#sk-container-id-3 div.sk-dashed-wrapped {border: 1px dashed gray;margin: 0 0.4em 0.5em 0.4em;box-sizing: border-box;padding-bottom: 0.4em;background-color: white;}#sk-container-id-3 div.sk-label label {font-family: monospace;font-weight: bold;display: inline-block;line-height: 1.2em;}#sk-container-id-3 div.sk-label-container {text-align: center;}#sk-container-id-3 div.sk-container {/* jupyter's `normalize.less` sets `[hidden] { display: none; }` but bootstrap.min.css set `[hidden] { display: none !important; }` so we also need the `!important` here to be able to override the default hidden behavior on the sphinx rendered scikit-learn.org. See: https://github.com/scikit-learn/scikit-learn/issues/21755 */display: inline-block !important;position: relative;}#sk-container-id-3 div.sk-text-repr-fallback {display: none;}</style><div id=\"sk-container-id-3\" class=\"sk-top-container\"><div class=\"sk-text-repr-fallback\"><pre>RandomForestClassifier()</pre><b>In a Jupyter environment, please rerun this cell to show the HTML representation or trust the notebook. <br />On GitHub, the HTML representation is unable to render, please try loading this page with nbviewer.org.</b></div><div class=\"sk-container\" hidden><div class=\"sk-item\"><div class=\"sk-estimator sk-toggleable\"><input class=\"sk-toggleable__control sk-hidden--visually\" id=\"sk-estimator-id-3\" type=\"checkbox\" checked><label for=\"sk-estimator-id-3\" class=\"sk-toggleable__label sk-toggleable__label-arrow\">RandomForestClassifier</label><div class=\"sk-toggleable__content\"><pre>RandomForestClassifier()</pre></div></div></div></div></div>"
      ],
      "text/plain": [
       "RandomForestClassifier()"
      ]
     },
     "execution_count": 49,
     "metadata": {},
     "output_type": "execute_result"
    }
   ],
   "source": [
    "model.fit(X_train,y_train)"
   ]
  },
  {
   "cell_type": "code",
   "execution_count": 50,
   "id": "2fde0928",
   "metadata": {
    "execution": {
     "iopub.execute_input": "2023-08-15T11:22:31.298087Z",
     "iopub.status.busy": "2023-08-15T11:22:31.296491Z",
     "iopub.status.idle": "2023-08-15T11:22:31.379341Z",
     "shell.execute_reply": "2023-08-15T11:22:31.377720Z"
    },
    "papermill": {
     "duration": 0.1032,
     "end_time": "2023-08-15T11:22:31.381832",
     "exception": false,
     "start_time": "2023-08-15T11:22:31.278632",
     "status": "completed"
    },
    "tags": []
   },
   "outputs": [
    {
     "data": {
      "text/plain": [
       "array([ True, False,  True, ...,  True,  True,  True])"
      ]
     },
     "execution_count": 50,
     "metadata": {},
     "output_type": "execute_result"
    }
   ],
   "source": [
    "y_predict = model.predict(test)\n",
    "y_predict"
   ]
  },
  {
   "cell_type": "code",
   "execution_count": 51,
   "id": "302366cf",
   "metadata": {
    "execution": {
     "iopub.execute_input": "2023-08-15T11:22:31.417005Z",
     "iopub.status.busy": "2023-08-15T11:22:31.416358Z",
     "iopub.status.idle": "2023-08-15T11:22:31.554388Z",
     "shell.execute_reply": "2023-08-15T11:22:31.553739Z"
    },
    "papermill": {
     "duration": 0.15731,
     "end_time": "2023-08-15T11:22:31.556030",
     "exception": false,
     "start_time": "2023-08-15T11:22:31.398720",
     "status": "completed"
    },
    "tags": []
   },
   "outputs": [
    {
     "data": {
      "text/plain": [
       "1.0"
      ]
     },
     "execution_count": 51,
     "metadata": {},
     "output_type": "execute_result"
    }
   ],
   "source": [
    "model.score(X_train,y_train)"
   ]
  },
  {
   "cell_type": "markdown",
   "id": "2d23a12b",
   "metadata": {
    "papermill": {
     "duration": 0.015891,
     "end_time": "2023-08-15T11:22:31.588669",
     "exception": false,
     "start_time": "2023-08-15T11:22:31.572778",
     "status": "completed"
    },
    "tags": []
   },
   "source": [
    "# RandomForestClassifier is the best model"
   ]
  },
  {
   "cell_type": "markdown",
   "id": "51ff8299",
   "metadata": {
    "papermill": {
     "duration": 0.015922,
     "end_time": "2023-08-15T11:22:31.620628",
     "exception": false,
     "start_time": "2023-08-15T11:22:31.604706",
     "status": "completed"
    },
    "tags": []
   },
   "source": [
    "# output"
   ]
  },
  {
   "cell_type": "code",
   "execution_count": 52,
   "id": "41499419",
   "metadata": {
    "execution": {
     "iopub.execute_input": "2023-08-15T11:22:31.655042Z",
     "iopub.status.busy": "2023-08-15T11:22:31.654434Z",
     "iopub.status.idle": "2023-08-15T11:22:31.658716Z",
     "shell.execute_reply": "2023-08-15T11:22:31.658119Z"
    },
    "papermill": {
     "duration": 0.023883,
     "end_time": "2023-08-15T11:22:31.660760",
     "exception": false,
     "start_time": "2023-08-15T11:22:31.636877",
     "status": "completed"
    },
    "tags": []
   },
   "outputs": [],
   "source": [
    "output = pd.DataFrame({\n",
    "    'PassengerId':test.PassengerId,\n",
    "    'Transported':y_predict\n",
    "})"
   ]
  },
  {
   "cell_type": "code",
   "execution_count": 53,
   "id": "1ccd0fc7",
   "metadata": {
    "execution": {
     "iopub.execute_input": "2023-08-15T11:22:31.701129Z",
     "iopub.status.busy": "2023-08-15T11:22:31.700786Z",
     "iopub.status.idle": "2023-08-15T11:22:31.705805Z",
     "shell.execute_reply": "2023-08-15T11:22:31.705165Z"
    },
    "papermill": {
     "duration": 0.027184,
     "end_time": "2023-08-15T11:22:31.707384",
     "exception": false,
     "start_time": "2023-08-15T11:22:31.680200",
     "status": "completed"
    },
    "tags": []
   },
   "outputs": [
    {
     "data": {
      "text/plain": [
       "(4277, 2)"
      ]
     },
     "execution_count": 53,
     "metadata": {},
     "output_type": "execute_result"
    }
   ],
   "source": [
    "output.shape"
   ]
  },
  {
   "cell_type": "code",
   "execution_count": 54,
   "id": "f9f3e830",
   "metadata": {
    "execution": {
     "iopub.execute_input": "2023-08-15T11:22:31.741824Z",
     "iopub.status.busy": "2023-08-15T11:22:31.741508Z",
     "iopub.status.idle": "2023-08-15T11:22:31.752621Z",
     "shell.execute_reply": "2023-08-15T11:22:31.751632Z"
    },
    "papermill": {
     "duration": 0.030204,
     "end_time": "2023-08-15T11:22:31.754422",
     "exception": false,
     "start_time": "2023-08-15T11:22:31.724218",
     "status": "completed"
    },
    "tags": []
   },
   "outputs": [],
   "source": [
    "output.to_csv(r'C:\\Users\\roaia\\Desktop\\Anwar\\New folder\\output.csv',index=False)"
   ]
  }
 ],
 "metadata": {
  "kernelspec": {
   "display_name": "Python 3",
   "language": "python",
   "name": "python3"
  },
  "language_info": {
   "codemirror_mode": {
    "name": "ipython",
    "version": 3
   },
   "file_extension": ".py",
   "mimetype": "text/x-python",
   "name": "python",
   "nbconvert_exporter": "python",
   "pygments_lexer": "ipython3",
   "version": "3.10.12"
  },
  "papermill": {
   "default_parameters": {},
   "duration": 16.77836,
   "end_time": "2023-08-15T11:22:32.791400",
   "environment_variables": {},
   "exception": null,
   "input_path": "__notebook__.ipynb",
   "output_path": "__notebook__.ipynb",
   "parameters": {},
   "start_time": "2023-08-15T11:22:16.013040",
   "version": "2.4.0"
  }
 },
 "nbformat": 4,
 "nbformat_minor": 5
}
